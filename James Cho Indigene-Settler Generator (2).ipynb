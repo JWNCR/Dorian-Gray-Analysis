{
 "cells": [
  {
   "cell_type": "markdown",
   "metadata": {},
   "source": [
    "# Indigene-Settler Diamante Poem Generator\n",
    "### by James Cho\n",
    "\n",
    "(from our assignment instructions below)\n",
    "\n",
    "A diamante poem is a seven-line poem invented by Iris Tiedt in the 1960s. From the Italian word for “diamond,” diamante refers to the characteristic shape of the poem. The form is anchored by two topic words, which are often—but need not be—antithetical to each other; possible pairings include “Order-Chaos“, “Past-Future”, or “Archive-Ephemera.” As an example, consider the following manually composed Archive-Ephemera diamante poem: \n",
    "\n",
    "\n",
    "<p style=\"text-align: center;\">Archive</p>\n",
    "<p style=\"text-align: center;\">vital and vulnerable</p>  \n",
    "<p style=\"text-align: center;\">collecting, safeguarding, disposing</p>\n",
    "<p style=\"text-align: center;\">records & logs, impermanence & flower-of-an-hour</p>\n",
    "<p style=\"text-align: center;\">tossing, disregarding, fleeting</p>\n",
    "<p style=\"text-align: center;\">transient and under-appreciated</p>\n",
    "<p style=\"text-align: center;\">Ephemera</p>\n",
    "\n",
    "\n",
    "The first topic word always appears by itself at the beginning of a diamante poem, while the second appears by itself at the end. The second line of the poem consists of two adjectives describing the first topic, and the third line contains three participles, likewise describing the first topic. The fourth line is transitional, presenting a short phrase related to the first topic (e.g., “records & logs”) and a short phrase related to the second (“impermanence & flower-of-an-hour)”. This is generally the longest line of the poem and serves as its axis of symmetry. It is followed by a shift in focus to the second topic for the remaining lines, which mirror the structure of the first three.\n",
    "\n",
    "Given their formulaic reliance on distinct parts of speech, diamante poems lend themselves to computational generation using NLP techniques. The form, moreover, is plastic enough to accommodate artful deviation from the original rules laid down by Tiedt while still preserving the genre’s overall spirit and character.  The topic words, for example, can relate to each other in a variety of ways: one might be an antonym of another (Night-Day), a meronym of another (Cork-Wine Bottle), a hypernym of another (Music-Jazz), or hyponym of the other (Bestiary-Book); or else the two might simply be associative in some way or share a common conceptual domain (e.g., “Moon” and “Star” are both celestial objects). The transitional fourth line is also fairly open-ended, allowing for a wide range of creative approaches, with the main stipulation being what we might loosely conceive of as a caesura separating phraseology about the first topic from phraseology about the second. \n",
    "\n",
    "(Sidenote: The demo version of this generator uses adjectives and other descriptors pulled from the Project Gutenberg Poetry Corpus created by Allison Parrish. https://github.com/aparrish/gutenberg-poetry-corpus.)\n",
    "\n",
    "The Diamante program is a simple text generator. The key ingredients of the Python program can be easily enumerated:\n",
    "\n",
    "1. A repetitive template or structure\n",
    "2. Data that can be used to populate the slots in the template\n",
    "3. A reliance on randomness to select items from the available data and insert them in the appropriate slots in the poem\n",
    "4. A loop structure that will continuously output new results"
   ]
  },
  {
   "cell_type": "markdown",
   "metadata": {},
   "source": [
    "## Due: 12 October\n",
    "\n",
    "Your notebook for this assignment should contain the following:\n",
    "\n",
    "Your modded Diamante Poetry Generator (give it a new title!)\n",
    "One or more illustrations (review the Jupyter Notebook devoted to markdown to see how to add images)\n",
    "Artist’s Statement (750-1200 words, carefully proofread and formatted using Markdown)\n",
    "\n",
    "For this assignment you’ll modify the Diamante Poetry Generator to create a customized version by substituting my words and descriptors with your own. In your artist's statement, you should select 2-3 stanza outputs to curate and briefly discuss.\n",
    "\n",
    "In broad strokes, your artist’s statement should offer a short narrative or account of the thought processes that led you to your overarching idea, as well as a discussion of how you attempted to realize that vision or idea, capturing any setbacks or challenges you encountered along the way, either artistically or technologically. More specifically, here are some of the questions you should entertain and address:\n",
    "\n",
    "1. What is the intended theme or style of your piece? Are the atmospherics mysterious, meditative, comic, campy, or something else entirely? Were you inspired by any particular books, films, or other media?\n",
    "2. Did you encounter any setbacks, either artistic or technological? How did you address them?\n",
    "3. What illustrations did you choose and why?\n",
    "4. What made you select the stanzas you did for curation? What intrigued you about them?\n",
    "5. Do you feel any creative ownership over your modded version? Why or why not? Who is the author (or authors) of your modded version--you or the machine? \n",
    "6. You should also give consideration to evaluation criteria for combinatorial poetry, per our class discussion of Scott Rettberg’s chapter 2 in Electronic Literature. After observing that print poems are static while computer-generated poems are permutational, Rettberg stakes out the following position on what makes a combinatorial poem good or bad:\n",
    "\n",
    ">While the author of a poem intended for print publication is striving for a singularity – the one perfect expression of what they are trying to communicate – the author of a poetry generator is striving for multiplicity. A combinatory poetry generator uses variables to produce a factorial number of outputs. When this is the case, not all the outputs will be equally interesting as literature. But the best systems will produce outputs that are compelling literary experiences more often than not. The goal for the author of a combinatory work is not to produce the best literary expression of an idea, but the most interesting range of possibilities the literary system can produce. (Rettberg, 43).\n",
    "\n",
    "How have you attempted to “strive for multiplicity” and “the most interesting range of possibilities” that your Diamante mod is capable of?\n",
    "\n",
    "The assignment will be assessed according to the following criteria (adapted from Professor Mark Sample at Davidson College):\n",
    "\n",
    "1. Craft (the degree of mastery of the mode of composition or representation)\n",
    "2. Intention (the sense of intentionality and deliberateness of the work)\n",
    "3. Theme (the level of engagement with the designated theme of the mod)\n",
    "4. Argument (the degree to which your project and artist’s statement make a claim or thoughtful argument about electronic literature, authorship, combinatorial poetry, and related topics we’ve discussed in class that are relevant to the assignment)\n",
    "5. Resiliency (the degree to which you're able to resourcefully recover from failure when something in your project goes spectacularly wrong)\n",
    "\n",
    "Fostering an Atmosphere of Trust and Respect\n",
    "Since we'll often share work, I want to include additional guidelines for fostering an atmosphere of trust and respect. When formulating your ideas and pursuing projects and experiments, please heed the excellent advice offered by professor and e-lit author extraordinaire Allison Parrish:\n",
    "\n",
    "> Read Leonard Richardson’s \"Bots Should Punch Up\". \n",
    "\n",
    ">“You can poke fun at yourself (Stephen Colbert famously said ‘There’s no status I would not surrender for a joke’), you can make a joke at the expense of someone with higher social status than you, but if you mock someone with lower status, it’s not cool.” Be sensitive to what your classmates (and others) might find offensive, triggering, or violent; be graceful (not defensive) and listen carefully when your work gets called out.\n",
    "\n",
    "Note: you can copy-and-paste code cells to create duplicates. You might want to create several cells with the \"House of Dust\" code so that if you make a mistake and get an error message, you can start with a fresh cell. Review the first notebook if you've forgotten how to add and delete cells. You can also make copies of your notebook by selecting \"Make a Copy\" from the \"File\" pulldown menu at the top of your screen. I'd encourage you to make several copies so that if you break the code, you can start with a fresh notebook."
   ]
  },
  {
   "cell_type": "markdown",
   "metadata": {},
   "source": [
    "Run the cells below to import the Python libraries you need."
   ]
  },
  {
   "cell_type": "code",
   "execution_count": 1,
   "metadata": {},
   "outputs": [],
   "source": [
    "import random\n",
    "from random import choice"
   ]
  },
  {
   "cell_type": "code",
   "execution_count": 2,
   "metadata": {},
   "outputs": [],
   "source": [
    "import os"
   ]
  },
  {
   "cell_type": "code",
   "execution_count": 3,
   "metadata": {},
   "outputs": [],
   "source": [
    "import time"
   ]
  },
  {
   "cell_type": "code",
   "execution_count": 4,
   "metadata": {},
   "outputs": [
    {
     "name": "stderr",
     "output_type": "stream",
     "text": [
      "C:\\Users\\james\\AppData\\Local\\Temp\\ipykernel_18964\\451052195.py:2: DeprecationWarning: Importing display from IPython.core.display is deprecated since IPython 7.14, please import from IPython display\n",
      "  from IPython.core.display import display, HTML\n"
     ]
    }
   ],
   "source": [
    "import IPython\n",
    "from IPython.core.display import display, HTML"
   ]
  },
  {
   "cell_type": "markdown",
   "metadata": {},
   "source": [
    "If you get an error message when you run the above code cell, try the one below:"
   ]
  },
  {
   "cell_type": "code",
   "execution_count": 5,
   "metadata": {},
   "outputs": [],
   "source": [
    "import IPython\n",
    "import IPython.display\n",
    "from IPython.display import HTML"
   ]
  },
  {
   "cell_type": "markdown",
   "metadata": {},
   "source": [
    "Choose two topic words and write them in a new markdown cell below this one.\n",
    "\n",
    "When you're working with this generator, be sure to leave the code intact when you replace my words with your own. The syntax should remain the same. For example, when you replace my adjectives with yours, be sure that commas, quotation marks, and square brackets remain undisturbed. You should, in essence, be altering data, not code."
   ]
  },
  {
   "cell_type": "markdown",
   "metadata": {},
   "source": [
    "Indigene-Settler"
   ]
  },
  {
   "cell_type": "markdown",
   "metadata": {},
   "source": [
    "As a demo, the diamante generator uses the set of topic words SHIP-BOOK. In the next cell, replace the adjectives I've used to describe a ship with your own adjectives that describe your first topic word. If you have just a few adjectives, delete the remainder of mine that you don't have substitutes for. If you have more adjectives than me, add them, being sure to place them between single quotation marks and separate them with a comma. Don't forget to then run the cell by clicking the \"Run\" button at the top of the screen."
   ]
  },
  {
   "cell_type": "code",
   "execution_count": 6,
   "metadata": {},
   "outputs": [],
   "source": [
    "first_topic = ['First Peoples', #replace words between quotation marks with your own adjectives that describe your first topic word\n",
    " 'Precolonial',\n",
    " 'Modern',\n",
    " 'Native',\n",
    " 'Resiliant',\n",
    " 'Autonomous',\n",
    "'Sovereign',\n",
    "'Diverse',\n",
    "'Stewards',\n",
    "'Contemporary',\n",
    "'Diverse']"
   ]
  },
  {
   "cell_type": "markdown",
   "metadata": {},
   "source": [
    "In the next cell, replace the adjectives I've used to describe \"book\" with your own adjectives used to describe your second topic word. Be sure to run the cell after you've made your alterations."
   ]
  },
  {
   "cell_type": "code",
   "execution_count": 7,
   "metadata": {},
   "outputs": [],
   "source": [
    "second_topic = ['Squatter', #replace words between quotation marks with your own adjectives that describe your second topic word\n",
    " 'Settler-Colonialist',\n",
    "'Scalper',\n",
    " 'Rancher',\n",
    " 'Land Grabber',\n",
    " 'Coloniser',\n",
    " 'Frontiersman',\n",
    "'Assimilator',\n",
    "'Allotter',\n",
    "'Exogenous Other',\n",
    "'Ranger',\n",
    "'Stereotyper',\n",
    "'Imperialist']"
   ]
  },
  {
   "cell_type": "markdown",
   "metadata": {},
   "source": [
    "In the cell below, replace the -ing words used to describe ship with your own present participles (ending in \"ing\") to describe your first topic word. Don't forget to run the cell."
   ]
  },
  {
   "cell_type": "code",
   "execution_count": 8,
   "metadata": {},
   "outputs": [],
   "source": [
    "first_topic_ing = ['Resisting', #replace ing words with your own ing words describing your first topic word\n",
    " 'Preserving',\n",
    " 'Lobbying',\n",
    " 'Culture Reclaiming',\n",
    " 'Revitalising',\n",
    " 'Protesting',\n",
    "'Defending',\n",
    "'Rights-Asserting',\n",
    "'Treaty Affirming',\n",
    "'Decolonising']"
   ]
  },
  {
   "cell_type": "markdown",
   "metadata": {},
   "source": [
    "In the cell below, replace the -ing words used to describe book with your own present participles (ending in \"ing\") to describe your SECOND topic word. Run the cell."
   ]
  },
  {
   "cell_type": "code",
   "execution_count": 9,
   "metadata": {},
   "outputs": [],
   "source": [
    "second_topic_ing = ['Occupying', #replace ing words with your own ing words describing your second topic word\n",
    " 'Displacing',\n",
    " 'Exploiting',\n",
    " 'Eliminating',\n",
    " 'Farming',\n",
    " 'Razing',\n",
    "'Alloting',\n",
    "'School Boarding',\n",
    "'Subduing',\n",
    "'Encroaching',\n",
    "'Manipulating']"
   ]
  },
  {
   "cell_type": "markdown",
   "metadata": {},
   "source": [
    "For the fourth line, you need a list of expressions describing your first topic word. Replace my expressions in the cell below with your own phrases or expressions that relate to your first topic word. Then run the cell."
   ]
  },
  {
   "cell_type": "code",
   "execution_count": 10,
   "metadata": {},
   "outputs": [],
   "source": [
    "first_topic_transition = ['Federally Ignored', #replace phrases in single quotation marks with your own phrases related to your first topic word\n",
    " 'Politically Shunned',\n",
    " 'Checker-Boarded',\n",
    "'Culturally Appropriated',\n",
    "'Continually Strengthening',\n",
    "'Communally Resistant',\n",
    "'Self-Governing',\n",
    "'Recognised Globally',\n",
    "'Governmentally Unrecognised',\n",
    "'Contemporary Stewards']"
   ]
  },
  {
   "cell_type": "markdown",
   "metadata": {},
   "source": [
    "For the fourth line, you need a list of expressions describing your SECOND topic word. Replace my expressions in the cell below with your own phrases or expressions that relate to your SECOND topic word. Then run the cell."
   ]
  },
  {
   "cell_type": "code",
   "execution_count": 11,
   "metadata": {},
   "outputs": [],
   "source": [
    "second_topic_transition = ['Continuously Expanding', #replace phrases in single quotation marks with your own phrases related to your second topic word \n",
    " 'Contemporary Invader',\n",
    " 'Narrative Controller',\n",
    "'Reparation Denier',\n",
    "'Golf Course Maker',\n",
    "'Blood Quantamiser',\n",
    "'Politically dominant',\n",
    "'Cultural Repressor',\n",
    "'Tribal Generaliser',\n",
    "'Trained Assimilator']"
   ]
  },
  {
   "cell_type": "markdown",
   "metadata": {},
   "source": [
    "In the cell below, replace \"SHIP\" in the first line with your first topic word. Then replace \"BOOK\" toward the end of the code cell with your second topic word. be sure not to alter any of the code. After that, you can run the generator."
   ]
  },
  {
   "cell_type": "code",
   "execution_count": 12,
   "metadata": {
    "scrolled": true
   },
   "outputs": [
    {
     "name": "stdout",
     "output_type": "stream",
     "text": [
      "\n"
     ]
    },
    {
     "data": {
      "text/html": [
       "<center><font face=\"garamond\" size=\"4\"> Indigene </font></center>"
      ],
      "text/plain": [
       "<IPython.core.display.HTML object>"
      ]
     },
     "metadata": {},
     "output_type": "display_data"
    },
    {
     "data": {
      "text/html": [
       "<center><font face=\"garamond\" size=\"4\">Diverse and Modern</font></center>"
      ],
      "text/plain": [
       "<IPython.core.display.HTML object>"
      ]
     },
     "metadata": {},
     "output_type": "display_data"
    },
    {
     "data": {
      "text/html": [
       "<center><font face=\"garamond\" size=\"4\">Protesting, Revitalising, Lobbying</font></center>"
      ],
      "text/plain": [
       "<IPython.core.display.HTML object>"
      ]
     },
     "metadata": {},
     "output_type": "display_data"
    },
    {
     "data": {
      "text/html": [
       "<center><font face=\"garamond\" size=\"4\">Culturally Appropriated and Tribal Generaliser</font></center>"
      ],
      "text/plain": [
       "<IPython.core.display.HTML object>"
      ]
     },
     "metadata": {},
     "output_type": "display_data"
    },
    {
     "data": {
      "text/html": [
       "<center><font face=\"garamond\" size=\"4\">Encroaching, Manipulating, Occupying</font></center>"
      ],
      "text/plain": [
       "<IPython.core.display.HTML object>"
      ]
     },
     "metadata": {},
     "output_type": "display_data"
    },
    {
     "data": {
      "text/html": [
       "<center><font face=\"garamond\" size=\"4\">Imperialist and Rancher</font></center>"
      ],
      "text/plain": [
       "<IPython.core.display.HTML object>"
      ]
     },
     "metadata": {},
     "output_type": "display_data"
    },
    {
     "data": {
      "text/html": [
       "<center><font face=\"garamond\" size=\"4\"> Settler </font></center>"
      ],
      "text/plain": [
       "<IPython.core.display.HTML object>"
      ]
     },
     "metadata": {},
     "output_type": "display_data"
    },
    {
     "name": "stdout",
     "output_type": "stream",
     "text": [
      "\n",
      "\n"
     ]
    },
    {
     "data": {
      "text/html": [
       "<center><font face=\"garamond\" size=\"4\"> Indigene </font></center>"
      ],
      "text/plain": [
       "<IPython.core.display.HTML object>"
      ]
     },
     "metadata": {},
     "output_type": "display_data"
    },
    {
     "data": {
      "text/html": [
       "<center><font face=\"garamond\" size=\"4\">Sovereign and Autonomous</font></center>"
      ],
      "text/plain": [
       "<IPython.core.display.HTML object>"
      ]
     },
     "metadata": {},
     "output_type": "display_data"
    },
    {
     "data": {
      "text/html": [
       "<center><font face=\"garamond\" size=\"4\">Preserving, Rights-Asserting, Treaty Affirming</font></center>"
      ],
      "text/plain": [
       "<IPython.core.display.HTML object>"
      ]
     },
     "metadata": {},
     "output_type": "display_data"
    },
    {
     "data": {
      "text/html": [
       "<center><font face=\"garamond\" size=\"4\">Governmentally Unrecognised and Blood Quantamiser</font></center>"
      ],
      "text/plain": [
       "<IPython.core.display.HTML object>"
      ]
     },
     "metadata": {},
     "output_type": "display_data"
    },
    {
     "data": {
      "text/html": [
       "<center><font face=\"garamond\" size=\"4\">Occupying, Exploiting, Manipulating</font></center>"
      ],
      "text/plain": [
       "<IPython.core.display.HTML object>"
      ]
     },
     "metadata": {},
     "output_type": "display_data"
    },
    {
     "data": {
      "text/html": [
       "<center><font face=\"garamond\" size=\"4\">Assimilator and Exogenous Other</font></center>"
      ],
      "text/plain": [
       "<IPython.core.display.HTML object>"
      ]
     },
     "metadata": {},
     "output_type": "display_data"
    },
    {
     "data": {
      "text/html": [
       "<center><font face=\"garamond\" size=\"4\"> Settler </font></center>"
      ],
      "text/plain": [
       "<IPython.core.display.HTML object>"
      ]
     },
     "metadata": {},
     "output_type": "display_data"
    },
    {
     "name": "stdout",
     "output_type": "stream",
     "text": [
      "\n",
      "\n"
     ]
    },
    {
     "data": {
      "text/html": [
       "<center><font face=\"garamond\" size=\"4\"> Indigene </font></center>"
      ],
      "text/plain": [
       "<IPython.core.display.HTML object>"
      ]
     },
     "metadata": {},
     "output_type": "display_data"
    },
    {
     "data": {
      "text/html": [
       "<center><font face=\"garamond\" size=\"4\">First Peoples and Contemporary</font></center>"
      ],
      "text/plain": [
       "<IPython.core.display.HTML object>"
      ]
     },
     "metadata": {},
     "output_type": "display_data"
    },
    {
     "data": {
      "text/html": [
       "<center><font face=\"garamond\" size=\"4\">Culture Reclaiming, Decolonising, Treaty Affirming</font></center>"
      ],
      "text/plain": [
       "<IPython.core.display.HTML object>"
      ]
     },
     "metadata": {},
     "output_type": "display_data"
    },
    {
     "data": {
      "text/html": [
       "<center><font face=\"garamond\" size=\"4\">Contemporary Stewards and Tribal Generaliser</font></center>"
      ],
      "text/plain": [
       "<IPython.core.display.HTML object>"
      ]
     },
     "metadata": {},
     "output_type": "display_data"
    },
    {
     "data": {
      "text/html": [
       "<center><font face=\"garamond\" size=\"4\">Alloting, Eliminating, Occupying</font></center>"
      ],
      "text/plain": [
       "<IPython.core.display.HTML object>"
      ]
     },
     "metadata": {},
     "output_type": "display_data"
    },
    {
     "data": {
      "text/html": [
       "<center><font face=\"garamond\" size=\"4\">Imperialist and Settler-Colonialist</font></center>"
      ],
      "text/plain": [
       "<IPython.core.display.HTML object>"
      ]
     },
     "metadata": {},
     "output_type": "display_data"
    },
    {
     "data": {
      "text/html": [
       "<center><font face=\"garamond\" size=\"4\"> Settler </font></center>"
      ],
      "text/plain": [
       "<IPython.core.display.HTML object>"
      ]
     },
     "metadata": {},
     "output_type": "display_data"
    },
    {
     "name": "stdout",
     "output_type": "stream",
     "text": [
      "\n",
      "\n"
     ]
    },
    {
     "data": {
      "text/html": [
       "<center><font face=\"garamond\" size=\"4\"> Indigene </font></center>"
      ],
      "text/plain": [
       "<IPython.core.display.HTML object>"
      ]
     },
     "metadata": {},
     "output_type": "display_data"
    },
    {
     "data": {
      "text/html": [
       "<center><font face=\"garamond\" size=\"4\">Precolonial and Native</font></center>"
      ],
      "text/plain": [
       "<IPython.core.display.HTML object>"
      ]
     },
     "metadata": {},
     "output_type": "display_data"
    },
    {
     "data": {
      "text/html": [
       "<center><font face=\"garamond\" size=\"4\">Revitalising, Defending, Preserving</font></center>"
      ],
      "text/plain": [
       "<IPython.core.display.HTML object>"
      ]
     },
     "metadata": {},
     "output_type": "display_data"
    },
    {
     "data": {
      "text/html": [
       "<center><font face=\"garamond\" size=\"4\">Communally Resistant and Blood Quantamiser</font></center>"
      ],
      "text/plain": [
       "<IPython.core.display.HTML object>"
      ]
     },
     "metadata": {},
     "output_type": "display_data"
    },
    {
     "data": {
      "text/html": [
       "<center><font face=\"garamond\" size=\"4\">Subduing, Farming, Exploiting</font></center>"
      ],
      "text/plain": [
       "<IPython.core.display.HTML object>"
      ]
     },
     "metadata": {},
     "output_type": "display_data"
    },
    {
     "data": {
      "text/html": [
       "<center><font face=\"garamond\" size=\"4\">Frontiersman and Rancher</font></center>"
      ],
      "text/plain": [
       "<IPython.core.display.HTML object>"
      ]
     },
     "metadata": {},
     "output_type": "display_data"
    },
    {
     "data": {
      "text/html": [
       "<center><font face=\"garamond\" size=\"4\"> Settler </font></center>"
      ],
      "text/plain": [
       "<IPython.core.display.HTML object>"
      ]
     },
     "metadata": {},
     "output_type": "display_data"
    },
    {
     "name": "stdout",
     "output_type": "stream",
     "text": [
      "\n",
      "\n"
     ]
    },
    {
     "data": {
      "text/html": [
       "<center><font face=\"garamond\" size=\"4\"> Indigene </font></center>"
      ],
      "text/plain": [
       "<IPython.core.display.HTML object>"
      ]
     },
     "metadata": {},
     "output_type": "display_data"
    },
    {
     "data": {
      "text/html": [
       "<center><font face=\"garamond\" size=\"4\">Resiliant and Contemporary</font></center>"
      ],
      "text/plain": [
       "<IPython.core.display.HTML object>"
      ]
     },
     "metadata": {},
     "output_type": "display_data"
    },
    {
     "data": {
      "text/html": [
       "<center><font face=\"garamond\" size=\"4\">Revitalising, Culture Reclaiming, Lobbying</font></center>"
      ],
      "text/plain": [
       "<IPython.core.display.HTML object>"
      ]
     },
     "metadata": {},
     "output_type": "display_data"
    },
    {
     "data": {
      "text/html": [
       "<center><font face=\"garamond\" size=\"4\">Communally Resistant and Reparation Denier</font></center>"
      ],
      "text/plain": [
       "<IPython.core.display.HTML object>"
      ]
     },
     "metadata": {},
     "output_type": "display_data"
    },
    {
     "data": {
      "text/html": [
       "<center><font face=\"garamond\" size=\"4\">School Boarding, Subduing, Farming</font></center>"
      ],
      "text/plain": [
       "<IPython.core.display.HTML object>"
      ]
     },
     "metadata": {},
     "output_type": "display_data"
    },
    {
     "data": {
      "text/html": [
       "<center><font face=\"garamond\" size=\"4\">Frontiersman and Exogenous Other</font></center>"
      ],
      "text/plain": [
       "<IPython.core.display.HTML object>"
      ]
     },
     "metadata": {},
     "output_type": "display_data"
    },
    {
     "data": {
      "text/html": [
       "<center><font face=\"garamond\" size=\"4\"> Settler </font></center>"
      ],
      "text/plain": [
       "<IPython.core.display.HTML object>"
      ]
     },
     "metadata": {},
     "output_type": "display_data"
    },
    {
     "name": "stdout",
     "output_type": "stream",
     "text": [
      "\n",
      "\n"
     ]
    },
    {
     "data": {
      "text/html": [
       "<center><font face=\"garamond\" size=\"4\"> Indigene </font></center>"
      ],
      "text/plain": [
       "<IPython.core.display.HTML object>"
      ]
     },
     "metadata": {},
     "output_type": "display_data"
    },
    {
     "data": {
      "text/html": [
       "<center><font face=\"garamond\" size=\"4\">Modern and Resiliant</font></center>"
      ],
      "text/plain": [
       "<IPython.core.display.HTML object>"
      ]
     },
     "metadata": {},
     "output_type": "display_data"
    },
    {
     "data": {
      "text/html": [
       "<center><font face=\"garamond\" size=\"4\">Decolonising, Revitalising, Rights-Asserting</font></center>"
      ],
      "text/plain": [
       "<IPython.core.display.HTML object>"
      ]
     },
     "metadata": {},
     "output_type": "display_data"
    },
    {
     "data": {
      "text/html": [
       "<center><font face=\"garamond\" size=\"4\">Communally Resistant and Reparation Denier</font></center>"
      ],
      "text/plain": [
       "<IPython.core.display.HTML object>"
      ]
     },
     "metadata": {},
     "output_type": "display_data"
    },
    {
     "data": {
      "text/html": [
       "<center><font face=\"garamond\" size=\"4\">Subduing, School Boarding, Encroaching</font></center>"
      ],
      "text/plain": [
       "<IPython.core.display.HTML object>"
      ]
     },
     "metadata": {},
     "output_type": "display_data"
    },
    {
     "data": {
      "text/html": [
       "<center><font face=\"garamond\" size=\"4\">Rancher and Coloniser</font></center>"
      ],
      "text/plain": [
       "<IPython.core.display.HTML object>"
      ]
     },
     "metadata": {},
     "output_type": "display_data"
    },
    {
     "data": {
      "text/html": [
       "<center><font face=\"garamond\" size=\"4\"> Settler </font></center>"
      ],
      "text/plain": [
       "<IPython.core.display.HTML object>"
      ]
     },
     "metadata": {},
     "output_type": "display_data"
    },
    {
     "name": "stdout",
     "output_type": "stream",
     "text": [
      "\n",
      "\n"
     ]
    },
    {
     "data": {
      "text/html": [
       "<center><font face=\"garamond\" size=\"4\"> Indigene </font></center>"
      ],
      "text/plain": [
       "<IPython.core.display.HTML object>"
      ]
     },
     "metadata": {},
     "output_type": "display_data"
    },
    {
     "data": {
      "text/html": [
       "<center><font face=\"garamond\" size=\"4\">Contemporary and Resiliant</font></center>"
      ],
      "text/plain": [
       "<IPython.core.display.HTML object>"
      ]
     },
     "metadata": {},
     "output_type": "display_data"
    },
    {
     "data": {
      "text/html": [
       "<center><font face=\"garamond\" size=\"4\">Protesting, Rights-Asserting, Defending</font></center>"
      ],
      "text/plain": [
       "<IPython.core.display.HTML object>"
      ]
     },
     "metadata": {},
     "output_type": "display_data"
    },
    {
     "data": {
      "text/html": [
       "<center><font face=\"garamond\" size=\"4\">Continually Strengthening and Tribal Generaliser</font></center>"
      ],
      "text/plain": [
       "<IPython.core.display.HTML object>"
      ]
     },
     "metadata": {},
     "output_type": "display_data"
    },
    {
     "data": {
      "text/html": [
       "<center><font face=\"garamond\" size=\"4\">Displacing, School Boarding, Manipulating</font></center>"
      ],
      "text/plain": [
       "<IPython.core.display.HTML object>"
      ]
     },
     "metadata": {},
     "output_type": "display_data"
    },
    {
     "data": {
      "text/html": [
       "<center><font face=\"garamond\" size=\"4\">Exogenous Other and Imperialist</font></center>"
      ],
      "text/plain": [
       "<IPython.core.display.HTML object>"
      ]
     },
     "metadata": {},
     "output_type": "display_data"
    },
    {
     "data": {
      "text/html": [
       "<center><font face=\"garamond\" size=\"4\"> Settler </font></center>"
      ],
      "text/plain": [
       "<IPython.core.display.HTML object>"
      ]
     },
     "metadata": {},
     "output_type": "display_data"
    },
    {
     "name": "stdout",
     "output_type": "stream",
     "text": [
      "\n",
      "\n"
     ]
    },
    {
     "data": {
      "text/html": [
       "<center><font face=\"garamond\" size=\"4\"> Indigene </font></center>"
      ],
      "text/plain": [
       "<IPython.core.display.HTML object>"
      ]
     },
     "metadata": {},
     "output_type": "display_data"
    },
    {
     "data": {
      "text/html": [
       "<center><font face=\"garamond\" size=\"4\">First Peoples and Resiliant</font></center>"
      ],
      "text/plain": [
       "<IPython.core.display.HTML object>"
      ]
     },
     "metadata": {},
     "output_type": "display_data"
    },
    {
     "data": {
      "text/html": [
       "<center><font face=\"garamond\" size=\"4\">Defending, Treaty Affirming, Lobbying</font></center>"
      ],
      "text/plain": [
       "<IPython.core.display.HTML object>"
      ]
     },
     "metadata": {},
     "output_type": "display_data"
    },
    {
     "data": {
      "text/html": [
       "<center><font face=\"garamond\" size=\"4\">Recognised Globally and Narrative Controller</font></center>"
      ],
      "text/plain": [
       "<IPython.core.display.HTML object>"
      ]
     },
     "metadata": {},
     "output_type": "display_data"
    },
    {
     "data": {
      "text/html": [
       "<center><font face=\"garamond\" size=\"4\">Subduing, Displacing, Alloting</font></center>"
      ],
      "text/plain": [
       "<IPython.core.display.HTML object>"
      ]
     },
     "metadata": {},
     "output_type": "display_data"
    },
    {
     "data": {
      "text/html": [
       "<center><font face=\"garamond\" size=\"4\">Imperialist and Scalper</font></center>"
      ],
      "text/plain": [
       "<IPython.core.display.HTML object>"
      ]
     },
     "metadata": {},
     "output_type": "display_data"
    },
    {
     "data": {
      "text/html": [
       "<center><font face=\"garamond\" size=\"4\"> Settler </font></center>"
      ],
      "text/plain": [
       "<IPython.core.display.HTML object>"
      ]
     },
     "metadata": {},
     "output_type": "display_data"
    },
    {
     "name": "stdout",
     "output_type": "stream",
     "text": [
      "\n",
      "\n"
     ]
    },
    {
     "data": {
      "text/html": [
       "<center><font face=\"garamond\" size=\"4\"> Indigene </font></center>"
      ],
      "text/plain": [
       "<IPython.core.display.HTML object>"
      ]
     },
     "metadata": {},
     "output_type": "display_data"
    },
    {
     "data": {
      "text/html": [
       "<center><font face=\"garamond\" size=\"4\">Stewards and Native</font></center>"
      ],
      "text/plain": [
       "<IPython.core.display.HTML object>"
      ]
     },
     "metadata": {},
     "output_type": "display_data"
    },
    {
     "data": {
      "text/html": [
       "<center><font face=\"garamond\" size=\"4\">Lobbying, Decolonising, Resisting</font></center>"
      ],
      "text/plain": [
       "<IPython.core.display.HTML object>"
      ]
     },
     "metadata": {},
     "output_type": "display_data"
    },
    {
     "data": {
      "text/html": [
       "<center><font face=\"garamond\" size=\"4\">Recognised Globally and Continuously Expanding</font></center>"
      ],
      "text/plain": [
       "<IPython.core.display.HTML object>"
      ]
     },
     "metadata": {},
     "output_type": "display_data"
    },
    {
     "data": {
      "text/html": [
       "<center><font face=\"garamond\" size=\"4\">Razing, Alloting, Occupying</font></center>"
      ],
      "text/plain": [
       "<IPython.core.display.HTML object>"
      ]
     },
     "metadata": {},
     "output_type": "display_data"
    },
    {
     "data": {
      "text/html": [
       "<center><font face=\"garamond\" size=\"4\">Assimilator and Imperialist</font></center>"
      ],
      "text/plain": [
       "<IPython.core.display.HTML object>"
      ]
     },
     "metadata": {},
     "output_type": "display_data"
    },
    {
     "data": {
      "text/html": [
       "<center><font face=\"garamond\" size=\"4\"> Settler </font></center>"
      ],
      "text/plain": [
       "<IPython.core.display.HTML object>"
      ]
     },
     "metadata": {},
     "output_type": "display_data"
    },
    {
     "name": "stdout",
     "output_type": "stream",
     "text": [
      "\n",
      "\n"
     ]
    },
    {
     "data": {
      "text/html": [
       "<center><font face=\"garamond\" size=\"4\"> Indigene </font></center>"
      ],
      "text/plain": [
       "<IPython.core.display.HTML object>"
      ]
     },
     "metadata": {},
     "output_type": "display_data"
    },
    {
     "data": {
      "text/html": [
       "<center><font face=\"garamond\" size=\"4\">Resiliant and Modern</font></center>"
      ],
      "text/plain": [
       "<IPython.core.display.HTML object>"
      ]
     },
     "metadata": {},
     "output_type": "display_data"
    },
    {
     "data": {
      "text/html": [
       "<center><font face=\"garamond\" size=\"4\">Resisting, Lobbying, Decolonising</font></center>"
      ],
      "text/plain": [
       "<IPython.core.display.HTML object>"
      ]
     },
     "metadata": {},
     "output_type": "display_data"
    },
    {
     "data": {
      "text/html": [
       "<center><font face=\"garamond\" size=\"4\">Politically Shunned and Politically dominant</font></center>"
      ],
      "text/plain": [
       "<IPython.core.display.HTML object>"
      ]
     },
     "metadata": {},
     "output_type": "display_data"
    },
    {
     "data": {
      "text/html": [
       "<center><font face=\"garamond\" size=\"4\">Razing, Exploiting, Alloting</font></center>"
      ],
      "text/plain": [
       "<IPython.core.display.HTML object>"
      ]
     },
     "metadata": {},
     "output_type": "display_data"
    },
    {
     "data": {
      "text/html": [
       "<center><font face=\"garamond\" size=\"4\">Scalper and Allotter</font></center>"
      ],
      "text/plain": [
       "<IPython.core.display.HTML object>"
      ]
     },
     "metadata": {},
     "output_type": "display_data"
    },
    {
     "data": {
      "text/html": [
       "<center><font face=\"garamond\" size=\"4\"> Settler </font></center>"
      ],
      "text/plain": [
       "<IPython.core.display.HTML object>"
      ]
     },
     "metadata": {},
     "output_type": "display_data"
    },
    {
     "name": "stdout",
     "output_type": "stream",
     "text": [
      "\n",
      "\n"
     ]
    },
    {
     "data": {
      "text/html": [
       "<center><font face=\"garamond\" size=\"4\"> Indigene </font></center>"
      ],
      "text/plain": [
       "<IPython.core.display.HTML object>"
      ]
     },
     "metadata": {},
     "output_type": "display_data"
    },
    {
     "data": {
      "text/html": [
       "<center><font face=\"garamond\" size=\"4\">Precolonial and Diverse</font></center>"
      ],
      "text/plain": [
       "<IPython.core.display.HTML object>"
      ]
     },
     "metadata": {},
     "output_type": "display_data"
    },
    {
     "data": {
      "text/html": [
       "<center><font face=\"garamond\" size=\"4\">Revitalising, Rights-Asserting, Decolonising</font></center>"
      ],
      "text/plain": [
       "<IPython.core.display.HTML object>"
      ]
     },
     "metadata": {},
     "output_type": "display_data"
    },
    {
     "data": {
      "text/html": [
       "<center><font face=\"garamond\" size=\"4\">Contemporary Stewards and Tribal Generaliser</font></center>"
      ],
      "text/plain": [
       "<IPython.core.display.HTML object>"
      ]
     },
     "metadata": {},
     "output_type": "display_data"
    },
    {
     "data": {
      "text/html": [
       "<center><font face=\"garamond\" size=\"4\">Exploiting, Farming, Occupying</font></center>"
      ],
      "text/plain": [
       "<IPython.core.display.HTML object>"
      ]
     },
     "metadata": {},
     "output_type": "display_data"
    },
    {
     "data": {
      "text/html": [
       "<center><font face=\"garamond\" size=\"4\">Imperialist and Assimilator</font></center>"
      ],
      "text/plain": [
       "<IPython.core.display.HTML object>"
      ]
     },
     "metadata": {},
     "output_type": "display_data"
    },
    {
     "data": {
      "text/html": [
       "<center><font face=\"garamond\" size=\"4\"> Settler </font></center>"
      ],
      "text/plain": [
       "<IPython.core.display.HTML object>"
      ]
     },
     "metadata": {},
     "output_type": "display_data"
    },
    {
     "name": "stdout",
     "output_type": "stream",
     "text": [
      "\n",
      "\n"
     ]
    },
    {
     "data": {
      "text/html": [
       "<center><font face=\"garamond\" size=\"4\"> Indigene </font></center>"
      ],
      "text/plain": [
       "<IPython.core.display.HTML object>"
      ]
     },
     "metadata": {},
     "output_type": "display_data"
    },
    {
     "data": {
      "text/html": [
       "<center><font face=\"garamond\" size=\"4\">Stewards and Modern</font></center>"
      ],
      "text/plain": [
       "<IPython.core.display.HTML object>"
      ]
     },
     "metadata": {},
     "output_type": "display_data"
    },
    {
     "data": {
      "text/html": [
       "<center><font face=\"garamond\" size=\"4\">Culture Reclaiming, Treaty Affirming, Revitalising</font></center>"
      ],
      "text/plain": [
       "<IPython.core.display.HTML object>"
      ]
     },
     "metadata": {},
     "output_type": "display_data"
    },
    {
     "data": {
      "text/html": [
       "<center><font face=\"garamond\" size=\"4\">Checker-Boarded and Trained Assimilator</font></center>"
      ],
      "text/plain": [
       "<IPython.core.display.HTML object>"
      ]
     },
     "metadata": {},
     "output_type": "display_data"
    },
    {
     "data": {
      "text/html": [
       "<center><font face=\"garamond\" size=\"4\">Occupying, School Boarding, Razing</font></center>"
      ],
      "text/plain": [
       "<IPython.core.display.HTML object>"
      ]
     },
     "metadata": {},
     "output_type": "display_data"
    },
    {
     "data": {
      "text/html": [
       "<center><font face=\"garamond\" size=\"4\">Settler-Colonialist and Frontiersman</font></center>"
      ],
      "text/plain": [
       "<IPython.core.display.HTML object>"
      ]
     },
     "metadata": {},
     "output_type": "display_data"
    },
    {
     "data": {
      "text/html": [
       "<center><font face=\"garamond\" size=\"4\"> Settler </font></center>"
      ],
      "text/plain": [
       "<IPython.core.display.HTML object>"
      ]
     },
     "metadata": {},
     "output_type": "display_data"
    },
    {
     "name": "stdout",
     "output_type": "stream",
     "text": [
      "\n",
      "\n"
     ]
    },
    {
     "data": {
      "text/html": [
       "<center><font face=\"garamond\" size=\"4\"> Indigene </font></center>"
      ],
      "text/plain": [
       "<IPython.core.display.HTML object>"
      ]
     },
     "metadata": {},
     "output_type": "display_data"
    },
    {
     "data": {
      "text/html": [
       "<center><font face=\"garamond\" size=\"4\">Precolonial and First Peoples</font></center>"
      ],
      "text/plain": [
       "<IPython.core.display.HTML object>"
      ]
     },
     "metadata": {},
     "output_type": "display_data"
    },
    {
     "data": {
      "text/html": [
       "<center><font face=\"garamond\" size=\"4\">Protesting, Lobbying, Defending</font></center>"
      ],
      "text/plain": [
       "<IPython.core.display.HTML object>"
      ]
     },
     "metadata": {},
     "output_type": "display_data"
    },
    {
     "data": {
      "text/html": [
       "<center><font face=\"garamond\" size=\"4\">Governmentally Unrecognised and Continuously Expanding</font></center>"
      ],
      "text/plain": [
       "<IPython.core.display.HTML object>"
      ]
     },
     "metadata": {},
     "output_type": "display_data"
    },
    {
     "data": {
      "text/html": [
       "<center><font face=\"garamond\" size=\"4\">Occupying, Displacing, Exploiting</font></center>"
      ],
      "text/plain": [
       "<IPython.core.display.HTML object>"
      ]
     },
     "metadata": {},
     "output_type": "display_data"
    },
    {
     "data": {
      "text/html": [
       "<center><font face=\"garamond\" size=\"4\">Exogenous Other and Coloniser</font></center>"
      ],
      "text/plain": [
       "<IPython.core.display.HTML object>"
      ]
     },
     "metadata": {},
     "output_type": "display_data"
    },
    {
     "data": {
      "text/html": [
       "<center><font face=\"garamond\" size=\"4\"> Settler </font></center>"
      ],
      "text/plain": [
       "<IPython.core.display.HTML object>"
      ]
     },
     "metadata": {},
     "output_type": "display_data"
    },
    {
     "name": "stdout",
     "output_type": "stream",
     "text": [
      "\n",
      "\n"
     ]
    },
    {
     "data": {
      "text/html": [
       "<center><font face=\"garamond\" size=\"4\"> Indigene </font></center>"
      ],
      "text/plain": [
       "<IPython.core.display.HTML object>"
      ]
     },
     "metadata": {},
     "output_type": "display_data"
    },
    {
     "data": {
      "text/html": [
       "<center><font face=\"garamond\" size=\"4\">Diverse and Precolonial</font></center>"
      ],
      "text/plain": [
       "<IPython.core.display.HTML object>"
      ]
     },
     "metadata": {},
     "output_type": "display_data"
    },
    {
     "data": {
      "text/html": [
       "<center><font face=\"garamond\" size=\"4\">Lobbying, Revitalising, Treaty Affirming</font></center>"
      ],
      "text/plain": [
       "<IPython.core.display.HTML object>"
      ]
     },
     "metadata": {},
     "output_type": "display_data"
    },
    {
     "data": {
      "text/html": [
       "<center><font face=\"garamond\" size=\"4\">Federally Ignored and Golf Course Maker</font></center>"
      ],
      "text/plain": [
       "<IPython.core.display.HTML object>"
      ]
     },
     "metadata": {},
     "output_type": "display_data"
    },
    {
     "data": {
      "text/html": [
       "<center><font face=\"garamond\" size=\"4\">Exploiting, Alloting, Farming</font></center>"
      ],
      "text/plain": [
       "<IPython.core.display.HTML object>"
      ]
     },
     "metadata": {},
     "output_type": "display_data"
    },
    {
     "data": {
      "text/html": [
       "<center><font face=\"garamond\" size=\"4\">Rancher and Allotter</font></center>"
      ],
      "text/plain": [
       "<IPython.core.display.HTML object>"
      ]
     },
     "metadata": {},
     "output_type": "display_data"
    },
    {
     "data": {
      "text/html": [
       "<center><font face=\"garamond\" size=\"4\"> Settler </font></center>"
      ],
      "text/plain": [
       "<IPython.core.display.HTML object>"
      ]
     },
     "metadata": {},
     "output_type": "display_data"
    },
    {
     "name": "stdout",
     "output_type": "stream",
     "text": [
      "\n",
      "\n"
     ]
    },
    {
     "data": {
      "text/html": [
       "<center><font face=\"garamond\" size=\"4\"> Indigene </font></center>"
      ],
      "text/plain": [
       "<IPython.core.display.HTML object>"
      ]
     },
     "metadata": {},
     "output_type": "display_data"
    },
    {
     "data": {
      "text/html": [
       "<center><font face=\"garamond\" size=\"4\">Resiliant and Diverse</font></center>"
      ],
      "text/plain": [
       "<IPython.core.display.HTML object>"
      ]
     },
     "metadata": {},
     "output_type": "display_data"
    },
    {
     "data": {
      "text/html": [
       "<center><font face=\"garamond\" size=\"4\">Culture Reclaiming, Defending, Revitalising</font></center>"
      ],
      "text/plain": [
       "<IPython.core.display.HTML object>"
      ]
     },
     "metadata": {},
     "output_type": "display_data"
    },
    {
     "data": {
      "text/html": [
       "<center><font face=\"garamond\" size=\"4\">Recognised Globally and Trained Assimilator</font></center>"
      ],
      "text/plain": [
       "<IPython.core.display.HTML object>"
      ]
     },
     "metadata": {},
     "output_type": "display_data"
    },
    {
     "data": {
      "text/html": [
       "<center><font face=\"garamond\" size=\"4\">Alloting, School Boarding, Subduing</font></center>"
      ],
      "text/plain": [
       "<IPython.core.display.HTML object>"
      ]
     },
     "metadata": {},
     "output_type": "display_data"
    },
    {
     "data": {
      "text/html": [
       "<center><font face=\"garamond\" size=\"4\">Imperialist and Settler-Colonialist</font></center>"
      ],
      "text/plain": [
       "<IPython.core.display.HTML object>"
      ]
     },
     "metadata": {},
     "output_type": "display_data"
    },
    {
     "data": {
      "text/html": [
       "<center><font face=\"garamond\" size=\"4\"> Settler </font></center>"
      ],
      "text/plain": [
       "<IPython.core.display.HTML object>"
      ]
     },
     "metadata": {},
     "output_type": "display_data"
    },
    {
     "name": "stdout",
     "output_type": "stream",
     "text": [
      "\n",
      "\n"
     ]
    },
    {
     "data": {
      "text/html": [
       "<center><font face=\"garamond\" size=\"4\"> Indigene </font></center>"
      ],
      "text/plain": [
       "<IPython.core.display.HTML object>"
      ]
     },
     "metadata": {},
     "output_type": "display_data"
    },
    {
     "data": {
      "text/html": [
       "<center><font face=\"garamond\" size=\"4\">Resiliant and Modern</font></center>"
      ],
      "text/plain": [
       "<IPython.core.display.HTML object>"
      ]
     },
     "metadata": {},
     "output_type": "display_data"
    },
    {
     "data": {
      "text/html": [
       "<center><font face=\"garamond\" size=\"4\">Decolonising, Treaty Affirming, Protesting</font></center>"
      ],
      "text/plain": [
       "<IPython.core.display.HTML object>"
      ]
     },
     "metadata": {},
     "output_type": "display_data"
    },
    {
     "data": {
      "text/html": [
       "<center><font face=\"garamond\" size=\"4\">Self-Governing and Golf Course Maker</font></center>"
      ],
      "text/plain": [
       "<IPython.core.display.HTML object>"
      ]
     },
     "metadata": {},
     "output_type": "display_data"
    },
    {
     "data": {
      "text/html": [
       "<center><font face=\"garamond\" size=\"4\">Farming, Subduing, Encroaching</font></center>"
      ],
      "text/plain": [
       "<IPython.core.display.HTML object>"
      ]
     },
     "metadata": {},
     "output_type": "display_data"
    },
    {
     "data": {
      "text/html": [
       "<center><font face=\"garamond\" size=\"4\">Imperialist and Assimilator</font></center>"
      ],
      "text/plain": [
       "<IPython.core.display.HTML object>"
      ]
     },
     "metadata": {},
     "output_type": "display_data"
    },
    {
     "data": {
      "text/html": [
       "<center><font face=\"garamond\" size=\"4\"> Settler </font></center>"
      ],
      "text/plain": [
       "<IPython.core.display.HTML object>"
      ]
     },
     "metadata": {},
     "output_type": "display_data"
    },
    {
     "name": "stdout",
     "output_type": "stream",
     "text": [
      "\n",
      "\n"
     ]
    },
    {
     "data": {
      "text/html": [
       "<center><font face=\"garamond\" size=\"4\"> Indigene </font></center>"
      ],
      "text/plain": [
       "<IPython.core.display.HTML object>"
      ]
     },
     "metadata": {},
     "output_type": "display_data"
    },
    {
     "data": {
      "text/html": [
       "<center><font face=\"garamond\" size=\"4\">Contemporary and Sovereign</font></center>"
      ],
      "text/plain": [
       "<IPython.core.display.HTML object>"
      ]
     },
     "metadata": {},
     "output_type": "display_data"
    },
    {
     "data": {
      "text/html": [
       "<center><font face=\"garamond\" size=\"4\">Protesting, Revitalising, Treaty Affirming</font></center>"
      ],
      "text/plain": [
       "<IPython.core.display.HTML object>"
      ]
     },
     "metadata": {},
     "output_type": "display_data"
    },
    {
     "data": {
      "text/html": [
       "<center><font face=\"garamond\" size=\"4\">Recognised Globally and Reparation Denier</font></center>"
      ],
      "text/plain": [
       "<IPython.core.display.HTML object>"
      ]
     },
     "metadata": {},
     "output_type": "display_data"
    },
    {
     "data": {
      "text/html": [
       "<center><font face=\"garamond\" size=\"4\">Occupying, School Boarding, Subduing</font></center>"
      ],
      "text/plain": [
       "<IPython.core.display.HTML object>"
      ]
     },
     "metadata": {},
     "output_type": "display_data"
    },
    {
     "data": {
      "text/html": [
       "<center><font face=\"garamond\" size=\"4\">Scalper and Imperialist</font></center>"
      ],
      "text/plain": [
       "<IPython.core.display.HTML object>"
      ]
     },
     "metadata": {},
     "output_type": "display_data"
    },
    {
     "data": {
      "text/html": [
       "<center><font face=\"garamond\" size=\"4\"> Settler </font></center>"
      ],
      "text/plain": [
       "<IPython.core.display.HTML object>"
      ]
     },
     "metadata": {},
     "output_type": "display_data"
    },
    {
     "name": "stdout",
     "output_type": "stream",
     "text": [
      "\n",
      "\n"
     ]
    },
    {
     "data": {
      "text/html": [
       "<center><font face=\"garamond\" size=\"4\"> Indigene </font></center>"
      ],
      "text/plain": [
       "<IPython.core.display.HTML object>"
      ]
     },
     "metadata": {},
     "output_type": "display_data"
    },
    {
     "data": {
      "text/html": [
       "<center><font face=\"garamond\" size=\"4\">Autonomous and First Peoples</font></center>"
      ],
      "text/plain": [
       "<IPython.core.display.HTML object>"
      ]
     },
     "metadata": {},
     "output_type": "display_data"
    },
    {
     "data": {
      "text/html": [
       "<center><font face=\"garamond\" size=\"4\">Lobbying, Revitalising, Rights-Asserting</font></center>"
      ],
      "text/plain": [
       "<IPython.core.display.HTML object>"
      ]
     },
     "metadata": {},
     "output_type": "display_data"
    },
    {
     "data": {
      "text/html": [
       "<center><font face=\"garamond\" size=\"4\">Governmentally Unrecognised and Blood Quantamiser</font></center>"
      ],
      "text/plain": [
       "<IPython.core.display.HTML object>"
      ]
     },
     "metadata": {},
     "output_type": "display_data"
    },
    {
     "data": {
      "text/html": [
       "<center><font face=\"garamond\" size=\"4\">School Boarding, Farming, Eliminating</font></center>"
      ],
      "text/plain": [
       "<IPython.core.display.HTML object>"
      ]
     },
     "metadata": {},
     "output_type": "display_data"
    },
    {
     "data": {
      "text/html": [
       "<center><font face=\"garamond\" size=\"4\">Settler-Colonialist and Assimilator</font></center>"
      ],
      "text/plain": [
       "<IPython.core.display.HTML object>"
      ]
     },
     "metadata": {},
     "output_type": "display_data"
    },
    {
     "data": {
      "text/html": [
       "<center><font face=\"garamond\" size=\"4\"> Settler </font></center>"
      ],
      "text/plain": [
       "<IPython.core.display.HTML object>"
      ]
     },
     "metadata": {},
     "output_type": "display_data"
    },
    {
     "name": "stdout",
     "output_type": "stream",
     "text": [
      "\n",
      "\n"
     ]
    },
    {
     "data": {
      "text/html": [
       "<center><font face=\"garamond\" size=\"4\"> Indigene </font></center>"
      ],
      "text/plain": [
       "<IPython.core.display.HTML object>"
      ]
     },
     "metadata": {},
     "output_type": "display_data"
    },
    {
     "data": {
      "text/html": [
       "<center><font face=\"garamond\" size=\"4\">Sovereign and Resiliant</font></center>"
      ],
      "text/plain": [
       "<IPython.core.display.HTML object>"
      ]
     },
     "metadata": {},
     "output_type": "display_data"
    },
    {
     "data": {
      "text/html": [
       "<center><font face=\"garamond\" size=\"4\">Revitalising, Decolonising, Preserving</font></center>"
      ],
      "text/plain": [
       "<IPython.core.display.HTML object>"
      ]
     },
     "metadata": {},
     "output_type": "display_data"
    },
    {
     "data": {
      "text/html": [
       "<center><font face=\"garamond\" size=\"4\">Continually Strengthening and Golf Course Maker</font></center>"
      ],
      "text/plain": [
       "<IPython.core.display.HTML object>"
      ]
     },
     "metadata": {},
     "output_type": "display_data"
    },
    {
     "data": {
      "text/html": [
       "<center><font face=\"garamond\" size=\"4\">Razing, Encroaching, Displacing</font></center>"
      ],
      "text/plain": [
       "<IPython.core.display.HTML object>"
      ]
     },
     "metadata": {},
     "output_type": "display_data"
    },
    {
     "data": {
      "text/html": [
       "<center><font face=\"garamond\" size=\"4\">Allotter and Ranger</font></center>"
      ],
      "text/plain": [
       "<IPython.core.display.HTML object>"
      ]
     },
     "metadata": {},
     "output_type": "display_data"
    },
    {
     "data": {
      "text/html": [
       "<center><font face=\"garamond\" size=\"4\"> Settler </font></center>"
      ],
      "text/plain": [
       "<IPython.core.display.HTML object>"
      ]
     },
     "metadata": {},
     "output_type": "display_data"
    },
    {
     "name": "stdout",
     "output_type": "stream",
     "text": [
      "\n",
      "\n"
     ]
    },
    {
     "data": {
      "text/html": [
       "<center><font face=\"garamond\" size=\"4\"> Indigene </font></center>"
      ],
      "text/plain": [
       "<IPython.core.display.HTML object>"
      ]
     },
     "metadata": {},
     "output_type": "display_data"
    },
    {
     "data": {
      "text/html": [
       "<center><font face=\"garamond\" size=\"4\">Diverse and Diverse</font></center>"
      ],
      "text/plain": [
       "<IPython.core.display.HTML object>"
      ]
     },
     "metadata": {},
     "output_type": "display_data"
    },
    {
     "data": {
      "text/html": [
       "<center><font face=\"garamond\" size=\"4\">Resisting, Rights-Asserting, Decolonising</font></center>"
      ],
      "text/plain": [
       "<IPython.core.display.HTML object>"
      ]
     },
     "metadata": {},
     "output_type": "display_data"
    },
    {
     "data": {
      "text/html": [
       "<center><font face=\"garamond\" size=\"4\">Governmentally Unrecognised and Politically dominant</font></center>"
      ],
      "text/plain": [
       "<IPython.core.display.HTML object>"
      ]
     },
     "metadata": {},
     "output_type": "display_data"
    },
    {
     "data": {
      "text/html": [
       "<center><font face=\"garamond\" size=\"4\">Exploiting, Razing, School Boarding</font></center>"
      ],
      "text/plain": [
       "<IPython.core.display.HTML object>"
      ]
     },
     "metadata": {},
     "output_type": "display_data"
    },
    {
     "data": {
      "text/html": [
       "<center><font face=\"garamond\" size=\"4\">Imperialist and Settler-Colonialist</font></center>"
      ],
      "text/plain": [
       "<IPython.core.display.HTML object>"
      ]
     },
     "metadata": {},
     "output_type": "display_data"
    },
    {
     "data": {
      "text/html": [
       "<center><font face=\"garamond\" size=\"4\"> Settler </font></center>"
      ],
      "text/plain": [
       "<IPython.core.display.HTML object>"
      ]
     },
     "metadata": {},
     "output_type": "display_data"
    },
    {
     "name": "stdout",
     "output_type": "stream",
     "text": [
      "\n",
      "\n"
     ]
    },
    {
     "data": {
      "text/html": [
       "<center><font face=\"garamond\" size=\"4\"> Indigene </font></center>"
      ],
      "text/plain": [
       "<IPython.core.display.HTML object>"
      ]
     },
     "metadata": {},
     "output_type": "display_data"
    },
    {
     "data": {
      "text/html": [
       "<center><font face=\"garamond\" size=\"4\">First Peoples and Autonomous</font></center>"
      ],
      "text/plain": [
       "<IPython.core.display.HTML object>"
      ]
     },
     "metadata": {},
     "output_type": "display_data"
    },
    {
     "data": {
      "text/html": [
       "<center><font face=\"garamond\" size=\"4\">Resisting, Preserving, Treaty Affirming</font></center>"
      ],
      "text/plain": [
       "<IPython.core.display.HTML object>"
      ]
     },
     "metadata": {},
     "output_type": "display_data"
    },
    {
     "data": {
      "text/html": [
       "<center><font face=\"garamond\" size=\"4\">Federally Ignored and Narrative Controller</font></center>"
      ],
      "text/plain": [
       "<IPython.core.display.HTML object>"
      ]
     },
     "metadata": {},
     "output_type": "display_data"
    },
    {
     "data": {
      "text/html": [
       "<center><font face=\"garamond\" size=\"4\">Razing, Subduing, Exploiting</font></center>"
      ],
      "text/plain": [
       "<IPython.core.display.HTML object>"
      ]
     },
     "metadata": {},
     "output_type": "display_data"
    },
    {
     "data": {
      "text/html": [
       "<center><font face=\"garamond\" size=\"4\">Imperialist and Land Grabber</font></center>"
      ],
      "text/plain": [
       "<IPython.core.display.HTML object>"
      ]
     },
     "metadata": {},
     "output_type": "display_data"
    },
    {
     "data": {
      "text/html": [
       "<center><font face=\"garamond\" size=\"4\"> Settler </font></center>"
      ],
      "text/plain": [
       "<IPython.core.display.HTML object>"
      ]
     },
     "metadata": {},
     "output_type": "display_data"
    },
    {
     "name": "stdout",
     "output_type": "stream",
     "text": [
      "\n",
      "\n"
     ]
    },
    {
     "data": {
      "text/html": [
       "<center><font face=\"garamond\" size=\"4\"> Indigene </font></center>"
      ],
      "text/plain": [
       "<IPython.core.display.HTML object>"
      ]
     },
     "metadata": {},
     "output_type": "display_data"
    },
    {
     "data": {
      "text/html": [
       "<center><font face=\"garamond\" size=\"4\">First Peoples and Modern</font></center>"
      ],
      "text/plain": [
       "<IPython.core.display.HTML object>"
      ]
     },
     "metadata": {},
     "output_type": "display_data"
    },
    {
     "data": {
      "text/html": [
       "<center><font face=\"garamond\" size=\"4\">Culture Reclaiming, Protesting, Resisting</font></center>"
      ],
      "text/plain": [
       "<IPython.core.display.HTML object>"
      ]
     },
     "metadata": {},
     "output_type": "display_data"
    },
    {
     "data": {
      "text/html": [
       "<center><font face=\"garamond\" size=\"4\">Federally Ignored and Blood Quantamiser</font></center>"
      ],
      "text/plain": [
       "<IPython.core.display.HTML object>"
      ]
     },
     "metadata": {},
     "output_type": "display_data"
    },
    {
     "data": {
      "text/html": [
       "<center><font face=\"garamond\" size=\"4\">Occupying, Subduing, Manipulating</font></center>"
      ],
      "text/plain": [
       "<IPython.core.display.HTML object>"
      ]
     },
     "metadata": {},
     "output_type": "display_data"
    },
    {
     "data": {
      "text/html": [
       "<center><font face=\"garamond\" size=\"4\">Imperialist and Assimilator</font></center>"
      ],
      "text/plain": [
       "<IPython.core.display.HTML object>"
      ]
     },
     "metadata": {},
     "output_type": "display_data"
    },
    {
     "data": {
      "text/html": [
       "<center><font face=\"garamond\" size=\"4\"> Settler </font></center>"
      ],
      "text/plain": [
       "<IPython.core.display.HTML object>"
      ]
     },
     "metadata": {},
     "output_type": "display_data"
    },
    {
     "name": "stdout",
     "output_type": "stream",
     "text": [
      "\n",
      "\n"
     ]
    },
    {
     "data": {
      "text/html": [
       "<center><font face=\"garamond\" size=\"4\"> Indigene </font></center>"
      ],
      "text/plain": [
       "<IPython.core.display.HTML object>"
      ]
     },
     "metadata": {},
     "output_type": "display_data"
    },
    {
     "data": {
      "text/html": [
       "<center><font face=\"garamond\" size=\"4\">Resiliant and Precolonial</font></center>"
      ],
      "text/plain": [
       "<IPython.core.display.HTML object>"
      ]
     },
     "metadata": {},
     "output_type": "display_data"
    },
    {
     "data": {
      "text/html": [
       "<center><font face=\"garamond\" size=\"4\">Protesting, Rights-Asserting, Revitalising</font></center>"
      ],
      "text/plain": [
       "<IPython.core.display.HTML object>"
      ]
     },
     "metadata": {},
     "output_type": "display_data"
    },
    {
     "data": {
      "text/html": [
       "<center><font face=\"garamond\" size=\"4\">Federally Ignored and Blood Quantamiser</font></center>"
      ],
      "text/plain": [
       "<IPython.core.display.HTML object>"
      ]
     },
     "metadata": {},
     "output_type": "display_data"
    },
    {
     "data": {
      "text/html": [
       "<center><font face=\"garamond\" size=\"4\">Manipulating, Farming, Alloting</font></center>"
      ],
      "text/plain": [
       "<IPython.core.display.HTML object>"
      ]
     },
     "metadata": {},
     "output_type": "display_data"
    },
    {
     "data": {
      "text/html": [
       "<center><font face=\"garamond\" size=\"4\">Stereotyper and Coloniser</font></center>"
      ],
      "text/plain": [
       "<IPython.core.display.HTML object>"
      ]
     },
     "metadata": {},
     "output_type": "display_data"
    },
    {
     "data": {
      "text/html": [
       "<center><font face=\"garamond\" size=\"4\"> Settler </font></center>"
      ],
      "text/plain": [
       "<IPython.core.display.HTML object>"
      ]
     },
     "metadata": {},
     "output_type": "display_data"
    },
    {
     "name": "stdout",
     "output_type": "stream",
     "text": [
      "\n",
      "\n"
     ]
    },
    {
     "data": {
      "text/html": [
       "<center><font face=\"garamond\" size=\"4\"> Indigene </font></center>"
      ],
      "text/plain": [
       "<IPython.core.display.HTML object>"
      ]
     },
     "metadata": {},
     "output_type": "display_data"
    },
    {
     "data": {
      "text/html": [
       "<center><font face=\"garamond\" size=\"4\">Native and Diverse</font></center>"
      ],
      "text/plain": [
       "<IPython.core.display.HTML object>"
      ]
     },
     "metadata": {},
     "output_type": "display_data"
    },
    {
     "data": {
      "text/html": [
       "<center><font face=\"garamond\" size=\"4\">Treaty Affirming, Protesting, Lobbying</font></center>"
      ],
      "text/plain": [
       "<IPython.core.display.HTML object>"
      ]
     },
     "metadata": {},
     "output_type": "display_data"
    },
    {
     "data": {
      "text/html": [
       "<center><font face=\"garamond\" size=\"4\">Politically Shunned and Blood Quantamiser</font></center>"
      ],
      "text/plain": [
       "<IPython.core.display.HTML object>"
      ]
     },
     "metadata": {},
     "output_type": "display_data"
    },
    {
     "data": {
      "text/html": [
       "<center><font face=\"garamond\" size=\"4\">Encroaching, Alloting, Farming</font></center>"
      ],
      "text/plain": [
       "<IPython.core.display.HTML object>"
      ]
     },
     "metadata": {},
     "output_type": "display_data"
    },
    {
     "data": {
      "text/html": [
       "<center><font face=\"garamond\" size=\"4\">Stereotyper and Scalper</font></center>"
      ],
      "text/plain": [
       "<IPython.core.display.HTML object>"
      ]
     },
     "metadata": {},
     "output_type": "display_data"
    },
    {
     "data": {
      "text/html": [
       "<center><font face=\"garamond\" size=\"4\"> Settler </font></center>"
      ],
      "text/plain": [
       "<IPython.core.display.HTML object>"
      ]
     },
     "metadata": {},
     "output_type": "display_data"
    },
    {
     "name": "stdout",
     "output_type": "stream",
     "text": [
      "\n",
      "\n"
     ]
    },
    {
     "data": {
      "text/html": [
       "<center><font face=\"garamond\" size=\"4\"> Indigene </font></center>"
      ],
      "text/plain": [
       "<IPython.core.display.HTML object>"
      ]
     },
     "metadata": {},
     "output_type": "display_data"
    },
    {
     "data": {
      "text/html": [
       "<center><font face=\"garamond\" size=\"4\">Contemporary and Modern</font></center>"
      ],
      "text/plain": [
       "<IPython.core.display.HTML object>"
      ]
     },
     "metadata": {},
     "output_type": "display_data"
    },
    {
     "data": {
      "text/html": [
       "<center><font face=\"garamond\" size=\"4\">Preserving, Resisting, Rights-Asserting</font></center>"
      ],
      "text/plain": [
       "<IPython.core.display.HTML object>"
      ]
     },
     "metadata": {},
     "output_type": "display_data"
    },
    {
     "data": {
      "text/html": [
       "<center><font face=\"garamond\" size=\"4\">Politically Shunned and Narrative Controller</font></center>"
      ],
      "text/plain": [
       "<IPython.core.display.HTML object>"
      ]
     },
     "metadata": {},
     "output_type": "display_data"
    },
    {
     "data": {
      "text/html": [
       "<center><font face=\"garamond\" size=\"4\">Razing, Manipulating, Displacing</font></center>"
      ],
      "text/plain": [
       "<IPython.core.display.HTML object>"
      ]
     },
     "metadata": {},
     "output_type": "display_data"
    },
    {
     "data": {
      "text/html": [
       "<center><font face=\"garamond\" size=\"4\">Scalper and Allotter</font></center>"
      ],
      "text/plain": [
       "<IPython.core.display.HTML object>"
      ]
     },
     "metadata": {},
     "output_type": "display_data"
    },
    {
     "data": {
      "text/html": [
       "<center><font face=\"garamond\" size=\"4\"> Settler </font></center>"
      ],
      "text/plain": [
       "<IPython.core.display.HTML object>"
      ]
     },
     "metadata": {},
     "output_type": "display_data"
    },
    {
     "name": "stdout",
     "output_type": "stream",
     "text": [
      "\n",
      "\n"
     ]
    },
    {
     "data": {
      "text/html": [
       "<center><font face=\"garamond\" size=\"4\"> Indigene </font></center>"
      ],
      "text/plain": [
       "<IPython.core.display.HTML object>"
      ]
     },
     "metadata": {},
     "output_type": "display_data"
    },
    {
     "data": {
      "text/html": [
       "<center><font face=\"garamond\" size=\"4\">Precolonial and Native</font></center>"
      ],
      "text/plain": [
       "<IPython.core.display.HTML object>"
      ]
     },
     "metadata": {},
     "output_type": "display_data"
    },
    {
     "data": {
      "text/html": [
       "<center><font face=\"garamond\" size=\"4\">Defending, Preserving, Decolonising</font></center>"
      ],
      "text/plain": [
       "<IPython.core.display.HTML object>"
      ]
     },
     "metadata": {},
     "output_type": "display_data"
    },
    {
     "data": {
      "text/html": [
       "<center><font face=\"garamond\" size=\"4\">Politically Shunned and Contemporary Invader</font></center>"
      ],
      "text/plain": [
       "<IPython.core.display.HTML object>"
      ]
     },
     "metadata": {},
     "output_type": "display_data"
    },
    {
     "data": {
      "text/html": [
       "<center><font face=\"garamond\" size=\"4\">Displacing, Subduing, Encroaching</font></center>"
      ],
      "text/plain": [
       "<IPython.core.display.HTML object>"
      ]
     },
     "metadata": {},
     "output_type": "display_data"
    },
    {
     "data": {
      "text/html": [
       "<center><font face=\"garamond\" size=\"4\">Allotter and Squatter</font></center>"
      ],
      "text/plain": [
       "<IPython.core.display.HTML object>"
      ]
     },
     "metadata": {},
     "output_type": "display_data"
    },
    {
     "data": {
      "text/html": [
       "<center><font face=\"garamond\" size=\"4\"> Settler </font></center>"
      ],
      "text/plain": [
       "<IPython.core.display.HTML object>"
      ]
     },
     "metadata": {},
     "output_type": "display_data"
    },
    {
     "name": "stdout",
     "output_type": "stream",
     "text": [
      "\n",
      "\n"
     ]
    },
    {
     "data": {
      "text/html": [
       "<center><font face=\"garamond\" size=\"4\"> Indigene </font></center>"
      ],
      "text/plain": [
       "<IPython.core.display.HTML object>"
      ]
     },
     "metadata": {},
     "output_type": "display_data"
    },
    {
     "data": {
      "text/html": [
       "<center><font face=\"garamond\" size=\"4\">Autonomous and Diverse</font></center>"
      ],
      "text/plain": [
       "<IPython.core.display.HTML object>"
      ]
     },
     "metadata": {},
     "output_type": "display_data"
    },
    {
     "data": {
      "text/html": [
       "<center><font face=\"garamond\" size=\"4\">Decolonising, Defending, Lobbying</font></center>"
      ],
      "text/plain": [
       "<IPython.core.display.HTML object>"
      ]
     },
     "metadata": {},
     "output_type": "display_data"
    },
    {
     "data": {
      "text/html": [
       "<center><font face=\"garamond\" size=\"4\">Governmentally Unrecognised and Golf Course Maker</font></center>"
      ],
      "text/plain": [
       "<IPython.core.display.HTML object>"
      ]
     },
     "metadata": {},
     "output_type": "display_data"
    },
    {
     "data": {
      "text/html": [
       "<center><font face=\"garamond\" size=\"4\">Farming, Razing, Occupying</font></center>"
      ],
      "text/plain": [
       "<IPython.core.display.HTML object>"
      ]
     },
     "metadata": {},
     "output_type": "display_data"
    },
    {
     "data": {
      "text/html": [
       "<center><font face=\"garamond\" size=\"4\">Land Grabber and Assimilator</font></center>"
      ],
      "text/plain": [
       "<IPython.core.display.HTML object>"
      ]
     },
     "metadata": {},
     "output_type": "display_data"
    },
    {
     "data": {
      "text/html": [
       "<center><font face=\"garamond\" size=\"4\"> Settler </font></center>"
      ],
      "text/plain": [
       "<IPython.core.display.HTML object>"
      ]
     },
     "metadata": {},
     "output_type": "display_data"
    },
    {
     "name": "stdout",
     "output_type": "stream",
     "text": [
      "\n",
      "\n"
     ]
    },
    {
     "data": {
      "text/html": [
       "<center><font face=\"garamond\" size=\"4\"> Indigene </font></center>"
      ],
      "text/plain": [
       "<IPython.core.display.HTML object>"
      ]
     },
     "metadata": {},
     "output_type": "display_data"
    },
    {
     "data": {
      "text/html": [
       "<center><font face=\"garamond\" size=\"4\">Sovereign and Stewards</font></center>"
      ],
      "text/plain": [
       "<IPython.core.display.HTML object>"
      ]
     },
     "metadata": {},
     "output_type": "display_data"
    },
    {
     "data": {
      "text/html": [
       "<center><font face=\"garamond\" size=\"4\">Preserving, Decolonising, Resisting</font></center>"
      ],
      "text/plain": [
       "<IPython.core.display.HTML object>"
      ]
     },
     "metadata": {},
     "output_type": "display_data"
    },
    {
     "data": {
      "text/html": [
       "<center><font face=\"garamond\" size=\"4\">Recognised Globally and Contemporary Invader</font></center>"
      ],
      "text/plain": [
       "<IPython.core.display.HTML object>"
      ]
     },
     "metadata": {},
     "output_type": "display_data"
    },
    {
     "data": {
      "text/html": [
       "<center><font face=\"garamond\" size=\"4\">Razing, Exploiting, Encroaching</font></center>"
      ],
      "text/plain": [
       "<IPython.core.display.HTML object>"
      ]
     },
     "metadata": {},
     "output_type": "display_data"
    },
    {
     "data": {
      "text/html": [
       "<center><font face=\"garamond\" size=\"4\">Imperialist and Stereotyper</font></center>"
      ],
      "text/plain": [
       "<IPython.core.display.HTML object>"
      ]
     },
     "metadata": {},
     "output_type": "display_data"
    },
    {
     "data": {
      "text/html": [
       "<center><font face=\"garamond\" size=\"4\"> Settler </font></center>"
      ],
      "text/plain": [
       "<IPython.core.display.HTML object>"
      ]
     },
     "metadata": {},
     "output_type": "display_data"
    },
    {
     "name": "stdout",
     "output_type": "stream",
     "text": [
      "\n",
      "\n"
     ]
    },
    {
     "data": {
      "text/html": [
       "<center><font face=\"garamond\" size=\"4\"> Indigene </font></center>"
      ],
      "text/plain": [
       "<IPython.core.display.HTML object>"
      ]
     },
     "metadata": {},
     "output_type": "display_data"
    },
    {
     "data": {
      "text/html": [
       "<center><font face=\"garamond\" size=\"4\">Native and Resiliant</font></center>"
      ],
      "text/plain": [
       "<IPython.core.display.HTML object>"
      ]
     },
     "metadata": {},
     "output_type": "display_data"
    },
    {
     "data": {
      "text/html": [
       "<center><font face=\"garamond\" size=\"4\">Rights-Asserting, Culture Reclaiming, Revitalising</font></center>"
      ],
      "text/plain": [
       "<IPython.core.display.HTML object>"
      ]
     },
     "metadata": {},
     "output_type": "display_data"
    },
    {
     "data": {
      "text/html": [
       "<center><font face=\"garamond\" size=\"4\">Federally Ignored and Tribal Generaliser</font></center>"
      ],
      "text/plain": [
       "<IPython.core.display.HTML object>"
      ]
     },
     "metadata": {},
     "output_type": "display_data"
    },
    {
     "data": {
      "text/html": [
       "<center><font face=\"garamond\" size=\"4\">Exploiting, Eliminating, Razing</font></center>"
      ],
      "text/plain": [
       "<IPython.core.display.HTML object>"
      ]
     },
     "metadata": {},
     "output_type": "display_data"
    },
    {
     "data": {
      "text/html": [
       "<center><font face=\"garamond\" size=\"4\">Allotter and Ranger</font></center>"
      ],
      "text/plain": [
       "<IPython.core.display.HTML object>"
      ]
     },
     "metadata": {},
     "output_type": "display_data"
    },
    {
     "data": {
      "text/html": [
       "<center><font face=\"garamond\" size=\"4\"> Settler </font></center>"
      ],
      "text/plain": [
       "<IPython.core.display.HTML object>"
      ]
     },
     "metadata": {},
     "output_type": "display_data"
    },
    {
     "name": "stdout",
     "output_type": "stream",
     "text": [
      "\n",
      "\n"
     ]
    },
    {
     "data": {
      "text/html": [
       "<center><font face=\"garamond\" size=\"4\"> Indigene </font></center>"
      ],
      "text/plain": [
       "<IPython.core.display.HTML object>"
      ]
     },
     "metadata": {},
     "output_type": "display_data"
    },
    {
     "data": {
      "text/html": [
       "<center><font face=\"garamond\" size=\"4\">Contemporary and Diverse</font></center>"
      ],
      "text/plain": [
       "<IPython.core.display.HTML object>"
      ]
     },
     "metadata": {},
     "output_type": "display_data"
    },
    {
     "data": {
      "text/html": [
       "<center><font face=\"garamond\" size=\"4\">Revitalising, Lobbying, Culture Reclaiming</font></center>"
      ],
      "text/plain": [
       "<IPython.core.display.HTML object>"
      ]
     },
     "metadata": {},
     "output_type": "display_data"
    },
    {
     "data": {
      "text/html": [
       "<center><font face=\"garamond\" size=\"4\">Culturally Appropriated and Continuously Expanding</font></center>"
      ],
      "text/plain": [
       "<IPython.core.display.HTML object>"
      ]
     },
     "metadata": {},
     "output_type": "display_data"
    },
    {
     "data": {
      "text/html": [
       "<center><font face=\"garamond\" size=\"4\">Manipulating, School Boarding, Razing</font></center>"
      ],
      "text/plain": [
       "<IPython.core.display.HTML object>"
      ]
     },
     "metadata": {},
     "output_type": "display_data"
    },
    {
     "data": {
      "text/html": [
       "<center><font face=\"garamond\" size=\"4\">Scalper and Assimilator</font></center>"
      ],
      "text/plain": [
       "<IPython.core.display.HTML object>"
      ]
     },
     "metadata": {},
     "output_type": "display_data"
    },
    {
     "data": {
      "text/html": [
       "<center><font face=\"garamond\" size=\"4\"> Settler </font></center>"
      ],
      "text/plain": [
       "<IPython.core.display.HTML object>"
      ]
     },
     "metadata": {},
     "output_type": "display_data"
    },
    {
     "name": "stdout",
     "output_type": "stream",
     "text": [
      "\n",
      "\n"
     ]
    },
    {
     "data": {
      "text/html": [
       "<center><font face=\"garamond\" size=\"4\"> Indigene </font></center>"
      ],
      "text/plain": [
       "<IPython.core.display.HTML object>"
      ]
     },
     "metadata": {},
     "output_type": "display_data"
    },
    {
     "data": {
      "text/html": [
       "<center><font face=\"garamond\" size=\"4\">Modern and Sovereign</font></center>"
      ],
      "text/plain": [
       "<IPython.core.display.HTML object>"
      ]
     },
     "metadata": {},
     "output_type": "display_data"
    },
    {
     "data": {
      "text/html": [
       "<center><font face=\"garamond\" size=\"4\">Protesting, Culture Reclaiming, Lobbying</font></center>"
      ],
      "text/plain": [
       "<IPython.core.display.HTML object>"
      ]
     },
     "metadata": {},
     "output_type": "display_data"
    },
    {
     "data": {
      "text/html": [
       "<center><font face=\"garamond\" size=\"4\">Checker-Boarded and Politically dominant</font></center>"
      ],
      "text/plain": [
       "<IPython.core.display.HTML object>"
      ]
     },
     "metadata": {},
     "output_type": "display_data"
    },
    {
     "data": {
      "text/html": [
       "<center><font face=\"garamond\" size=\"4\">Subduing, Occupying, Razing</font></center>"
      ],
      "text/plain": [
       "<IPython.core.display.HTML object>"
      ]
     },
     "metadata": {},
     "output_type": "display_data"
    },
    {
     "data": {
      "text/html": [
       "<center><font face=\"garamond\" size=\"4\">Frontiersman and Imperialist</font></center>"
      ],
      "text/plain": [
       "<IPython.core.display.HTML object>"
      ]
     },
     "metadata": {},
     "output_type": "display_data"
    },
    {
     "data": {
      "text/html": [
       "<center><font face=\"garamond\" size=\"4\"> Settler </font></center>"
      ],
      "text/plain": [
       "<IPython.core.display.HTML object>"
      ]
     },
     "metadata": {},
     "output_type": "display_data"
    },
    {
     "name": "stdout",
     "output_type": "stream",
     "text": [
      "\n",
      "\n"
     ]
    },
    {
     "data": {
      "text/html": [
       "<center><font face=\"garamond\" size=\"4\"> Indigene </font></center>"
      ],
      "text/plain": [
       "<IPython.core.display.HTML object>"
      ]
     },
     "metadata": {},
     "output_type": "display_data"
    },
    {
     "data": {
      "text/html": [
       "<center><font face=\"garamond\" size=\"4\">Native and Stewards</font></center>"
      ],
      "text/plain": [
       "<IPython.core.display.HTML object>"
      ]
     },
     "metadata": {},
     "output_type": "display_data"
    },
    {
     "data": {
      "text/html": [
       "<center><font face=\"garamond\" size=\"4\">Resisting, Treaty Affirming, Lobbying</font></center>"
      ],
      "text/plain": [
       "<IPython.core.display.HTML object>"
      ]
     },
     "metadata": {},
     "output_type": "display_data"
    },
    {
     "data": {
      "text/html": [
       "<center><font face=\"garamond\" size=\"4\">Politically Shunned and Trained Assimilator</font></center>"
      ],
      "text/plain": [
       "<IPython.core.display.HTML object>"
      ]
     },
     "metadata": {},
     "output_type": "display_data"
    },
    {
     "data": {
      "text/html": [
       "<center><font face=\"garamond\" size=\"4\">Encroaching, Occupying, Alloting</font></center>"
      ],
      "text/plain": [
       "<IPython.core.display.HTML object>"
      ]
     },
     "metadata": {},
     "output_type": "display_data"
    },
    {
     "data": {
      "text/html": [
       "<center><font face=\"garamond\" size=\"4\">Imperialist and Scalper</font></center>"
      ],
      "text/plain": [
       "<IPython.core.display.HTML object>"
      ]
     },
     "metadata": {},
     "output_type": "display_data"
    },
    {
     "data": {
      "text/html": [
       "<center><font face=\"garamond\" size=\"4\"> Settler </font></center>"
      ],
      "text/plain": [
       "<IPython.core.display.HTML object>"
      ]
     },
     "metadata": {},
     "output_type": "display_data"
    },
    {
     "name": "stdout",
     "output_type": "stream",
     "text": [
      "\n",
      "\n"
     ]
    },
    {
     "data": {
      "text/html": [
       "<center><font face=\"garamond\" size=\"4\"> Indigene </font></center>"
      ],
      "text/plain": [
       "<IPython.core.display.HTML object>"
      ]
     },
     "metadata": {},
     "output_type": "display_data"
    },
    {
     "data": {
      "text/html": [
       "<center><font face=\"garamond\" size=\"4\">Diverse and Autonomous</font></center>"
      ],
      "text/plain": [
       "<IPython.core.display.HTML object>"
      ]
     },
     "metadata": {},
     "output_type": "display_data"
    },
    {
     "data": {
      "text/html": [
       "<center><font face=\"garamond\" size=\"4\">Treaty Affirming, Protesting, Preserving</font></center>"
      ],
      "text/plain": [
       "<IPython.core.display.HTML object>"
      ]
     },
     "metadata": {},
     "output_type": "display_data"
    },
    {
     "data": {
      "text/html": [
       "<center><font face=\"garamond\" size=\"4\">Politically Shunned and Reparation Denier</font></center>"
      ],
      "text/plain": [
       "<IPython.core.display.HTML object>"
      ]
     },
     "metadata": {},
     "output_type": "display_data"
    },
    {
     "data": {
      "text/html": [
       "<center><font face=\"garamond\" size=\"4\">Occupying, Displacing, Alloting</font></center>"
      ],
      "text/plain": [
       "<IPython.core.display.HTML object>"
      ]
     },
     "metadata": {},
     "output_type": "display_data"
    },
    {
     "data": {
      "text/html": [
       "<center><font face=\"garamond\" size=\"4\">Stereotyper and Assimilator</font></center>"
      ],
      "text/plain": [
       "<IPython.core.display.HTML object>"
      ]
     },
     "metadata": {},
     "output_type": "display_data"
    },
    {
     "data": {
      "text/html": [
       "<center><font face=\"garamond\" size=\"4\"> Settler </font></center>"
      ],
      "text/plain": [
       "<IPython.core.display.HTML object>"
      ]
     },
     "metadata": {},
     "output_type": "display_data"
    },
    {
     "name": "stdout",
     "output_type": "stream",
     "text": [
      "\n",
      "\n"
     ]
    },
    {
     "data": {
      "text/html": [
       "<center><font face=\"garamond\" size=\"4\"> Indigene </font></center>"
      ],
      "text/plain": [
       "<IPython.core.display.HTML object>"
      ]
     },
     "metadata": {},
     "output_type": "display_data"
    },
    {
     "data": {
      "text/html": [
       "<center><font face=\"garamond\" size=\"4\">Resiliant and Contemporary</font></center>"
      ],
      "text/plain": [
       "<IPython.core.display.HTML object>"
      ]
     },
     "metadata": {},
     "output_type": "display_data"
    },
    {
     "data": {
      "text/html": [
       "<center><font face=\"garamond\" size=\"4\">Revitalising, Lobbying, Treaty Affirming</font></center>"
      ],
      "text/plain": [
       "<IPython.core.display.HTML object>"
      ]
     },
     "metadata": {},
     "output_type": "display_data"
    },
    {
     "data": {
      "text/html": [
       "<center><font face=\"garamond\" size=\"4\">Federally Ignored and Cultural Repressor</font></center>"
      ],
      "text/plain": [
       "<IPython.core.display.HTML object>"
      ]
     },
     "metadata": {},
     "output_type": "display_data"
    },
    {
     "data": {
      "text/html": [
       "<center><font face=\"garamond\" size=\"4\">Displacing, Farming, School Boarding</font></center>"
      ],
      "text/plain": [
       "<IPython.core.display.HTML object>"
      ]
     },
     "metadata": {},
     "output_type": "display_data"
    },
    {
     "data": {
      "text/html": [
       "<center><font face=\"garamond\" size=\"4\">Land Grabber and Imperialist</font></center>"
      ],
      "text/plain": [
       "<IPython.core.display.HTML object>"
      ]
     },
     "metadata": {},
     "output_type": "display_data"
    },
    {
     "data": {
      "text/html": [
       "<center><font face=\"garamond\" size=\"4\"> Settler </font></center>"
      ],
      "text/plain": [
       "<IPython.core.display.HTML object>"
      ]
     },
     "metadata": {},
     "output_type": "display_data"
    },
    {
     "name": "stdout",
     "output_type": "stream",
     "text": [
      "\n",
      "\n"
     ]
    },
    {
     "data": {
      "text/html": [
       "<center><font face=\"garamond\" size=\"4\"> Indigene </font></center>"
      ],
      "text/plain": [
       "<IPython.core.display.HTML object>"
      ]
     },
     "metadata": {},
     "output_type": "display_data"
    },
    {
     "data": {
      "text/html": [
       "<center><font face=\"garamond\" size=\"4\">Precolonial and Sovereign</font></center>"
      ],
      "text/plain": [
       "<IPython.core.display.HTML object>"
      ]
     },
     "metadata": {},
     "output_type": "display_data"
    },
    {
     "data": {
      "text/html": [
       "<center><font face=\"garamond\" size=\"4\">Revitalising, Protesting, Resisting</font></center>"
      ],
      "text/plain": [
       "<IPython.core.display.HTML object>"
      ]
     },
     "metadata": {},
     "output_type": "display_data"
    },
    {
     "data": {
      "text/html": [
       "<center><font face=\"garamond\" size=\"4\">Culturally Appropriated and Politically dominant</font></center>"
      ],
      "text/plain": [
       "<IPython.core.display.HTML object>"
      ]
     },
     "metadata": {},
     "output_type": "display_data"
    },
    {
     "data": {
      "text/html": [
       "<center><font face=\"garamond\" size=\"4\">Farming, Subduing, Encroaching</font></center>"
      ],
      "text/plain": [
       "<IPython.core.display.HTML object>"
      ]
     },
     "metadata": {},
     "output_type": "display_data"
    },
    {
     "data": {
      "text/html": [
       "<center><font face=\"garamond\" size=\"4\">Ranger and Allotter</font></center>"
      ],
      "text/plain": [
       "<IPython.core.display.HTML object>"
      ]
     },
     "metadata": {},
     "output_type": "display_data"
    },
    {
     "data": {
      "text/html": [
       "<center><font face=\"garamond\" size=\"4\"> Settler </font></center>"
      ],
      "text/plain": [
       "<IPython.core.display.HTML object>"
      ]
     },
     "metadata": {},
     "output_type": "display_data"
    },
    {
     "name": "stdout",
     "output_type": "stream",
     "text": [
      "\n",
      "\n"
     ]
    },
    {
     "data": {
      "text/html": [
       "<center><font face=\"garamond\" size=\"4\"> Indigene </font></center>"
      ],
      "text/plain": [
       "<IPython.core.display.HTML object>"
      ]
     },
     "metadata": {},
     "output_type": "display_data"
    },
    {
     "data": {
      "text/html": [
       "<center><font face=\"garamond\" size=\"4\">Autonomous and Diverse</font></center>"
      ],
      "text/plain": [
       "<IPython.core.display.HTML object>"
      ]
     },
     "metadata": {},
     "output_type": "display_data"
    },
    {
     "data": {
      "text/html": [
       "<center><font face=\"garamond\" size=\"4\">Resisting, Treaty Affirming, Rights-Asserting</font></center>"
      ],
      "text/plain": [
       "<IPython.core.display.HTML object>"
      ]
     },
     "metadata": {},
     "output_type": "display_data"
    },
    {
     "data": {
      "text/html": [
       "<center><font face=\"garamond\" size=\"4\">Governmentally Unrecognised and Continuously Expanding</font></center>"
      ],
      "text/plain": [
       "<IPython.core.display.HTML object>"
      ]
     },
     "metadata": {},
     "output_type": "display_data"
    },
    {
     "data": {
      "text/html": [
       "<center><font face=\"garamond\" size=\"4\">Displacing, Encroaching, School Boarding</font></center>"
      ],
      "text/plain": [
       "<IPython.core.display.HTML object>"
      ]
     },
     "metadata": {},
     "output_type": "display_data"
    },
    {
     "data": {
      "text/html": [
       "<center><font face=\"garamond\" size=\"4\">Ranger and Frontiersman</font></center>"
      ],
      "text/plain": [
       "<IPython.core.display.HTML object>"
      ]
     },
     "metadata": {},
     "output_type": "display_data"
    },
    {
     "data": {
      "text/html": [
       "<center><font face=\"garamond\" size=\"4\"> Settler </font></center>"
      ],
      "text/plain": [
       "<IPython.core.display.HTML object>"
      ]
     },
     "metadata": {},
     "output_type": "display_data"
    },
    {
     "name": "stdout",
     "output_type": "stream",
     "text": [
      "\n",
      "\n"
     ]
    },
    {
     "data": {
      "text/html": [
       "<center><font face=\"garamond\" size=\"4\"> Indigene </font></center>"
      ],
      "text/plain": [
       "<IPython.core.display.HTML object>"
      ]
     },
     "metadata": {},
     "output_type": "display_data"
    },
    {
     "data": {
      "text/html": [
       "<center><font face=\"garamond\" size=\"4\">Stewards and Sovereign</font></center>"
      ],
      "text/plain": [
       "<IPython.core.display.HTML object>"
      ]
     },
     "metadata": {},
     "output_type": "display_data"
    },
    {
     "data": {
      "text/html": [
       "<center><font face=\"garamond\" size=\"4\">Defending, Protesting, Lobbying</font></center>"
      ],
      "text/plain": [
       "<IPython.core.display.HTML object>"
      ]
     },
     "metadata": {},
     "output_type": "display_data"
    },
    {
     "data": {
      "text/html": [
       "<center><font face=\"garamond\" size=\"4\">Checker-Boarded and Trained Assimilator</font></center>"
      ],
      "text/plain": [
       "<IPython.core.display.HTML object>"
      ]
     },
     "metadata": {},
     "output_type": "display_data"
    },
    {
     "data": {
      "text/html": [
       "<center><font face=\"garamond\" size=\"4\">School Boarding, Exploiting, Occupying</font></center>"
      ],
      "text/plain": [
       "<IPython.core.display.HTML object>"
      ]
     },
     "metadata": {},
     "output_type": "display_data"
    },
    {
     "data": {
      "text/html": [
       "<center><font face=\"garamond\" size=\"4\">Land Grabber and Allotter</font></center>"
      ],
      "text/plain": [
       "<IPython.core.display.HTML object>"
      ]
     },
     "metadata": {},
     "output_type": "display_data"
    },
    {
     "data": {
      "text/html": [
       "<center><font face=\"garamond\" size=\"4\"> Settler </font></center>"
      ],
      "text/plain": [
       "<IPython.core.display.HTML object>"
      ]
     },
     "metadata": {},
     "output_type": "display_data"
    },
    {
     "name": "stdout",
     "output_type": "stream",
     "text": [
      "\n",
      "\n"
     ]
    },
    {
     "data": {
      "text/html": [
       "<center><font face=\"garamond\" size=\"4\"> Indigene </font></center>"
      ],
      "text/plain": [
       "<IPython.core.display.HTML object>"
      ]
     },
     "metadata": {},
     "output_type": "display_data"
    },
    {
     "data": {
      "text/html": [
       "<center><font face=\"garamond\" size=\"4\">Sovereign and Resiliant</font></center>"
      ],
      "text/plain": [
       "<IPython.core.display.HTML object>"
      ]
     },
     "metadata": {},
     "output_type": "display_data"
    },
    {
     "data": {
      "text/html": [
       "<center><font face=\"garamond\" size=\"4\">Defending, Culture Reclaiming, Resisting</font></center>"
      ],
      "text/plain": [
       "<IPython.core.display.HTML object>"
      ]
     },
     "metadata": {},
     "output_type": "display_data"
    },
    {
     "data": {
      "text/html": [
       "<center><font face=\"garamond\" size=\"4\">Continually Strengthening and Trained Assimilator</font></center>"
      ],
      "text/plain": [
       "<IPython.core.display.HTML object>"
      ]
     },
     "metadata": {},
     "output_type": "display_data"
    },
    {
     "data": {
      "text/html": [
       "<center><font face=\"garamond\" size=\"4\">Displacing, Alloting, Manipulating</font></center>"
      ],
      "text/plain": [
       "<IPython.core.display.HTML object>"
      ]
     },
     "metadata": {},
     "output_type": "display_data"
    },
    {
     "data": {
      "text/html": [
       "<center><font face=\"garamond\" size=\"4\">Rancher and Squatter</font></center>"
      ],
      "text/plain": [
       "<IPython.core.display.HTML object>"
      ]
     },
     "metadata": {},
     "output_type": "display_data"
    },
    {
     "data": {
      "text/html": [
       "<center><font face=\"garamond\" size=\"4\"> Settler </font></center>"
      ],
      "text/plain": [
       "<IPython.core.display.HTML object>"
      ]
     },
     "metadata": {},
     "output_type": "display_data"
    },
    {
     "name": "stdout",
     "output_type": "stream",
     "text": [
      "\n",
      "\n"
     ]
    },
    {
     "data": {
      "text/html": [
       "<center><font face=\"garamond\" size=\"4\"> Indigene </font></center>"
      ],
      "text/plain": [
       "<IPython.core.display.HTML object>"
      ]
     },
     "metadata": {},
     "output_type": "display_data"
    },
    {
     "data": {
      "text/html": [
       "<center><font face=\"garamond\" size=\"4\">Modern and Diverse</font></center>"
      ],
      "text/plain": [
       "<IPython.core.display.HTML object>"
      ]
     },
     "metadata": {},
     "output_type": "display_data"
    },
    {
     "data": {
      "text/html": [
       "<center><font face=\"garamond\" size=\"4\">Treaty Affirming, Revitalising, Protesting</font></center>"
      ],
      "text/plain": [
       "<IPython.core.display.HTML object>"
      ]
     },
     "metadata": {},
     "output_type": "display_data"
    },
    {
     "data": {
      "text/html": [
       "<center><font face=\"garamond\" size=\"4\">Checker-Boarded and Golf Course Maker</font></center>"
      ],
      "text/plain": [
       "<IPython.core.display.HTML object>"
      ]
     },
     "metadata": {},
     "output_type": "display_data"
    },
    {
     "data": {
      "text/html": [
       "<center><font face=\"garamond\" size=\"4\">Farming, Alloting, Subduing</font></center>"
      ],
      "text/plain": [
       "<IPython.core.display.HTML object>"
      ]
     },
     "metadata": {},
     "output_type": "display_data"
    },
    {
     "data": {
      "text/html": [
       "<center><font face=\"garamond\" size=\"4\">Exogenous Other and Land Grabber</font></center>"
      ],
      "text/plain": [
       "<IPython.core.display.HTML object>"
      ]
     },
     "metadata": {},
     "output_type": "display_data"
    },
    {
     "data": {
      "text/html": [
       "<center><font face=\"garamond\" size=\"4\"> Settler </font></center>"
      ],
      "text/plain": [
       "<IPython.core.display.HTML object>"
      ]
     },
     "metadata": {},
     "output_type": "display_data"
    },
    {
     "name": "stdout",
     "output_type": "stream",
     "text": [
      "\n",
      "\n"
     ]
    },
    {
     "data": {
      "text/html": [
       "<center><font face=\"garamond\" size=\"4\"> Indigene </font></center>"
      ],
      "text/plain": [
       "<IPython.core.display.HTML object>"
      ]
     },
     "metadata": {},
     "output_type": "display_data"
    },
    {
     "data": {
      "text/html": [
       "<center><font face=\"garamond\" size=\"4\">Diverse and Native</font></center>"
      ],
      "text/plain": [
       "<IPython.core.display.HTML object>"
      ]
     },
     "metadata": {},
     "output_type": "display_data"
    },
    {
     "data": {
      "text/html": [
       "<center><font face=\"garamond\" size=\"4\">Preserving, Decolonising, Culture Reclaiming</font></center>"
      ],
      "text/plain": [
       "<IPython.core.display.HTML object>"
      ]
     },
     "metadata": {},
     "output_type": "display_data"
    },
    {
     "data": {
      "text/html": [
       "<center><font face=\"garamond\" size=\"4\">Federally Ignored and Continuously Expanding</font></center>"
      ],
      "text/plain": [
       "<IPython.core.display.HTML object>"
      ]
     },
     "metadata": {},
     "output_type": "display_data"
    },
    {
     "data": {
      "text/html": [
       "<center><font face=\"garamond\" size=\"4\">School Boarding, Exploiting, Displacing</font></center>"
      ],
      "text/plain": [
       "<IPython.core.display.HTML object>"
      ]
     },
     "metadata": {},
     "output_type": "display_data"
    },
    {
     "data": {
      "text/html": [
       "<center><font face=\"garamond\" size=\"4\">Ranger and Allotter</font></center>"
      ],
      "text/plain": [
       "<IPython.core.display.HTML object>"
      ]
     },
     "metadata": {},
     "output_type": "display_data"
    },
    {
     "data": {
      "text/html": [
       "<center><font face=\"garamond\" size=\"4\"> Settler </font></center>"
      ],
      "text/plain": [
       "<IPython.core.display.HTML object>"
      ]
     },
     "metadata": {},
     "output_type": "display_data"
    },
    {
     "name": "stdout",
     "output_type": "stream",
     "text": [
      "\n",
      "\n"
     ]
    },
    {
     "data": {
      "text/html": [
       "<center><font face=\"garamond\" size=\"4\"> Indigene </font></center>"
      ],
      "text/plain": [
       "<IPython.core.display.HTML object>"
      ]
     },
     "metadata": {},
     "output_type": "display_data"
    },
    {
     "data": {
      "text/html": [
       "<center><font face=\"garamond\" size=\"4\">Resiliant and Autonomous</font></center>"
      ],
      "text/plain": [
       "<IPython.core.display.HTML object>"
      ]
     },
     "metadata": {},
     "output_type": "display_data"
    },
    {
     "data": {
      "text/html": [
       "<center><font face=\"garamond\" size=\"4\">Treaty Affirming, Rights-Asserting, Preserving</font></center>"
      ],
      "text/plain": [
       "<IPython.core.display.HTML object>"
      ]
     },
     "metadata": {},
     "output_type": "display_data"
    },
    {
     "data": {
      "text/html": [
       "<center><font face=\"garamond\" size=\"4\">Contemporary Stewards and Cultural Repressor</font></center>"
      ],
      "text/plain": [
       "<IPython.core.display.HTML object>"
      ]
     },
     "metadata": {},
     "output_type": "display_data"
    },
    {
     "data": {
      "text/html": [
       "<center><font face=\"garamond\" size=\"4\">Subduing, Farming, Exploiting</font></center>"
      ],
      "text/plain": [
       "<IPython.core.display.HTML object>"
      ]
     },
     "metadata": {},
     "output_type": "display_data"
    },
    {
     "data": {
      "text/html": [
       "<center><font face=\"garamond\" size=\"4\">Scalper and Settler-Colonialist</font></center>"
      ],
      "text/plain": [
       "<IPython.core.display.HTML object>"
      ]
     },
     "metadata": {},
     "output_type": "display_data"
    },
    {
     "data": {
      "text/html": [
       "<center><font face=\"garamond\" size=\"4\"> Settler </font></center>"
      ],
      "text/plain": [
       "<IPython.core.display.HTML object>"
      ]
     },
     "metadata": {},
     "output_type": "display_data"
    },
    {
     "name": "stdout",
     "output_type": "stream",
     "text": [
      "\n",
      "\n"
     ]
    },
    {
     "data": {
      "text/html": [
       "<center><font face=\"garamond\" size=\"4\"> Indigene </font></center>"
      ],
      "text/plain": [
       "<IPython.core.display.HTML object>"
      ]
     },
     "metadata": {},
     "output_type": "display_data"
    },
    {
     "data": {
      "text/html": [
       "<center><font face=\"garamond\" size=\"4\">Sovereign and Autonomous</font></center>"
      ],
      "text/plain": [
       "<IPython.core.display.HTML object>"
      ]
     },
     "metadata": {},
     "output_type": "display_data"
    },
    {
     "data": {
      "text/html": [
       "<center><font face=\"garamond\" size=\"4\">Lobbying, Rights-Asserting, Culture Reclaiming</font></center>"
      ],
      "text/plain": [
       "<IPython.core.display.HTML object>"
      ]
     },
     "metadata": {},
     "output_type": "display_data"
    },
    {
     "data": {
      "text/html": [
       "<center><font face=\"garamond\" size=\"4\">Continually Strengthening and Politically dominant</font></center>"
      ],
      "text/plain": [
       "<IPython.core.display.HTML object>"
      ]
     },
     "metadata": {},
     "output_type": "display_data"
    },
    {
     "data": {
      "text/html": [
       "<center><font face=\"garamond\" size=\"4\">School Boarding, Encroaching, Alloting</font></center>"
      ],
      "text/plain": [
       "<IPython.core.display.HTML object>"
      ]
     },
     "metadata": {},
     "output_type": "display_data"
    },
    {
     "data": {
      "text/html": [
       "<center><font face=\"garamond\" size=\"4\">Squatter and Ranger</font></center>"
      ],
      "text/plain": [
       "<IPython.core.display.HTML object>"
      ]
     },
     "metadata": {},
     "output_type": "display_data"
    },
    {
     "data": {
      "text/html": [
       "<center><font face=\"garamond\" size=\"4\"> Settler </font></center>"
      ],
      "text/plain": [
       "<IPython.core.display.HTML object>"
      ]
     },
     "metadata": {},
     "output_type": "display_data"
    },
    {
     "name": "stdout",
     "output_type": "stream",
     "text": [
      "\n",
      "\n"
     ]
    },
    {
     "data": {
      "text/html": [
       "<center><font face=\"garamond\" size=\"4\"> Indigene </font></center>"
      ],
      "text/plain": [
       "<IPython.core.display.HTML object>"
      ]
     },
     "metadata": {},
     "output_type": "display_data"
    },
    {
     "data": {
      "text/html": [
       "<center><font face=\"garamond\" size=\"4\">Stewards and Diverse</font></center>"
      ],
      "text/plain": [
       "<IPython.core.display.HTML object>"
      ]
     },
     "metadata": {},
     "output_type": "display_data"
    },
    {
     "data": {
      "text/html": [
       "<center><font face=\"garamond\" size=\"4\">Lobbying, Resisting, Preserving</font></center>"
      ],
      "text/plain": [
       "<IPython.core.display.HTML object>"
      ]
     },
     "metadata": {},
     "output_type": "display_data"
    },
    {
     "data": {
      "text/html": [
       "<center><font face=\"garamond\" size=\"4\">Checker-Boarded and Blood Quantamiser</font></center>"
      ],
      "text/plain": [
       "<IPython.core.display.HTML object>"
      ]
     },
     "metadata": {},
     "output_type": "display_data"
    },
    {
     "data": {
      "text/html": [
       "<center><font face=\"garamond\" size=\"4\">Alloting, Displacing, Exploiting</font></center>"
      ],
      "text/plain": [
       "<IPython.core.display.HTML object>"
      ]
     },
     "metadata": {},
     "output_type": "display_data"
    },
    {
     "data": {
      "text/html": [
       "<center><font face=\"garamond\" size=\"4\">Squatter and Ranger</font></center>"
      ],
      "text/plain": [
       "<IPython.core.display.HTML object>"
      ]
     },
     "metadata": {},
     "output_type": "display_data"
    },
    {
     "data": {
      "text/html": [
       "<center><font face=\"garamond\" size=\"4\"> Settler </font></center>"
      ],
      "text/plain": [
       "<IPython.core.display.HTML object>"
      ]
     },
     "metadata": {},
     "output_type": "display_data"
    },
    {
     "name": "stdout",
     "output_type": "stream",
     "text": [
      "\n",
      "\n"
     ]
    },
    {
     "data": {
      "text/html": [
       "<center><font face=\"garamond\" size=\"4\"> Indigene </font></center>"
      ],
      "text/plain": [
       "<IPython.core.display.HTML object>"
      ]
     },
     "metadata": {},
     "output_type": "display_data"
    },
    {
     "data": {
      "text/html": [
       "<center><font face=\"garamond\" size=\"4\">Stewards and Native</font></center>"
      ],
      "text/plain": [
       "<IPython.core.display.HTML object>"
      ]
     },
     "metadata": {},
     "output_type": "display_data"
    },
    {
     "data": {
      "text/html": [
       "<center><font face=\"garamond\" size=\"4\">Protesting, Defending, Rights-Asserting</font></center>"
      ],
      "text/plain": [
       "<IPython.core.display.HTML object>"
      ]
     },
     "metadata": {},
     "output_type": "display_data"
    },
    {
     "data": {
      "text/html": [
       "<center><font face=\"garamond\" size=\"4\">Checker-Boarded and Politically dominant</font></center>"
      ],
      "text/plain": [
       "<IPython.core.display.HTML object>"
      ]
     },
     "metadata": {},
     "output_type": "display_data"
    },
    {
     "data": {
      "text/html": [
       "<center><font face=\"garamond\" size=\"4\">Occupying, Razing, Encroaching</font></center>"
      ],
      "text/plain": [
       "<IPython.core.display.HTML object>"
      ]
     },
     "metadata": {},
     "output_type": "display_data"
    },
    {
     "data": {
      "text/html": [
       "<center><font face=\"garamond\" size=\"4\">Squatter and Scalper</font></center>"
      ],
      "text/plain": [
       "<IPython.core.display.HTML object>"
      ]
     },
     "metadata": {},
     "output_type": "display_data"
    },
    {
     "data": {
      "text/html": [
       "<center><font face=\"garamond\" size=\"4\"> Settler </font></center>"
      ],
      "text/plain": [
       "<IPython.core.display.HTML object>"
      ]
     },
     "metadata": {},
     "output_type": "display_data"
    },
    {
     "name": "stdout",
     "output_type": "stream",
     "text": [
      "\n",
      "\n"
     ]
    },
    {
     "data": {
      "text/html": [
       "<center><font face=\"garamond\" size=\"4\"> Indigene </font></center>"
      ],
      "text/plain": [
       "<IPython.core.display.HTML object>"
      ]
     },
     "metadata": {},
     "output_type": "display_data"
    },
    {
     "data": {
      "text/html": [
       "<center><font face=\"garamond\" size=\"4\">Contemporary and Precolonial</font></center>"
      ],
      "text/plain": [
       "<IPython.core.display.HTML object>"
      ]
     },
     "metadata": {},
     "output_type": "display_data"
    },
    {
     "data": {
      "text/html": [
       "<center><font face=\"garamond\" size=\"4\">Revitalising, Culture Reclaiming, Decolonising</font></center>"
      ],
      "text/plain": [
       "<IPython.core.display.HTML object>"
      ]
     },
     "metadata": {},
     "output_type": "display_data"
    },
    {
     "data": {
      "text/html": [
       "<center><font face=\"garamond\" size=\"4\">Communally Resistant and Reparation Denier</font></center>"
      ],
      "text/plain": [
       "<IPython.core.display.HTML object>"
      ]
     },
     "metadata": {},
     "output_type": "display_data"
    },
    {
     "data": {
      "text/html": [
       "<center><font face=\"garamond\" size=\"4\">Manipulating, Occupying, Exploiting</font></center>"
      ],
      "text/plain": [
       "<IPython.core.display.HTML object>"
      ]
     },
     "metadata": {},
     "output_type": "display_data"
    },
    {
     "data": {
      "text/html": [
       "<center><font face=\"garamond\" size=\"4\">Squatter and Assimilator</font></center>"
      ],
      "text/plain": [
       "<IPython.core.display.HTML object>"
      ]
     },
     "metadata": {},
     "output_type": "display_data"
    },
    {
     "data": {
      "text/html": [
       "<center><font face=\"garamond\" size=\"4\"> Settler </font></center>"
      ],
      "text/plain": [
       "<IPython.core.display.HTML object>"
      ]
     },
     "metadata": {},
     "output_type": "display_data"
    },
    {
     "name": "stdout",
     "output_type": "stream",
     "text": [
      "\n",
      "\n"
     ]
    },
    {
     "data": {
      "text/html": [
       "<center><font face=\"garamond\" size=\"4\"> Indigene </font></center>"
      ],
      "text/plain": [
       "<IPython.core.display.HTML object>"
      ]
     },
     "metadata": {},
     "output_type": "display_data"
    },
    {
     "data": {
      "text/html": [
       "<center><font face=\"garamond\" size=\"4\">Diverse and Sovereign</font></center>"
      ],
      "text/plain": [
       "<IPython.core.display.HTML object>"
      ]
     },
     "metadata": {},
     "output_type": "display_data"
    },
    {
     "data": {
      "text/html": [
       "<center><font face=\"garamond\" size=\"4\">Preserving, Treaty Affirming, Revitalising</font></center>"
      ],
      "text/plain": [
       "<IPython.core.display.HTML object>"
      ]
     },
     "metadata": {},
     "output_type": "display_data"
    },
    {
     "data": {
      "text/html": [
       "<center><font face=\"garamond\" size=\"4\">Federally Ignored and Trained Assimilator</font></center>"
      ],
      "text/plain": [
       "<IPython.core.display.HTML object>"
      ]
     },
     "metadata": {},
     "output_type": "display_data"
    },
    {
     "data": {
      "text/html": [
       "<center><font face=\"garamond\" size=\"4\">Razing, Exploiting, Alloting</font></center>"
      ],
      "text/plain": [
       "<IPython.core.display.HTML object>"
      ]
     },
     "metadata": {},
     "output_type": "display_data"
    },
    {
     "data": {
      "text/html": [
       "<center><font face=\"garamond\" size=\"4\">Land Grabber and Coloniser</font></center>"
      ],
      "text/plain": [
       "<IPython.core.display.HTML object>"
      ]
     },
     "metadata": {},
     "output_type": "display_data"
    },
    {
     "data": {
      "text/html": [
       "<center><font face=\"garamond\" size=\"4\"> Settler </font></center>"
      ],
      "text/plain": [
       "<IPython.core.display.HTML object>"
      ]
     },
     "metadata": {},
     "output_type": "display_data"
    },
    {
     "name": "stdout",
     "output_type": "stream",
     "text": [
      "\n",
      "\n"
     ]
    },
    {
     "data": {
      "text/html": [
       "<center><font face=\"garamond\" size=\"4\"> Indigene </font></center>"
      ],
      "text/plain": [
       "<IPython.core.display.HTML object>"
      ]
     },
     "metadata": {},
     "output_type": "display_data"
    },
    {
     "data": {
      "text/html": [
       "<center><font face=\"garamond\" size=\"4\">Native and First Peoples</font></center>"
      ],
      "text/plain": [
       "<IPython.core.display.HTML object>"
      ]
     },
     "metadata": {},
     "output_type": "display_data"
    },
    {
     "data": {
      "text/html": [
       "<center><font face=\"garamond\" size=\"4\">Culture Reclaiming, Revitalising, Rights-Asserting</font></center>"
      ],
      "text/plain": [
       "<IPython.core.display.HTML object>"
      ]
     },
     "metadata": {},
     "output_type": "display_data"
    },
    {
     "data": {
      "text/html": [
       "<center><font face=\"garamond\" size=\"4\">Federally Ignored and Cultural Repressor</font></center>"
      ],
      "text/plain": [
       "<IPython.core.display.HTML object>"
      ]
     },
     "metadata": {},
     "output_type": "display_data"
    },
    {
     "data": {
      "text/html": [
       "<center><font face=\"garamond\" size=\"4\">Eliminating, Farming, Displacing</font></center>"
      ],
      "text/plain": [
       "<IPython.core.display.HTML object>"
      ]
     },
     "metadata": {},
     "output_type": "display_data"
    },
    {
     "data": {
      "text/html": [
       "<center><font face=\"garamond\" size=\"4\">Rancher and Scalper</font></center>"
      ],
      "text/plain": [
       "<IPython.core.display.HTML object>"
      ]
     },
     "metadata": {},
     "output_type": "display_data"
    },
    {
     "data": {
      "text/html": [
       "<center><font face=\"garamond\" size=\"4\"> Settler </font></center>"
      ],
      "text/plain": [
       "<IPython.core.display.HTML object>"
      ]
     },
     "metadata": {},
     "output_type": "display_data"
    },
    {
     "name": "stdout",
     "output_type": "stream",
     "text": [
      "\n",
      "\n"
     ]
    },
    {
     "data": {
      "text/html": [
       "<center><font face=\"garamond\" size=\"4\"> Indigene </font></center>"
      ],
      "text/plain": [
       "<IPython.core.display.HTML object>"
      ]
     },
     "metadata": {},
     "output_type": "display_data"
    },
    {
     "data": {
      "text/html": [
       "<center><font face=\"garamond\" size=\"4\">Native and Contemporary</font></center>"
      ],
      "text/plain": [
       "<IPython.core.display.HTML object>"
      ]
     },
     "metadata": {},
     "output_type": "display_data"
    },
    {
     "data": {
      "text/html": [
       "<center><font face=\"garamond\" size=\"4\">Preserving, Protesting, Decolonising</font></center>"
      ],
      "text/plain": [
       "<IPython.core.display.HTML object>"
      ]
     },
     "metadata": {},
     "output_type": "display_data"
    },
    {
     "data": {
      "text/html": [
       "<center><font face=\"garamond\" size=\"4\">Communally Resistant and Golf Course Maker</font></center>"
      ],
      "text/plain": [
       "<IPython.core.display.HTML object>"
      ]
     },
     "metadata": {},
     "output_type": "display_data"
    },
    {
     "data": {
      "text/html": [
       "<center><font face=\"garamond\" size=\"4\">Eliminating, Subduing, Razing</font></center>"
      ],
      "text/plain": [
       "<IPython.core.display.HTML object>"
      ]
     },
     "metadata": {},
     "output_type": "display_data"
    },
    {
     "data": {
      "text/html": [
       "<center><font face=\"garamond\" size=\"4\">Frontiersman and Settler-Colonialist</font></center>"
      ],
      "text/plain": [
       "<IPython.core.display.HTML object>"
      ]
     },
     "metadata": {},
     "output_type": "display_data"
    },
    {
     "data": {
      "text/html": [
       "<center><font face=\"garamond\" size=\"4\"> Settler </font></center>"
      ],
      "text/plain": [
       "<IPython.core.display.HTML object>"
      ]
     },
     "metadata": {},
     "output_type": "display_data"
    },
    {
     "name": "stdout",
     "output_type": "stream",
     "text": [
      "\n",
      "\n"
     ]
    },
    {
     "data": {
      "text/html": [
       "<center><font face=\"garamond\" size=\"4\"> Indigene </font></center>"
      ],
      "text/plain": [
       "<IPython.core.display.HTML object>"
      ]
     },
     "metadata": {},
     "output_type": "display_data"
    },
    {
     "data": {
      "text/html": [
       "<center><font face=\"garamond\" size=\"4\">Sovereign and Diverse</font></center>"
      ],
      "text/plain": [
       "<IPython.core.display.HTML object>"
      ]
     },
     "metadata": {},
     "output_type": "display_data"
    },
    {
     "data": {
      "text/html": [
       "<center><font face=\"garamond\" size=\"4\">Rights-Asserting, Decolonising, Lobbying</font></center>"
      ],
      "text/plain": [
       "<IPython.core.display.HTML object>"
      ]
     },
     "metadata": {},
     "output_type": "display_data"
    },
    {
     "data": {
      "text/html": [
       "<center><font face=\"garamond\" size=\"4\">Communally Resistant and Contemporary Invader</font></center>"
      ],
      "text/plain": [
       "<IPython.core.display.HTML object>"
      ]
     },
     "metadata": {},
     "output_type": "display_data"
    },
    {
     "data": {
      "text/html": [
       "<center><font face=\"garamond\" size=\"4\">Occupying, Razing, Alloting</font></center>"
      ],
      "text/plain": [
       "<IPython.core.display.HTML object>"
      ]
     },
     "metadata": {},
     "output_type": "display_data"
    },
    {
     "data": {
      "text/html": [
       "<center><font face=\"garamond\" size=\"4\">Imperialist and Allotter</font></center>"
      ],
      "text/plain": [
       "<IPython.core.display.HTML object>"
      ]
     },
     "metadata": {},
     "output_type": "display_data"
    },
    {
     "data": {
      "text/html": [
       "<center><font face=\"garamond\" size=\"4\"> Settler </font></center>"
      ],
      "text/plain": [
       "<IPython.core.display.HTML object>"
      ]
     },
     "metadata": {},
     "output_type": "display_data"
    },
    {
     "name": "stdout",
     "output_type": "stream",
     "text": [
      "\n",
      "\n"
     ]
    },
    {
     "data": {
      "text/html": [
       "<center><font face=\"garamond\" size=\"4\"> Indigene </font></center>"
      ],
      "text/plain": [
       "<IPython.core.display.HTML object>"
      ]
     },
     "metadata": {},
     "output_type": "display_data"
    },
    {
     "data": {
      "text/html": [
       "<center><font face=\"garamond\" size=\"4\">Precolonial and Diverse</font></center>"
      ],
      "text/plain": [
       "<IPython.core.display.HTML object>"
      ]
     },
     "metadata": {},
     "output_type": "display_data"
    },
    {
     "data": {
      "text/html": [
       "<center><font face=\"garamond\" size=\"4\">Protesting, Treaty Affirming, Preserving</font></center>"
      ],
      "text/plain": [
       "<IPython.core.display.HTML object>"
      ]
     },
     "metadata": {},
     "output_type": "display_data"
    },
    {
     "data": {
      "text/html": [
       "<center><font face=\"garamond\" size=\"4\">Contemporary Stewards and Reparation Denier</font></center>"
      ],
      "text/plain": [
       "<IPython.core.display.HTML object>"
      ]
     },
     "metadata": {},
     "output_type": "display_data"
    },
    {
     "data": {
      "text/html": [
       "<center><font face=\"garamond\" size=\"4\">Razing, Alloting, Farming</font></center>"
      ],
      "text/plain": [
       "<IPython.core.display.HTML object>"
      ]
     },
     "metadata": {},
     "output_type": "display_data"
    },
    {
     "data": {
      "text/html": [
       "<center><font face=\"garamond\" size=\"4\">Scalper and Coloniser</font></center>"
      ],
      "text/plain": [
       "<IPython.core.display.HTML object>"
      ]
     },
     "metadata": {},
     "output_type": "display_data"
    },
    {
     "data": {
      "text/html": [
       "<center><font face=\"garamond\" size=\"4\"> Settler </font></center>"
      ],
      "text/plain": [
       "<IPython.core.display.HTML object>"
      ]
     },
     "metadata": {},
     "output_type": "display_data"
    },
    {
     "name": "stdout",
     "output_type": "stream",
     "text": [
      "\n",
      "\n"
     ]
    },
    {
     "data": {
      "text/html": [
       "<center><font face=\"garamond\" size=\"4\"> Indigene </font></center>"
      ],
      "text/plain": [
       "<IPython.core.display.HTML object>"
      ]
     },
     "metadata": {},
     "output_type": "display_data"
    },
    {
     "data": {
      "text/html": [
       "<center><font face=\"garamond\" size=\"4\">Diverse and Diverse</font></center>"
      ],
      "text/plain": [
       "<IPython.core.display.HTML object>"
      ]
     },
     "metadata": {},
     "output_type": "display_data"
    },
    {
     "data": {
      "text/html": [
       "<center><font face=\"garamond\" size=\"4\">Culture Reclaiming, Preserving, Rights-Asserting</font></center>"
      ],
      "text/plain": [
       "<IPython.core.display.HTML object>"
      ]
     },
     "metadata": {},
     "output_type": "display_data"
    },
    {
     "data": {
      "text/html": [
       "<center><font face=\"garamond\" size=\"4\">Self-Governing and Continuously Expanding</font></center>"
      ],
      "text/plain": [
       "<IPython.core.display.HTML object>"
      ]
     },
     "metadata": {},
     "output_type": "display_data"
    },
    {
     "data": {
      "text/html": [
       "<center><font face=\"garamond\" size=\"4\">Eliminating, Farming, School Boarding</font></center>"
      ],
      "text/plain": [
       "<IPython.core.display.HTML object>"
      ]
     },
     "metadata": {},
     "output_type": "display_data"
    },
    {
     "data": {
      "text/html": [
       "<center><font face=\"garamond\" size=\"4\">Imperialist and Assimilator</font></center>"
      ],
      "text/plain": [
       "<IPython.core.display.HTML object>"
      ]
     },
     "metadata": {},
     "output_type": "display_data"
    },
    {
     "data": {
      "text/html": [
       "<center><font face=\"garamond\" size=\"4\"> Settler </font></center>"
      ],
      "text/plain": [
       "<IPython.core.display.HTML object>"
      ]
     },
     "metadata": {},
     "output_type": "display_data"
    },
    {
     "name": "stdout",
     "output_type": "stream",
     "text": [
      "\n",
      "\n"
     ]
    },
    {
     "data": {
      "text/html": [
       "<center><font face=\"garamond\" size=\"4\"> Indigene </font></center>"
      ],
      "text/plain": [
       "<IPython.core.display.HTML object>"
      ]
     },
     "metadata": {},
     "output_type": "display_data"
    },
    {
     "data": {
      "text/html": [
       "<center><font face=\"garamond\" size=\"4\">Autonomous and Diverse</font></center>"
      ],
      "text/plain": [
       "<IPython.core.display.HTML object>"
      ]
     },
     "metadata": {},
     "output_type": "display_data"
    },
    {
     "data": {
      "text/html": [
       "<center><font face=\"garamond\" size=\"4\">Resisting, Culture Reclaiming, Rights-Asserting</font></center>"
      ],
      "text/plain": [
       "<IPython.core.display.HTML object>"
      ]
     },
     "metadata": {},
     "output_type": "display_data"
    },
    {
     "data": {
      "text/html": [
       "<center><font face=\"garamond\" size=\"4\">Checker-Boarded and Continuously Expanding</font></center>"
      ],
      "text/plain": [
       "<IPython.core.display.HTML object>"
      ]
     },
     "metadata": {},
     "output_type": "display_data"
    },
    {
     "data": {
      "text/html": [
       "<center><font face=\"garamond\" size=\"4\">Encroaching, Razing, Alloting</font></center>"
      ],
      "text/plain": [
       "<IPython.core.display.HTML object>"
      ]
     },
     "metadata": {},
     "output_type": "display_data"
    },
    {
     "data": {
      "text/html": [
       "<center><font face=\"garamond\" size=\"4\">Allotter and Stereotyper</font></center>"
      ],
      "text/plain": [
       "<IPython.core.display.HTML object>"
      ]
     },
     "metadata": {},
     "output_type": "display_data"
    },
    {
     "data": {
      "text/html": [
       "<center><font face=\"garamond\" size=\"4\"> Settler </font></center>"
      ],
      "text/plain": [
       "<IPython.core.display.HTML object>"
      ]
     },
     "metadata": {},
     "output_type": "display_data"
    },
    {
     "name": "stdout",
     "output_type": "stream",
     "text": [
      "\n",
      "\n"
     ]
    },
    {
     "data": {
      "text/html": [
       "<center><font face=\"garamond\" size=\"4\"> Indigene </font></center>"
      ],
      "text/plain": [
       "<IPython.core.display.HTML object>"
      ]
     },
     "metadata": {},
     "output_type": "display_data"
    },
    {
     "data": {
      "text/html": [
       "<center><font face=\"garamond\" size=\"4\">Contemporary and Diverse</font></center>"
      ],
      "text/plain": [
       "<IPython.core.display.HTML object>"
      ]
     },
     "metadata": {},
     "output_type": "display_data"
    },
    {
     "data": {
      "text/html": [
       "<center><font face=\"garamond\" size=\"4\">Treaty Affirming, Lobbying, Decolonising</font></center>"
      ],
      "text/plain": [
       "<IPython.core.display.HTML object>"
      ]
     },
     "metadata": {},
     "output_type": "display_data"
    },
    {
     "data": {
      "text/html": [
       "<center><font face=\"garamond\" size=\"4\">Federally Ignored and Continuously Expanding</font></center>"
      ],
      "text/plain": [
       "<IPython.core.display.HTML object>"
      ]
     },
     "metadata": {},
     "output_type": "display_data"
    },
    {
     "data": {
      "text/html": [
       "<center><font face=\"garamond\" size=\"4\">Razing, School Boarding, Occupying</font></center>"
      ],
      "text/plain": [
       "<IPython.core.display.HTML object>"
      ]
     },
     "metadata": {},
     "output_type": "display_data"
    },
    {
     "data": {
      "text/html": [
       "<center><font face=\"garamond\" size=\"4\">Land Grabber and Ranger</font></center>"
      ],
      "text/plain": [
       "<IPython.core.display.HTML object>"
      ]
     },
     "metadata": {},
     "output_type": "display_data"
    },
    {
     "data": {
      "text/html": [
       "<center><font face=\"garamond\" size=\"4\"> Settler </font></center>"
      ],
      "text/plain": [
       "<IPython.core.display.HTML object>"
      ]
     },
     "metadata": {},
     "output_type": "display_data"
    },
    {
     "name": "stdout",
     "output_type": "stream",
     "text": [
      "\n",
      "\n"
     ]
    },
    {
     "data": {
      "text/html": [
       "<center><font face=\"garamond\" size=\"4\"> Indigene </font></center>"
      ],
      "text/plain": [
       "<IPython.core.display.HTML object>"
      ]
     },
     "metadata": {},
     "output_type": "display_data"
    },
    {
     "data": {
      "text/html": [
       "<center><font face=\"garamond\" size=\"4\">Autonomous and Native</font></center>"
      ],
      "text/plain": [
       "<IPython.core.display.HTML object>"
      ]
     },
     "metadata": {},
     "output_type": "display_data"
    },
    {
     "data": {
      "text/html": [
       "<center><font face=\"garamond\" size=\"4\">Protesting, Preserving, Treaty Affirming</font></center>"
      ],
      "text/plain": [
       "<IPython.core.display.HTML object>"
      ]
     },
     "metadata": {},
     "output_type": "display_data"
    },
    {
     "data": {
      "text/html": [
       "<center><font face=\"garamond\" size=\"4\">Self-Governing and Trained Assimilator</font></center>"
      ],
      "text/plain": [
       "<IPython.core.display.HTML object>"
      ]
     },
     "metadata": {},
     "output_type": "display_data"
    },
    {
     "data": {
      "text/html": [
       "<center><font face=\"garamond\" size=\"4\">Exploiting, Manipulating, School Boarding</font></center>"
      ],
      "text/plain": [
       "<IPython.core.display.HTML object>"
      ]
     },
     "metadata": {},
     "output_type": "display_data"
    },
    {
     "data": {
      "text/html": [
       "<center><font face=\"garamond\" size=\"4\">Land Grabber and Squatter</font></center>"
      ],
      "text/plain": [
       "<IPython.core.display.HTML object>"
      ]
     },
     "metadata": {},
     "output_type": "display_data"
    },
    {
     "data": {
      "text/html": [
       "<center><font face=\"garamond\" size=\"4\"> Settler </font></center>"
      ],
      "text/plain": [
       "<IPython.core.display.HTML object>"
      ]
     },
     "metadata": {},
     "output_type": "display_data"
    },
    {
     "name": "stdout",
     "output_type": "stream",
     "text": [
      "\n",
      "\n"
     ]
    },
    {
     "data": {
      "text/html": [
       "<center><font face=\"garamond\" size=\"4\"> Indigene </font></center>"
      ],
      "text/plain": [
       "<IPython.core.display.HTML object>"
      ]
     },
     "metadata": {},
     "output_type": "display_data"
    },
    {
     "data": {
      "text/html": [
       "<center><font face=\"garamond\" size=\"4\">Diverse and Stewards</font></center>"
      ],
      "text/plain": [
       "<IPython.core.display.HTML object>"
      ]
     },
     "metadata": {},
     "output_type": "display_data"
    },
    {
     "data": {
      "text/html": [
       "<center><font face=\"garamond\" size=\"4\">Rights-Asserting, Culture Reclaiming, Revitalising</font></center>"
      ],
      "text/plain": [
       "<IPython.core.display.HTML object>"
      ]
     },
     "metadata": {},
     "output_type": "display_data"
    },
    {
     "data": {
      "text/html": [
       "<center><font face=\"garamond\" size=\"4\">Governmentally Unrecognised and Narrative Controller</font></center>"
      ],
      "text/plain": [
       "<IPython.core.display.HTML object>"
      ]
     },
     "metadata": {},
     "output_type": "display_data"
    },
    {
     "data": {
      "text/html": [
       "<center><font face=\"garamond\" size=\"4\">School Boarding, Encroaching, Occupying</font></center>"
      ],
      "text/plain": [
       "<IPython.core.display.HTML object>"
      ]
     },
     "metadata": {},
     "output_type": "display_data"
    },
    {
     "data": {
      "text/html": [
       "<center><font face=\"garamond\" size=\"4\">Scalper and Exogenous Other</font></center>"
      ],
      "text/plain": [
       "<IPython.core.display.HTML object>"
      ]
     },
     "metadata": {},
     "output_type": "display_data"
    },
    {
     "data": {
      "text/html": [
       "<center><font face=\"garamond\" size=\"4\"> Settler </font></center>"
      ],
      "text/plain": [
       "<IPython.core.display.HTML object>"
      ]
     },
     "metadata": {},
     "output_type": "display_data"
    },
    {
     "name": "stdout",
     "output_type": "stream",
     "text": [
      "\n",
      "\n"
     ]
    },
    {
     "data": {
      "text/html": [
       "<center><font face=\"garamond\" size=\"4\"> Indigene </font></center>"
      ],
      "text/plain": [
       "<IPython.core.display.HTML object>"
      ]
     },
     "metadata": {},
     "output_type": "display_data"
    },
    {
     "data": {
      "text/html": [
       "<center><font face=\"garamond\" size=\"4\">Contemporary and Diverse</font></center>"
      ],
      "text/plain": [
       "<IPython.core.display.HTML object>"
      ]
     },
     "metadata": {},
     "output_type": "display_data"
    },
    {
     "data": {
      "text/html": [
       "<center><font face=\"garamond\" size=\"4\">Lobbying, Protesting, Preserving</font></center>"
      ],
      "text/plain": [
       "<IPython.core.display.HTML object>"
      ]
     },
     "metadata": {},
     "output_type": "display_data"
    },
    {
     "data": {
      "text/html": [
       "<center><font face=\"garamond\" size=\"4\">Contemporary Stewards and Trained Assimilator</font></center>"
      ],
      "text/plain": [
       "<IPython.core.display.HTML object>"
      ]
     },
     "metadata": {},
     "output_type": "display_data"
    },
    {
     "data": {
      "text/html": [
       "<center><font face=\"garamond\" size=\"4\">Razing, School Boarding, Manipulating</font></center>"
      ],
      "text/plain": [
       "<IPython.core.display.HTML object>"
      ]
     },
     "metadata": {},
     "output_type": "display_data"
    },
    {
     "data": {
      "text/html": [
       "<center><font face=\"garamond\" size=\"4\">Assimilator and Coloniser</font></center>"
      ],
      "text/plain": [
       "<IPython.core.display.HTML object>"
      ]
     },
     "metadata": {},
     "output_type": "display_data"
    },
    {
     "data": {
      "text/html": [
       "<center><font face=\"garamond\" size=\"4\"> Settler </font></center>"
      ],
      "text/plain": [
       "<IPython.core.display.HTML object>"
      ]
     },
     "metadata": {},
     "output_type": "display_data"
    },
    {
     "name": "stdout",
     "output_type": "stream",
     "text": [
      "\n",
      "\n"
     ]
    },
    {
     "data": {
      "text/html": [
       "<center><font face=\"garamond\" size=\"4\"> Indigene </font></center>"
      ],
      "text/plain": [
       "<IPython.core.display.HTML object>"
      ]
     },
     "metadata": {},
     "output_type": "display_data"
    },
    {
     "data": {
      "text/html": [
       "<center><font face=\"garamond\" size=\"4\">Contemporary and Precolonial</font></center>"
      ],
      "text/plain": [
       "<IPython.core.display.HTML object>"
      ]
     },
     "metadata": {},
     "output_type": "display_data"
    },
    {
     "data": {
      "text/html": [
       "<center><font face=\"garamond\" size=\"4\">Decolonising, Resisting, Rights-Asserting</font></center>"
      ],
      "text/plain": [
       "<IPython.core.display.HTML object>"
      ]
     },
     "metadata": {},
     "output_type": "display_data"
    },
    {
     "data": {
      "text/html": [
       "<center><font face=\"garamond\" size=\"4\">Recognised Globally and Blood Quantamiser</font></center>"
      ],
      "text/plain": [
       "<IPython.core.display.HTML object>"
      ]
     },
     "metadata": {},
     "output_type": "display_data"
    },
    {
     "data": {
      "text/html": [
       "<center><font face=\"garamond\" size=\"4\">Eliminating, Subduing, Manipulating</font></center>"
      ],
      "text/plain": [
       "<IPython.core.display.HTML object>"
      ]
     },
     "metadata": {},
     "output_type": "display_data"
    },
    {
     "data": {
      "text/html": [
       "<center><font face=\"garamond\" size=\"4\">Allotter and Coloniser</font></center>"
      ],
      "text/plain": [
       "<IPython.core.display.HTML object>"
      ]
     },
     "metadata": {},
     "output_type": "display_data"
    },
    {
     "data": {
      "text/html": [
       "<center><font face=\"garamond\" size=\"4\"> Settler </font></center>"
      ],
      "text/plain": [
       "<IPython.core.display.HTML object>"
      ]
     },
     "metadata": {},
     "output_type": "display_data"
    },
    {
     "name": "stdout",
     "output_type": "stream",
     "text": [
      "\n",
      "\n"
     ]
    },
    {
     "data": {
      "text/html": [
       "<center><font face=\"garamond\" size=\"4\"> Indigene </font></center>"
      ],
      "text/plain": [
       "<IPython.core.display.HTML object>"
      ]
     },
     "metadata": {},
     "output_type": "display_data"
    },
    {
     "data": {
      "text/html": [
       "<center><font face=\"garamond\" size=\"4\">Autonomous and Diverse</font></center>"
      ],
      "text/plain": [
       "<IPython.core.display.HTML object>"
      ]
     },
     "metadata": {},
     "output_type": "display_data"
    },
    {
     "data": {
      "text/html": [
       "<center><font face=\"garamond\" size=\"4\">Defending, Treaty Affirming, Culture Reclaiming</font></center>"
      ],
      "text/plain": [
       "<IPython.core.display.HTML object>"
      ]
     },
     "metadata": {},
     "output_type": "display_data"
    },
    {
     "data": {
      "text/html": [
       "<center><font face=\"garamond\" size=\"4\">Federally Ignored and Cultural Repressor</font></center>"
      ],
      "text/plain": [
       "<IPython.core.display.HTML object>"
      ]
     },
     "metadata": {},
     "output_type": "display_data"
    },
    {
     "data": {
      "text/html": [
       "<center><font face=\"garamond\" size=\"4\">Eliminating, Razing, Exploiting</font></center>"
      ],
      "text/plain": [
       "<IPython.core.display.HTML object>"
      ]
     },
     "metadata": {},
     "output_type": "display_data"
    },
    {
     "data": {
      "text/html": [
       "<center><font face=\"garamond\" size=\"4\">Frontiersman and Stereotyper</font></center>"
      ],
      "text/plain": [
       "<IPython.core.display.HTML object>"
      ]
     },
     "metadata": {},
     "output_type": "display_data"
    },
    {
     "data": {
      "text/html": [
       "<center><font face=\"garamond\" size=\"4\"> Settler </font></center>"
      ],
      "text/plain": [
       "<IPython.core.display.HTML object>"
      ]
     },
     "metadata": {},
     "output_type": "display_data"
    },
    {
     "name": "stdout",
     "output_type": "stream",
     "text": [
      "\n",
      "\n"
     ]
    },
    {
     "data": {
      "text/html": [
       "<center><font face=\"garamond\" size=\"4\"> Indigene </font></center>"
      ],
      "text/plain": [
       "<IPython.core.display.HTML object>"
      ]
     },
     "metadata": {},
     "output_type": "display_data"
    },
    {
     "data": {
      "text/html": [
       "<center><font face=\"garamond\" size=\"4\">Resiliant and Diverse</font></center>"
      ],
      "text/plain": [
       "<IPython.core.display.HTML object>"
      ]
     },
     "metadata": {},
     "output_type": "display_data"
    },
    {
     "data": {
      "text/html": [
       "<center><font face=\"garamond\" size=\"4\">Decolonising, Defending, Protesting</font></center>"
      ],
      "text/plain": [
       "<IPython.core.display.HTML object>"
      ]
     },
     "metadata": {},
     "output_type": "display_data"
    },
    {
     "data": {
      "text/html": [
       "<center><font face=\"garamond\" size=\"4\">Self-Governing and Cultural Repressor</font></center>"
      ],
      "text/plain": [
       "<IPython.core.display.HTML object>"
      ]
     },
     "metadata": {},
     "output_type": "display_data"
    },
    {
     "data": {
      "text/html": [
       "<center><font face=\"garamond\" size=\"4\">Manipulating, Razing, Farming</font></center>"
      ],
      "text/plain": [
       "<IPython.core.display.HTML object>"
      ]
     },
     "metadata": {},
     "output_type": "display_data"
    },
    {
     "data": {
      "text/html": [
       "<center><font face=\"garamond\" size=\"4\">Stereotyper and Ranger</font></center>"
      ],
      "text/plain": [
       "<IPython.core.display.HTML object>"
      ]
     },
     "metadata": {},
     "output_type": "display_data"
    },
    {
     "data": {
      "text/html": [
       "<center><font face=\"garamond\" size=\"4\"> Settler </font></center>"
      ],
      "text/plain": [
       "<IPython.core.display.HTML object>"
      ]
     },
     "metadata": {},
     "output_type": "display_data"
    },
    {
     "name": "stdout",
     "output_type": "stream",
     "text": [
      "\n",
      "\n"
     ]
    },
    {
     "data": {
      "text/html": [
       "<center><font face=\"garamond\" size=\"4\"> Indigene </font></center>"
      ],
      "text/plain": [
       "<IPython.core.display.HTML object>"
      ]
     },
     "metadata": {},
     "output_type": "display_data"
    },
    {
     "data": {
      "text/html": [
       "<center><font face=\"garamond\" size=\"4\">Diverse and Autonomous</font></center>"
      ],
      "text/plain": [
       "<IPython.core.display.HTML object>"
      ]
     },
     "metadata": {},
     "output_type": "display_data"
    },
    {
     "data": {
      "text/html": [
       "<center><font face=\"garamond\" size=\"4\">Protesting, Lobbying, Rights-Asserting</font></center>"
      ],
      "text/plain": [
       "<IPython.core.display.HTML object>"
      ]
     },
     "metadata": {},
     "output_type": "display_data"
    },
    {
     "data": {
      "text/html": [
       "<center><font face=\"garamond\" size=\"4\">Continually Strengthening and Reparation Denier</font></center>"
      ],
      "text/plain": [
       "<IPython.core.display.HTML object>"
      ]
     },
     "metadata": {},
     "output_type": "display_data"
    },
    {
     "data": {
      "text/html": [
       "<center><font face=\"garamond\" size=\"4\">Farming, Eliminating, Encroaching</font></center>"
      ],
      "text/plain": [
       "<IPython.core.display.HTML object>"
      ]
     },
     "metadata": {},
     "output_type": "display_data"
    },
    {
     "data": {
      "text/html": [
       "<center><font face=\"garamond\" size=\"4\">Assimilator and Squatter</font></center>"
      ],
      "text/plain": [
       "<IPython.core.display.HTML object>"
      ]
     },
     "metadata": {},
     "output_type": "display_data"
    },
    {
     "data": {
      "text/html": [
       "<center><font face=\"garamond\" size=\"4\"> Settler </font></center>"
      ],
      "text/plain": [
       "<IPython.core.display.HTML object>"
      ]
     },
     "metadata": {},
     "output_type": "display_data"
    },
    {
     "name": "stdout",
     "output_type": "stream",
     "text": [
      "\n",
      "\n"
     ]
    },
    {
     "data": {
      "text/html": [
       "<center><font face=\"garamond\" size=\"4\"> Indigene </font></center>"
      ],
      "text/plain": [
       "<IPython.core.display.HTML object>"
      ]
     },
     "metadata": {},
     "output_type": "display_data"
    },
    {
     "data": {
      "text/html": [
       "<center><font face=\"garamond\" size=\"4\">Autonomous and Diverse</font></center>"
      ],
      "text/plain": [
       "<IPython.core.display.HTML object>"
      ]
     },
     "metadata": {},
     "output_type": "display_data"
    },
    {
     "data": {
      "text/html": [
       "<center><font face=\"garamond\" size=\"4\">Preserving, Revitalising, Protesting</font></center>"
      ],
      "text/plain": [
       "<IPython.core.display.HTML object>"
      ]
     },
     "metadata": {},
     "output_type": "display_data"
    },
    {
     "data": {
      "text/html": [
       "<center><font face=\"garamond\" size=\"4\">Continually Strengthening and Golf Course Maker</font></center>"
      ],
      "text/plain": [
       "<IPython.core.display.HTML object>"
      ]
     },
     "metadata": {},
     "output_type": "display_data"
    },
    {
     "data": {
      "text/html": [
       "<center><font face=\"garamond\" size=\"4\">Displacing, School Boarding, Razing</font></center>"
      ],
      "text/plain": [
       "<IPython.core.display.HTML object>"
      ]
     },
     "metadata": {},
     "output_type": "display_data"
    },
    {
     "data": {
      "text/html": [
       "<center><font face=\"garamond\" size=\"4\">Squatter and Coloniser</font></center>"
      ],
      "text/plain": [
       "<IPython.core.display.HTML object>"
      ]
     },
     "metadata": {},
     "output_type": "display_data"
    },
    {
     "data": {
      "text/html": [
       "<center><font face=\"garamond\" size=\"4\"> Settler </font></center>"
      ],
      "text/plain": [
       "<IPython.core.display.HTML object>"
      ]
     },
     "metadata": {},
     "output_type": "display_data"
    },
    {
     "name": "stdout",
     "output_type": "stream",
     "text": [
      "\n",
      "\n"
     ]
    },
    {
     "data": {
      "text/html": [
       "<center><font face=\"garamond\" size=\"4\"> Indigene </font></center>"
      ],
      "text/plain": [
       "<IPython.core.display.HTML object>"
      ]
     },
     "metadata": {},
     "output_type": "display_data"
    },
    {
     "data": {
      "text/html": [
       "<center><font face=\"garamond\" size=\"4\">Native and Diverse</font></center>"
      ],
      "text/plain": [
       "<IPython.core.display.HTML object>"
      ]
     },
     "metadata": {},
     "output_type": "display_data"
    },
    {
     "data": {
      "text/html": [
       "<center><font face=\"garamond\" size=\"4\">Revitalising, Culture Reclaiming, Decolonising</font></center>"
      ],
      "text/plain": [
       "<IPython.core.display.HTML object>"
      ]
     },
     "metadata": {},
     "output_type": "display_data"
    },
    {
     "data": {
      "text/html": [
       "<center><font face=\"garamond\" size=\"4\">Checker-Boarded and Golf Course Maker</font></center>"
      ],
      "text/plain": [
       "<IPython.core.display.HTML object>"
      ]
     },
     "metadata": {},
     "output_type": "display_data"
    },
    {
     "data": {
      "text/html": [
       "<center><font face=\"garamond\" size=\"4\">Encroaching, Alloting, Occupying</font></center>"
      ],
      "text/plain": [
       "<IPython.core.display.HTML object>"
      ]
     },
     "metadata": {},
     "output_type": "display_data"
    },
    {
     "data": {
      "text/html": [
       "<center><font face=\"garamond\" size=\"4\">Ranger and Rancher</font></center>"
      ],
      "text/plain": [
       "<IPython.core.display.HTML object>"
      ]
     },
     "metadata": {},
     "output_type": "display_data"
    },
    {
     "data": {
      "text/html": [
       "<center><font face=\"garamond\" size=\"4\"> Settler </font></center>"
      ],
      "text/plain": [
       "<IPython.core.display.HTML object>"
      ]
     },
     "metadata": {},
     "output_type": "display_data"
    },
    {
     "name": "stdout",
     "output_type": "stream",
     "text": [
      "\n",
      "\n"
     ]
    },
    {
     "data": {
      "text/html": [
       "<center><font face=\"garamond\" size=\"4\"> Indigene </font></center>"
      ],
      "text/plain": [
       "<IPython.core.display.HTML object>"
      ]
     },
     "metadata": {},
     "output_type": "display_data"
    },
    {
     "data": {
      "text/html": [
       "<center><font face=\"garamond\" size=\"4\">Resiliant and Autonomous</font></center>"
      ],
      "text/plain": [
       "<IPython.core.display.HTML object>"
      ]
     },
     "metadata": {},
     "output_type": "display_data"
    },
    {
     "data": {
      "text/html": [
       "<center><font face=\"garamond\" size=\"4\">Decolonising, Lobbying, Resisting</font></center>"
      ],
      "text/plain": [
       "<IPython.core.display.HTML object>"
      ]
     },
     "metadata": {},
     "output_type": "display_data"
    },
    {
     "data": {
      "text/html": [
       "<center><font face=\"garamond\" size=\"4\">Politically Shunned and Contemporary Invader</font></center>"
      ],
      "text/plain": [
       "<IPython.core.display.HTML object>"
      ]
     },
     "metadata": {},
     "output_type": "display_data"
    },
    {
     "data": {
      "text/html": [
       "<center><font face=\"garamond\" size=\"4\">Alloting, Subduing, Razing</font></center>"
      ],
      "text/plain": [
       "<IPython.core.display.HTML object>"
      ]
     },
     "metadata": {},
     "output_type": "display_data"
    },
    {
     "data": {
      "text/html": [
       "<center><font face=\"garamond\" size=\"4\">Scalper and Assimilator</font></center>"
      ],
      "text/plain": [
       "<IPython.core.display.HTML object>"
      ]
     },
     "metadata": {},
     "output_type": "display_data"
    },
    {
     "data": {
      "text/html": [
       "<center><font face=\"garamond\" size=\"4\"> Settler </font></center>"
      ],
      "text/plain": [
       "<IPython.core.display.HTML object>"
      ]
     },
     "metadata": {},
     "output_type": "display_data"
    },
    {
     "name": "stdout",
     "output_type": "stream",
     "text": [
      "\n",
      "\n"
     ]
    },
    {
     "data": {
      "text/html": [
       "<center><font face=\"garamond\" size=\"4\"> Indigene </font></center>"
      ],
      "text/plain": [
       "<IPython.core.display.HTML object>"
      ]
     },
     "metadata": {},
     "output_type": "display_data"
    },
    {
     "data": {
      "text/html": [
       "<center><font face=\"garamond\" size=\"4\">First Peoples and Contemporary</font></center>"
      ],
      "text/plain": [
       "<IPython.core.display.HTML object>"
      ]
     },
     "metadata": {},
     "output_type": "display_data"
    },
    {
     "data": {
      "text/html": [
       "<center><font face=\"garamond\" size=\"4\">Treaty Affirming, Decolonising, Culture Reclaiming</font></center>"
      ],
      "text/plain": [
       "<IPython.core.display.HTML object>"
      ]
     },
     "metadata": {},
     "output_type": "display_data"
    },
    {
     "data": {
      "text/html": [
       "<center><font face=\"garamond\" size=\"4\">Culturally Appropriated and Cultural Repressor</font></center>"
      ],
      "text/plain": [
       "<IPython.core.display.HTML object>"
      ]
     },
     "metadata": {},
     "output_type": "display_data"
    },
    {
     "data": {
      "text/html": [
       "<center><font face=\"garamond\" size=\"4\">Manipulating, Subduing, Encroaching</font></center>"
      ],
      "text/plain": [
       "<IPython.core.display.HTML object>"
      ]
     },
     "metadata": {},
     "output_type": "display_data"
    },
    {
     "data": {
      "text/html": [
       "<center><font face=\"garamond\" size=\"4\">Frontiersman and Assimilator</font></center>"
      ],
      "text/plain": [
       "<IPython.core.display.HTML object>"
      ]
     },
     "metadata": {},
     "output_type": "display_data"
    },
    {
     "data": {
      "text/html": [
       "<center><font face=\"garamond\" size=\"4\"> Settler </font></center>"
      ],
      "text/plain": [
       "<IPython.core.display.HTML object>"
      ]
     },
     "metadata": {},
     "output_type": "display_data"
    },
    {
     "name": "stdout",
     "output_type": "stream",
     "text": [
      "\n",
      "\n"
     ]
    },
    {
     "data": {
      "text/html": [
       "<center><font face=\"garamond\" size=\"4\"> Indigene </font></center>"
      ],
      "text/plain": [
       "<IPython.core.display.HTML object>"
      ]
     },
     "metadata": {},
     "output_type": "display_data"
    },
    {
     "data": {
      "text/html": [
       "<center><font face=\"garamond\" size=\"4\">Precolonial and Autonomous</font></center>"
      ],
      "text/plain": [
       "<IPython.core.display.HTML object>"
      ]
     },
     "metadata": {},
     "output_type": "display_data"
    },
    {
     "data": {
      "text/html": [
       "<center><font face=\"garamond\" size=\"4\">Decolonising, Protesting, Defending</font></center>"
      ],
      "text/plain": [
       "<IPython.core.display.HTML object>"
      ]
     },
     "metadata": {},
     "output_type": "display_data"
    },
    {
     "data": {
      "text/html": [
       "<center><font face=\"garamond\" size=\"4\">Checker-Boarded and Contemporary Invader</font></center>"
      ],
      "text/plain": [
       "<IPython.core.display.HTML object>"
      ]
     },
     "metadata": {},
     "output_type": "display_data"
    },
    {
     "data": {
      "text/html": [
       "<center><font face=\"garamond\" size=\"4\">Exploiting, Encroaching, Alloting</font></center>"
      ],
      "text/plain": [
       "<IPython.core.display.HTML object>"
      ]
     },
     "metadata": {},
     "output_type": "display_data"
    },
    {
     "data": {
      "text/html": [
       "<center><font face=\"garamond\" size=\"4\">Coloniser and Squatter</font></center>"
      ],
      "text/plain": [
       "<IPython.core.display.HTML object>"
      ]
     },
     "metadata": {},
     "output_type": "display_data"
    },
    {
     "data": {
      "text/html": [
       "<center><font face=\"garamond\" size=\"4\"> Settler </font></center>"
      ],
      "text/plain": [
       "<IPython.core.display.HTML object>"
      ]
     },
     "metadata": {},
     "output_type": "display_data"
    },
    {
     "name": "stdout",
     "output_type": "stream",
     "text": [
      "\n",
      "\n"
     ]
    },
    {
     "data": {
      "text/html": [
       "<center><font face=\"garamond\" size=\"4\"> Indigene </font></center>"
      ],
      "text/plain": [
       "<IPython.core.display.HTML object>"
      ]
     },
     "metadata": {},
     "output_type": "display_data"
    },
    {
     "data": {
      "text/html": [
       "<center><font face=\"garamond\" size=\"4\">Diverse and Precolonial</font></center>"
      ],
      "text/plain": [
       "<IPython.core.display.HTML object>"
      ]
     },
     "metadata": {},
     "output_type": "display_data"
    },
    {
     "data": {
      "text/html": [
       "<center><font face=\"garamond\" size=\"4\">Rights-Asserting, Lobbying, Decolonising</font></center>"
      ],
      "text/plain": [
       "<IPython.core.display.HTML object>"
      ]
     },
     "metadata": {},
     "output_type": "display_data"
    },
    {
     "data": {
      "text/html": [
       "<center><font face=\"garamond\" size=\"4\">Recognised Globally and Narrative Controller</font></center>"
      ],
      "text/plain": [
       "<IPython.core.display.HTML object>"
      ]
     },
     "metadata": {},
     "output_type": "display_data"
    },
    {
     "data": {
      "text/html": [
       "<center><font face=\"garamond\" size=\"4\">Exploiting, Manipulating, Occupying</font></center>"
      ],
      "text/plain": [
       "<IPython.core.display.HTML object>"
      ]
     },
     "metadata": {},
     "output_type": "display_data"
    },
    {
     "data": {
      "text/html": [
       "<center><font face=\"garamond\" size=\"4\">Frontiersman and Assimilator</font></center>"
      ],
      "text/plain": [
       "<IPython.core.display.HTML object>"
      ]
     },
     "metadata": {},
     "output_type": "display_data"
    },
    {
     "data": {
      "text/html": [
       "<center><font face=\"garamond\" size=\"4\"> Settler </font></center>"
      ],
      "text/plain": [
       "<IPython.core.display.HTML object>"
      ]
     },
     "metadata": {},
     "output_type": "display_data"
    },
    {
     "name": "stdout",
     "output_type": "stream",
     "text": [
      "\n",
      "\n"
     ]
    },
    {
     "data": {
      "text/html": [
       "<center><font face=\"garamond\" size=\"4\"> Indigene </font></center>"
      ],
      "text/plain": [
       "<IPython.core.display.HTML object>"
      ]
     },
     "metadata": {},
     "output_type": "display_data"
    },
    {
     "data": {
      "text/html": [
       "<center><font face=\"garamond\" size=\"4\">Sovereign and Resiliant</font></center>"
      ],
      "text/plain": [
       "<IPython.core.display.HTML object>"
      ]
     },
     "metadata": {},
     "output_type": "display_data"
    },
    {
     "data": {
      "text/html": [
       "<center><font face=\"garamond\" size=\"4\">Protesting, Revitalising, Rights-Asserting</font></center>"
      ],
      "text/plain": [
       "<IPython.core.display.HTML object>"
      ]
     },
     "metadata": {},
     "output_type": "display_data"
    },
    {
     "data": {
      "text/html": [
       "<center><font face=\"garamond\" size=\"4\">Checker-Boarded and Politically dominant</font></center>"
      ],
      "text/plain": [
       "<IPython.core.display.HTML object>"
      ]
     },
     "metadata": {},
     "output_type": "display_data"
    },
    {
     "data": {
      "text/html": [
       "<center><font face=\"garamond\" size=\"4\">Subduing, Manipulating, Displacing</font></center>"
      ],
      "text/plain": [
       "<IPython.core.display.HTML object>"
      ]
     },
     "metadata": {},
     "output_type": "display_data"
    },
    {
     "data": {
      "text/html": [
       "<center><font face=\"garamond\" size=\"4\">Scalper and Ranger</font></center>"
      ],
      "text/plain": [
       "<IPython.core.display.HTML object>"
      ]
     },
     "metadata": {},
     "output_type": "display_data"
    },
    {
     "data": {
      "text/html": [
       "<center><font face=\"garamond\" size=\"4\"> Settler </font></center>"
      ],
      "text/plain": [
       "<IPython.core.display.HTML object>"
      ]
     },
     "metadata": {},
     "output_type": "display_data"
    },
    {
     "name": "stdout",
     "output_type": "stream",
     "text": [
      "\n",
      "\n"
     ]
    },
    {
     "data": {
      "text/html": [
       "<center><font face=\"garamond\" size=\"4\"> Indigene </font></center>"
      ],
      "text/plain": [
       "<IPython.core.display.HTML object>"
      ]
     },
     "metadata": {},
     "output_type": "display_data"
    },
    {
     "data": {
      "text/html": [
       "<center><font face=\"garamond\" size=\"4\">Precolonial and Native</font></center>"
      ],
      "text/plain": [
       "<IPython.core.display.HTML object>"
      ]
     },
     "metadata": {},
     "output_type": "display_data"
    },
    {
     "data": {
      "text/html": [
       "<center><font face=\"garamond\" size=\"4\">Decolonising, Treaty Affirming, Resisting</font></center>"
      ],
      "text/plain": [
       "<IPython.core.display.HTML object>"
      ]
     },
     "metadata": {},
     "output_type": "display_data"
    },
    {
     "data": {
      "text/html": [
       "<center><font face=\"garamond\" size=\"4\">Politically Shunned and Politically dominant</font></center>"
      ],
      "text/plain": [
       "<IPython.core.display.HTML object>"
      ]
     },
     "metadata": {},
     "output_type": "display_data"
    },
    {
     "data": {
      "text/html": [
       "<center><font face=\"garamond\" size=\"4\">Eliminating, Alloting, Subduing</font></center>"
      ],
      "text/plain": [
       "<IPython.core.display.HTML object>"
      ]
     },
     "metadata": {},
     "output_type": "display_data"
    },
    {
     "data": {
      "text/html": [
       "<center><font face=\"garamond\" size=\"4\">Scalper and Imperialist</font></center>"
      ],
      "text/plain": [
       "<IPython.core.display.HTML object>"
      ]
     },
     "metadata": {},
     "output_type": "display_data"
    },
    {
     "data": {
      "text/html": [
       "<center><font face=\"garamond\" size=\"4\"> Settler </font></center>"
      ],
      "text/plain": [
       "<IPython.core.display.HTML object>"
      ]
     },
     "metadata": {},
     "output_type": "display_data"
    },
    {
     "name": "stdout",
     "output_type": "stream",
     "text": [
      "\n",
      "\n"
     ]
    },
    {
     "data": {
      "text/html": [
       "<center><font face=\"garamond\" size=\"4\"> Indigene </font></center>"
      ],
      "text/plain": [
       "<IPython.core.display.HTML object>"
      ]
     },
     "metadata": {},
     "output_type": "display_data"
    },
    {
     "data": {
      "text/html": [
       "<center><font face=\"garamond\" size=\"4\">First Peoples and Diverse</font></center>"
      ],
      "text/plain": [
       "<IPython.core.display.HTML object>"
      ]
     },
     "metadata": {},
     "output_type": "display_data"
    },
    {
     "data": {
      "text/html": [
       "<center><font face=\"garamond\" size=\"4\">Defending, Culture Reclaiming, Resisting</font></center>"
      ],
      "text/plain": [
       "<IPython.core.display.HTML object>"
      ]
     },
     "metadata": {},
     "output_type": "display_data"
    },
    {
     "data": {
      "text/html": [
       "<center><font face=\"garamond\" size=\"4\">Contemporary Stewards and Cultural Repressor</font></center>"
      ],
      "text/plain": [
       "<IPython.core.display.HTML object>"
      ]
     },
     "metadata": {},
     "output_type": "display_data"
    },
    {
     "data": {
      "text/html": [
       "<center><font face=\"garamond\" size=\"4\">Manipulating, Farming, Exploiting</font></center>"
      ],
      "text/plain": [
       "<IPython.core.display.HTML object>"
      ]
     },
     "metadata": {},
     "output_type": "display_data"
    },
    {
     "data": {
      "text/html": [
       "<center><font face=\"garamond\" size=\"4\">Frontiersman and Assimilator</font></center>"
      ],
      "text/plain": [
       "<IPython.core.display.HTML object>"
      ]
     },
     "metadata": {},
     "output_type": "display_data"
    },
    {
     "data": {
      "text/html": [
       "<center><font face=\"garamond\" size=\"4\"> Settler </font></center>"
      ],
      "text/plain": [
       "<IPython.core.display.HTML object>"
      ]
     },
     "metadata": {},
     "output_type": "display_data"
    },
    {
     "name": "stdout",
     "output_type": "stream",
     "text": [
      "\n",
      "\n"
     ]
    },
    {
     "data": {
      "text/html": [
       "<center><font face=\"garamond\" size=\"4\"> Indigene </font></center>"
      ],
      "text/plain": [
       "<IPython.core.display.HTML object>"
      ]
     },
     "metadata": {},
     "output_type": "display_data"
    },
    {
     "data": {
      "text/html": [
       "<center><font face=\"garamond\" size=\"4\">Stewards and Autonomous</font></center>"
      ],
      "text/plain": [
       "<IPython.core.display.HTML object>"
      ]
     },
     "metadata": {},
     "output_type": "display_data"
    },
    {
     "data": {
      "text/html": [
       "<center><font face=\"garamond\" size=\"4\">Revitalising, Culture Reclaiming, Resisting</font></center>"
      ],
      "text/plain": [
       "<IPython.core.display.HTML object>"
      ]
     },
     "metadata": {},
     "output_type": "display_data"
    },
    {
     "data": {
      "text/html": [
       "<center><font face=\"garamond\" size=\"4\">Communally Resistant and Continuously Expanding</font></center>"
      ],
      "text/plain": [
       "<IPython.core.display.HTML object>"
      ]
     },
     "metadata": {},
     "output_type": "display_data"
    },
    {
     "data": {
      "text/html": [
       "<center><font face=\"garamond\" size=\"4\">Farming, Razing, Alloting</font></center>"
      ],
      "text/plain": [
       "<IPython.core.display.HTML object>"
      ]
     },
     "metadata": {},
     "output_type": "display_data"
    },
    {
     "data": {
      "text/html": [
       "<center><font face=\"garamond\" size=\"4\">Scalper and Coloniser</font></center>"
      ],
      "text/plain": [
       "<IPython.core.display.HTML object>"
      ]
     },
     "metadata": {},
     "output_type": "display_data"
    },
    {
     "data": {
      "text/html": [
       "<center><font face=\"garamond\" size=\"4\"> Settler </font></center>"
      ],
      "text/plain": [
       "<IPython.core.display.HTML object>"
      ]
     },
     "metadata": {},
     "output_type": "display_data"
    },
    {
     "name": "stdout",
     "output_type": "stream",
     "text": [
      "\n",
      "\n"
     ]
    },
    {
     "data": {
      "text/html": [
       "<center><font face=\"garamond\" size=\"4\"> Indigene </font></center>"
      ],
      "text/plain": [
       "<IPython.core.display.HTML object>"
      ]
     },
     "metadata": {},
     "output_type": "display_data"
    },
    {
     "data": {
      "text/html": [
       "<center><font face=\"garamond\" size=\"4\">Resiliant and Precolonial</font></center>"
      ],
      "text/plain": [
       "<IPython.core.display.HTML object>"
      ]
     },
     "metadata": {},
     "output_type": "display_data"
    },
    {
     "data": {
      "text/html": [
       "<center><font face=\"garamond\" size=\"4\">Revitalising, Decolonising, Rights-Asserting</font></center>"
      ],
      "text/plain": [
       "<IPython.core.display.HTML object>"
      ]
     },
     "metadata": {},
     "output_type": "display_data"
    },
    {
     "data": {
      "text/html": [
       "<center><font face=\"garamond\" size=\"4\">Governmentally Unrecognised and Trained Assimilator</font></center>"
      ],
      "text/plain": [
       "<IPython.core.display.HTML object>"
      ]
     },
     "metadata": {},
     "output_type": "display_data"
    },
    {
     "data": {
      "text/html": [
       "<center><font face=\"garamond\" size=\"4\">Occupying, Encroaching, Manipulating</font></center>"
      ],
      "text/plain": [
       "<IPython.core.display.HTML object>"
      ]
     },
     "metadata": {},
     "output_type": "display_data"
    },
    {
     "data": {
      "text/html": [
       "<center><font face=\"garamond\" size=\"4\">Stereotyper and Allotter</font></center>"
      ],
      "text/plain": [
       "<IPython.core.display.HTML object>"
      ]
     },
     "metadata": {},
     "output_type": "display_data"
    },
    {
     "data": {
      "text/html": [
       "<center><font face=\"garamond\" size=\"4\"> Settler </font></center>"
      ],
      "text/plain": [
       "<IPython.core.display.HTML object>"
      ]
     },
     "metadata": {},
     "output_type": "display_data"
    },
    {
     "name": "stdout",
     "output_type": "stream",
     "text": [
      "\n",
      "\n"
     ]
    },
    {
     "data": {
      "text/html": [
       "<center><font face=\"garamond\" size=\"4\"> Indigene </font></center>"
      ],
      "text/plain": [
       "<IPython.core.display.HTML object>"
      ]
     },
     "metadata": {},
     "output_type": "display_data"
    },
    {
     "data": {
      "text/html": [
       "<center><font face=\"garamond\" size=\"4\">Diverse and Native</font></center>"
      ],
      "text/plain": [
       "<IPython.core.display.HTML object>"
      ]
     },
     "metadata": {},
     "output_type": "display_data"
    },
    {
     "data": {
      "text/html": [
       "<center><font face=\"garamond\" size=\"4\">Protesting, Defending, Revitalising</font></center>"
      ],
      "text/plain": [
       "<IPython.core.display.HTML object>"
      ]
     },
     "metadata": {},
     "output_type": "display_data"
    },
    {
     "data": {
      "text/html": [
       "<center><font face=\"garamond\" size=\"4\">Continually Strengthening and Cultural Repressor</font></center>"
      ],
      "text/plain": [
       "<IPython.core.display.HTML object>"
      ]
     },
     "metadata": {},
     "output_type": "display_data"
    },
    {
     "data": {
      "text/html": [
       "<center><font face=\"garamond\" size=\"4\">Encroaching, Displacing, Alloting</font></center>"
      ],
      "text/plain": [
       "<IPython.core.display.HTML object>"
      ]
     },
     "metadata": {},
     "output_type": "display_data"
    },
    {
     "data": {
      "text/html": [
       "<center><font face=\"garamond\" size=\"4\">Settler-Colonialist and Scalper</font></center>"
      ],
      "text/plain": [
       "<IPython.core.display.HTML object>"
      ]
     },
     "metadata": {},
     "output_type": "display_data"
    },
    {
     "data": {
      "text/html": [
       "<center><font face=\"garamond\" size=\"4\"> Settler </font></center>"
      ],
      "text/plain": [
       "<IPython.core.display.HTML object>"
      ]
     },
     "metadata": {},
     "output_type": "display_data"
    },
    {
     "name": "stdout",
     "output_type": "stream",
     "text": [
      "\n",
      "\n"
     ]
    },
    {
     "data": {
      "text/html": [
       "<center><font face=\"garamond\" size=\"4\"> Indigene </font></center>"
      ],
      "text/plain": [
       "<IPython.core.display.HTML object>"
      ]
     },
     "metadata": {},
     "output_type": "display_data"
    },
    {
     "data": {
      "text/html": [
       "<center><font face=\"garamond\" size=\"4\">Diverse and Resiliant</font></center>"
      ],
      "text/plain": [
       "<IPython.core.display.HTML object>"
      ]
     },
     "metadata": {},
     "output_type": "display_data"
    },
    {
     "data": {
      "text/html": [
       "<center><font face=\"garamond\" size=\"4\">Resisting, Lobbying, Preserving</font></center>"
      ],
      "text/plain": [
       "<IPython.core.display.HTML object>"
      ]
     },
     "metadata": {},
     "output_type": "display_data"
    },
    {
     "data": {
      "text/html": [
       "<center><font face=\"garamond\" size=\"4\">Continually Strengthening and Blood Quantamiser</font></center>"
      ],
      "text/plain": [
       "<IPython.core.display.HTML object>"
      ]
     },
     "metadata": {},
     "output_type": "display_data"
    },
    {
     "data": {
      "text/html": [
       "<center><font face=\"garamond\" size=\"4\">Exploiting, School Boarding, Displacing</font></center>"
      ],
      "text/plain": [
       "<IPython.core.display.HTML object>"
      ]
     },
     "metadata": {},
     "output_type": "display_data"
    },
    {
     "data": {
      "text/html": [
       "<center><font face=\"garamond\" size=\"4\">Exogenous Other and Ranger</font></center>"
      ],
      "text/plain": [
       "<IPython.core.display.HTML object>"
      ]
     },
     "metadata": {},
     "output_type": "display_data"
    },
    {
     "data": {
      "text/html": [
       "<center><font face=\"garamond\" size=\"4\"> Settler </font></center>"
      ],
      "text/plain": [
       "<IPython.core.display.HTML object>"
      ]
     },
     "metadata": {},
     "output_type": "display_data"
    },
    {
     "name": "stdout",
     "output_type": "stream",
     "text": [
      "\n",
      "\n"
     ]
    },
    {
     "data": {
      "text/html": [
       "<center><font face=\"garamond\" size=\"4\"> Indigene </font></center>"
      ],
      "text/plain": [
       "<IPython.core.display.HTML object>"
      ]
     },
     "metadata": {},
     "output_type": "display_data"
    },
    {
     "data": {
      "text/html": [
       "<center><font face=\"garamond\" size=\"4\">Autonomous and Diverse</font></center>"
      ],
      "text/plain": [
       "<IPython.core.display.HTML object>"
      ]
     },
     "metadata": {},
     "output_type": "display_data"
    },
    {
     "data": {
      "text/html": [
       "<center><font face=\"garamond\" size=\"4\">Resisting, Lobbying, Culture Reclaiming</font></center>"
      ],
      "text/plain": [
       "<IPython.core.display.HTML object>"
      ]
     },
     "metadata": {},
     "output_type": "display_data"
    },
    {
     "data": {
      "text/html": [
       "<center><font face=\"garamond\" size=\"4\">Governmentally Unrecognised and Golf Course Maker</font></center>"
      ],
      "text/plain": [
       "<IPython.core.display.HTML object>"
      ]
     },
     "metadata": {},
     "output_type": "display_data"
    },
    {
     "data": {
      "text/html": [
       "<center><font face=\"garamond\" size=\"4\">Razing, Exploiting, Occupying</font></center>"
      ],
      "text/plain": [
       "<IPython.core.display.HTML object>"
      ]
     },
     "metadata": {},
     "output_type": "display_data"
    },
    {
     "data": {
      "text/html": [
       "<center><font face=\"garamond\" size=\"4\">Stereotyper and Coloniser</font></center>"
      ],
      "text/plain": [
       "<IPython.core.display.HTML object>"
      ]
     },
     "metadata": {},
     "output_type": "display_data"
    },
    {
     "data": {
      "text/html": [
       "<center><font face=\"garamond\" size=\"4\"> Settler </font></center>"
      ],
      "text/plain": [
       "<IPython.core.display.HTML object>"
      ]
     },
     "metadata": {},
     "output_type": "display_data"
    },
    {
     "name": "stdout",
     "output_type": "stream",
     "text": [
      "\n",
      "\n"
     ]
    },
    {
     "data": {
      "text/html": [
       "<center><font face=\"garamond\" size=\"4\"> Indigene </font></center>"
      ],
      "text/plain": [
       "<IPython.core.display.HTML object>"
      ]
     },
     "metadata": {},
     "output_type": "display_data"
    },
    {
     "data": {
      "text/html": [
       "<center><font face=\"garamond\" size=\"4\">Sovereign and Diverse</font></center>"
      ],
      "text/plain": [
       "<IPython.core.display.HTML object>"
      ]
     },
     "metadata": {},
     "output_type": "display_data"
    },
    {
     "data": {
      "text/html": [
       "<center><font face=\"garamond\" size=\"4\">Culture Reclaiming, Rights-Asserting, Resisting</font></center>"
      ],
      "text/plain": [
       "<IPython.core.display.HTML object>"
      ]
     },
     "metadata": {},
     "output_type": "display_data"
    },
    {
     "data": {
      "text/html": [
       "<center><font face=\"garamond\" size=\"4\">Communally Resistant and Continuously Expanding</font></center>"
      ],
      "text/plain": [
       "<IPython.core.display.HTML object>"
      ]
     },
     "metadata": {},
     "output_type": "display_data"
    },
    {
     "data": {
      "text/html": [
       "<center><font face=\"garamond\" size=\"4\">Razing, Farming, Displacing</font></center>"
      ],
      "text/plain": [
       "<IPython.core.display.HTML object>"
      ]
     },
     "metadata": {},
     "output_type": "display_data"
    },
    {
     "data": {
      "text/html": [
       "<center><font face=\"garamond\" size=\"4\">Imperialist and Allotter</font></center>"
      ],
      "text/plain": [
       "<IPython.core.display.HTML object>"
      ]
     },
     "metadata": {},
     "output_type": "display_data"
    },
    {
     "data": {
      "text/html": [
       "<center><font face=\"garamond\" size=\"4\"> Settler </font></center>"
      ],
      "text/plain": [
       "<IPython.core.display.HTML object>"
      ]
     },
     "metadata": {},
     "output_type": "display_data"
    },
    {
     "name": "stdout",
     "output_type": "stream",
     "text": [
      "\n",
      "\n"
     ]
    },
    {
     "data": {
      "text/html": [
       "<center><font face=\"garamond\" size=\"4\"> Indigene </font></center>"
      ],
      "text/plain": [
       "<IPython.core.display.HTML object>"
      ]
     },
     "metadata": {},
     "output_type": "display_data"
    },
    {
     "data": {
      "text/html": [
       "<center><font face=\"garamond\" size=\"4\">Autonomous and Diverse</font></center>"
      ],
      "text/plain": [
       "<IPython.core.display.HTML object>"
      ]
     },
     "metadata": {},
     "output_type": "display_data"
    },
    {
     "data": {
      "text/html": [
       "<center><font face=\"garamond\" size=\"4\">Revitalising, Rights-Asserting, Decolonising</font></center>"
      ],
      "text/plain": [
       "<IPython.core.display.HTML object>"
      ]
     },
     "metadata": {},
     "output_type": "display_data"
    },
    {
     "data": {
      "text/html": [
       "<center><font face=\"garamond\" size=\"4\">Checker-Boarded and Tribal Generaliser</font></center>"
      ],
      "text/plain": [
       "<IPython.core.display.HTML object>"
      ]
     },
     "metadata": {},
     "output_type": "display_data"
    },
    {
     "data": {
      "text/html": [
       "<center><font face=\"garamond\" size=\"4\">School Boarding, Subduing, Eliminating</font></center>"
      ],
      "text/plain": [
       "<IPython.core.display.HTML object>"
      ]
     },
     "metadata": {},
     "output_type": "display_data"
    },
    {
     "data": {
      "text/html": [
       "<center><font face=\"garamond\" size=\"4\">Stereotyper and Exogenous Other</font></center>"
      ],
      "text/plain": [
       "<IPython.core.display.HTML object>"
      ]
     },
     "metadata": {},
     "output_type": "display_data"
    },
    {
     "data": {
      "text/html": [
       "<center><font face=\"garamond\" size=\"4\"> Settler </font></center>"
      ],
      "text/plain": [
       "<IPython.core.display.HTML object>"
      ]
     },
     "metadata": {},
     "output_type": "display_data"
    },
    {
     "name": "stdout",
     "output_type": "stream",
     "text": [
      "\n",
      "\n"
     ]
    },
    {
     "data": {
      "text/html": [
       "<center><font face=\"garamond\" size=\"4\"> Indigene </font></center>"
      ],
      "text/plain": [
       "<IPython.core.display.HTML object>"
      ]
     },
     "metadata": {},
     "output_type": "display_data"
    },
    {
     "data": {
      "text/html": [
       "<center><font face=\"garamond\" size=\"4\">Stewards and Sovereign</font></center>"
      ],
      "text/plain": [
       "<IPython.core.display.HTML object>"
      ]
     },
     "metadata": {},
     "output_type": "display_data"
    },
    {
     "data": {
      "text/html": [
       "<center><font face=\"garamond\" size=\"4\">Culture Reclaiming, Preserving, Revitalising</font></center>"
      ],
      "text/plain": [
       "<IPython.core.display.HTML object>"
      ]
     },
     "metadata": {},
     "output_type": "display_data"
    },
    {
     "data": {
      "text/html": [
       "<center><font face=\"garamond\" size=\"4\">Recognised Globally and Contemporary Invader</font></center>"
      ],
      "text/plain": [
       "<IPython.core.display.HTML object>"
      ]
     },
     "metadata": {},
     "output_type": "display_data"
    },
    {
     "data": {
      "text/html": [
       "<center><font face=\"garamond\" size=\"4\">Eliminating, Displacing, Subduing</font></center>"
      ],
      "text/plain": [
       "<IPython.core.display.HTML object>"
      ]
     },
     "metadata": {},
     "output_type": "display_data"
    },
    {
     "data": {
      "text/html": [
       "<center><font face=\"garamond\" size=\"4\">Ranger and Settler-Colonialist</font></center>"
      ],
      "text/plain": [
       "<IPython.core.display.HTML object>"
      ]
     },
     "metadata": {},
     "output_type": "display_data"
    },
    {
     "data": {
      "text/html": [
       "<center><font face=\"garamond\" size=\"4\"> Settler </font></center>"
      ],
      "text/plain": [
       "<IPython.core.display.HTML object>"
      ]
     },
     "metadata": {},
     "output_type": "display_data"
    },
    {
     "name": "stdout",
     "output_type": "stream",
     "text": [
      "\n",
      "\n"
     ]
    },
    {
     "data": {
      "text/html": [
       "<center><font face=\"garamond\" size=\"4\"> Indigene </font></center>"
      ],
      "text/plain": [
       "<IPython.core.display.HTML object>"
      ]
     },
     "metadata": {},
     "output_type": "display_data"
    },
    {
     "data": {
      "text/html": [
       "<center><font face=\"garamond\" size=\"4\">Diverse and Contemporary</font></center>"
      ],
      "text/plain": [
       "<IPython.core.display.HTML object>"
      ]
     },
     "metadata": {},
     "output_type": "display_data"
    },
    {
     "data": {
      "text/html": [
       "<center><font face=\"garamond\" size=\"4\">Revitalising, Treaty Affirming, Defending</font></center>"
      ],
      "text/plain": [
       "<IPython.core.display.HTML object>"
      ]
     },
     "metadata": {},
     "output_type": "display_data"
    },
    {
     "data": {
      "text/html": [
       "<center><font face=\"garamond\" size=\"4\">Governmentally Unrecognised and Reparation Denier</font></center>"
      ],
      "text/plain": [
       "<IPython.core.display.HTML object>"
      ]
     },
     "metadata": {},
     "output_type": "display_data"
    },
    {
     "data": {
      "text/html": [
       "<center><font face=\"garamond\" size=\"4\">Subduing, Encroaching, Exploiting</font></center>"
      ],
      "text/plain": [
       "<IPython.core.display.HTML object>"
      ]
     },
     "metadata": {},
     "output_type": "display_data"
    },
    {
     "data": {
      "text/html": [
       "<center><font face=\"garamond\" size=\"4\">Stereotyper and Assimilator</font></center>"
      ],
      "text/plain": [
       "<IPython.core.display.HTML object>"
      ]
     },
     "metadata": {},
     "output_type": "display_data"
    },
    {
     "data": {
      "text/html": [
       "<center><font face=\"garamond\" size=\"4\"> Settler </font></center>"
      ],
      "text/plain": [
       "<IPython.core.display.HTML object>"
      ]
     },
     "metadata": {},
     "output_type": "display_data"
    },
    {
     "name": "stdout",
     "output_type": "stream",
     "text": [
      "\n",
      "\n"
     ]
    },
    {
     "data": {
      "text/html": [
       "<center><font face=\"garamond\" size=\"4\"> Indigene </font></center>"
      ],
      "text/plain": [
       "<IPython.core.display.HTML object>"
      ]
     },
     "metadata": {},
     "output_type": "display_data"
    },
    {
     "data": {
      "text/html": [
       "<center><font face=\"garamond\" size=\"4\">Resiliant and Autonomous</font></center>"
      ],
      "text/plain": [
       "<IPython.core.display.HTML object>"
      ]
     },
     "metadata": {},
     "output_type": "display_data"
    },
    {
     "data": {
      "text/html": [
       "<center><font face=\"garamond\" size=\"4\">Revitalising, Culture Reclaiming, Treaty Affirming</font></center>"
      ],
      "text/plain": [
       "<IPython.core.display.HTML object>"
      ]
     },
     "metadata": {},
     "output_type": "display_data"
    },
    {
     "data": {
      "text/html": [
       "<center><font face=\"garamond\" size=\"4\">Politically Shunned and Tribal Generaliser</font></center>"
      ],
      "text/plain": [
       "<IPython.core.display.HTML object>"
      ]
     },
     "metadata": {},
     "output_type": "display_data"
    },
    {
     "data": {
      "text/html": [
       "<center><font face=\"garamond\" size=\"4\">Encroaching, Occupying, Alloting</font></center>"
      ],
      "text/plain": [
       "<IPython.core.display.HTML object>"
      ]
     },
     "metadata": {},
     "output_type": "display_data"
    },
    {
     "data": {
      "text/html": [
       "<center><font face=\"garamond\" size=\"4\">Squatter and Exogenous Other</font></center>"
      ],
      "text/plain": [
       "<IPython.core.display.HTML object>"
      ]
     },
     "metadata": {},
     "output_type": "display_data"
    },
    {
     "data": {
      "text/html": [
       "<center><font face=\"garamond\" size=\"4\"> Settler </font></center>"
      ],
      "text/plain": [
       "<IPython.core.display.HTML object>"
      ]
     },
     "metadata": {},
     "output_type": "display_data"
    },
    {
     "name": "stdout",
     "output_type": "stream",
     "text": [
      "\n",
      "\n"
     ]
    },
    {
     "data": {
      "text/html": [
       "<center><font face=\"garamond\" size=\"4\"> Indigene </font></center>"
      ],
      "text/plain": [
       "<IPython.core.display.HTML object>"
      ]
     },
     "metadata": {},
     "output_type": "display_data"
    },
    {
     "data": {
      "text/html": [
       "<center><font face=\"garamond\" size=\"4\">Diverse and Precolonial</font></center>"
      ],
      "text/plain": [
       "<IPython.core.display.HTML object>"
      ]
     },
     "metadata": {},
     "output_type": "display_data"
    },
    {
     "data": {
      "text/html": [
       "<center><font face=\"garamond\" size=\"4\">Preserving, Defending, Resisting</font></center>"
      ],
      "text/plain": [
       "<IPython.core.display.HTML object>"
      ]
     },
     "metadata": {},
     "output_type": "display_data"
    },
    {
     "data": {
      "text/html": [
       "<center><font face=\"garamond\" size=\"4\">Federally Ignored and Contemporary Invader</font></center>"
      ],
      "text/plain": [
       "<IPython.core.display.HTML object>"
      ]
     },
     "metadata": {},
     "output_type": "display_data"
    },
    {
     "data": {
      "text/html": [
       "<center><font face=\"garamond\" size=\"4\">Eliminating, Alloting, Manipulating</font></center>"
      ],
      "text/plain": [
       "<IPython.core.display.HTML object>"
      ]
     },
     "metadata": {},
     "output_type": "display_data"
    },
    {
     "data": {
      "text/html": [
       "<center><font face=\"garamond\" size=\"4\">Coloniser and Frontiersman</font></center>"
      ],
      "text/plain": [
       "<IPython.core.display.HTML object>"
      ]
     },
     "metadata": {},
     "output_type": "display_data"
    },
    {
     "data": {
      "text/html": [
       "<center><font face=\"garamond\" size=\"4\"> Settler </font></center>"
      ],
      "text/plain": [
       "<IPython.core.display.HTML object>"
      ]
     },
     "metadata": {},
     "output_type": "display_data"
    },
    {
     "name": "stdout",
     "output_type": "stream",
     "text": [
      "\n",
      "\n"
     ]
    },
    {
     "data": {
      "text/html": [
       "<center><font face=\"garamond\" size=\"4\"> Indigene </font></center>"
      ],
      "text/plain": [
       "<IPython.core.display.HTML object>"
      ]
     },
     "metadata": {},
     "output_type": "display_data"
    },
    {
     "data": {
      "text/html": [
       "<center><font face=\"garamond\" size=\"4\">Stewards and Resiliant</font></center>"
      ],
      "text/plain": [
       "<IPython.core.display.HTML object>"
      ]
     },
     "metadata": {},
     "output_type": "display_data"
    },
    {
     "data": {
      "text/html": [
       "<center><font face=\"garamond\" size=\"4\">Lobbying, Revitalising, Preserving</font></center>"
      ],
      "text/plain": [
       "<IPython.core.display.HTML object>"
      ]
     },
     "metadata": {},
     "output_type": "display_data"
    },
    {
     "data": {
      "text/html": [
       "<center><font face=\"garamond\" size=\"4\">Governmentally Unrecognised and Politically dominant</font></center>"
      ],
      "text/plain": [
       "<IPython.core.display.HTML object>"
      ]
     },
     "metadata": {},
     "output_type": "display_data"
    },
    {
     "data": {
      "text/html": [
       "<center><font face=\"garamond\" size=\"4\">Displacing, Subduing, Exploiting</font></center>"
      ],
      "text/plain": [
       "<IPython.core.display.HTML object>"
      ]
     },
     "metadata": {},
     "output_type": "display_data"
    },
    {
     "data": {
      "text/html": [
       "<center><font face=\"garamond\" size=\"4\">Scalper and Ranger</font></center>"
      ],
      "text/plain": [
       "<IPython.core.display.HTML object>"
      ]
     },
     "metadata": {},
     "output_type": "display_data"
    },
    {
     "data": {
      "text/html": [
       "<center><font face=\"garamond\" size=\"4\"> Settler </font></center>"
      ],
      "text/plain": [
       "<IPython.core.display.HTML object>"
      ]
     },
     "metadata": {},
     "output_type": "display_data"
    },
    {
     "name": "stdout",
     "output_type": "stream",
     "text": [
      "\n",
      "\n"
     ]
    },
    {
     "data": {
      "text/html": [
       "<center><font face=\"garamond\" size=\"4\"> Indigene </font></center>"
      ],
      "text/plain": [
       "<IPython.core.display.HTML object>"
      ]
     },
     "metadata": {},
     "output_type": "display_data"
    },
    {
     "data": {
      "text/html": [
       "<center><font face=\"garamond\" size=\"4\">Precolonial and Autonomous</font></center>"
      ],
      "text/plain": [
       "<IPython.core.display.HTML object>"
      ]
     },
     "metadata": {},
     "output_type": "display_data"
    },
    {
     "data": {
      "text/html": [
       "<center><font face=\"garamond\" size=\"4\">Preserving, Resisting, Revitalising</font></center>"
      ],
      "text/plain": [
       "<IPython.core.display.HTML object>"
      ]
     },
     "metadata": {},
     "output_type": "display_data"
    },
    {
     "data": {
      "text/html": [
       "<center><font face=\"garamond\" size=\"4\">Federally Ignored and Politically dominant</font></center>"
      ],
      "text/plain": [
       "<IPython.core.display.HTML object>"
      ]
     },
     "metadata": {},
     "output_type": "display_data"
    },
    {
     "data": {
      "text/html": [
       "<center><font face=\"garamond\" size=\"4\">Eliminating, Subduing, Occupying</font></center>"
      ],
      "text/plain": [
       "<IPython.core.display.HTML object>"
      ]
     },
     "metadata": {},
     "output_type": "display_data"
    },
    {
     "data": {
      "text/html": [
       "<center><font face=\"garamond\" size=\"4\">Scalper and Frontiersman</font></center>"
      ],
      "text/plain": [
       "<IPython.core.display.HTML object>"
      ]
     },
     "metadata": {},
     "output_type": "display_data"
    },
    {
     "data": {
      "text/html": [
       "<center><font face=\"garamond\" size=\"4\"> Settler </font></center>"
      ],
      "text/plain": [
       "<IPython.core.display.HTML object>"
      ]
     },
     "metadata": {},
     "output_type": "display_data"
    },
    {
     "name": "stdout",
     "output_type": "stream",
     "text": [
      "\n",
      "\n"
     ]
    },
    {
     "data": {
      "text/html": [
       "<center><font face=\"garamond\" size=\"4\"> Indigene </font></center>"
      ],
      "text/plain": [
       "<IPython.core.display.HTML object>"
      ]
     },
     "metadata": {},
     "output_type": "display_data"
    },
    {
     "data": {
      "text/html": [
       "<center><font face=\"garamond\" size=\"4\">Diverse and Sovereign</font></center>"
      ],
      "text/plain": [
       "<IPython.core.display.HTML object>"
      ]
     },
     "metadata": {},
     "output_type": "display_data"
    },
    {
     "data": {
      "text/html": [
       "<center><font face=\"garamond\" size=\"4\">Defending, Treaty Affirming, Decolonising</font></center>"
      ],
      "text/plain": [
       "<IPython.core.display.HTML object>"
      ]
     },
     "metadata": {},
     "output_type": "display_data"
    },
    {
     "data": {
      "text/html": [
       "<center><font face=\"garamond\" size=\"4\">Contemporary Stewards and Continuously Expanding</font></center>"
      ],
      "text/plain": [
       "<IPython.core.display.HTML object>"
      ]
     },
     "metadata": {},
     "output_type": "display_data"
    },
    {
     "data": {
      "text/html": [
       "<center><font face=\"garamond\" size=\"4\">Eliminating, Razing, Encroaching</font></center>"
      ],
      "text/plain": [
       "<IPython.core.display.HTML object>"
      ]
     },
     "metadata": {},
     "output_type": "display_data"
    },
    {
     "data": {
      "text/html": [
       "<center><font face=\"garamond\" size=\"4\">Squatter and Ranger</font></center>"
      ],
      "text/plain": [
       "<IPython.core.display.HTML object>"
      ]
     },
     "metadata": {},
     "output_type": "display_data"
    },
    {
     "data": {
      "text/html": [
       "<center><font face=\"garamond\" size=\"4\"> Settler </font></center>"
      ],
      "text/plain": [
       "<IPython.core.display.HTML object>"
      ]
     },
     "metadata": {},
     "output_type": "display_data"
    },
    {
     "name": "stdout",
     "output_type": "stream",
     "text": [
      "\n",
      "\n"
     ]
    },
    {
     "data": {
      "text/html": [
       "<center><font face=\"garamond\" size=\"4\"> Indigene </font></center>"
      ],
      "text/plain": [
       "<IPython.core.display.HTML object>"
      ]
     },
     "metadata": {},
     "output_type": "display_data"
    },
    {
     "data": {
      "text/html": [
       "<center><font face=\"garamond\" size=\"4\">Resiliant and Native</font></center>"
      ],
      "text/plain": [
       "<IPython.core.display.HTML object>"
      ]
     },
     "metadata": {},
     "output_type": "display_data"
    },
    {
     "data": {
      "text/html": [
       "<center><font face=\"garamond\" size=\"4\">Revitalising, Culture Reclaiming, Protesting</font></center>"
      ],
      "text/plain": [
       "<IPython.core.display.HTML object>"
      ]
     },
     "metadata": {},
     "output_type": "display_data"
    },
    {
     "data": {
      "text/html": [
       "<center><font face=\"garamond\" size=\"4\">Culturally Appropriated and Trained Assimilator</font></center>"
      ],
      "text/plain": [
       "<IPython.core.display.HTML object>"
      ]
     },
     "metadata": {},
     "output_type": "display_data"
    },
    {
     "data": {
      "text/html": [
       "<center><font face=\"garamond\" size=\"4\">Farming, Eliminating, Encroaching</font></center>"
      ],
      "text/plain": [
       "<IPython.core.display.HTML object>"
      ]
     },
     "metadata": {},
     "output_type": "display_data"
    },
    {
     "data": {
      "text/html": [
       "<center><font face=\"garamond\" size=\"4\">Ranger and Coloniser</font></center>"
      ],
      "text/plain": [
       "<IPython.core.display.HTML object>"
      ]
     },
     "metadata": {},
     "output_type": "display_data"
    },
    {
     "data": {
      "text/html": [
       "<center><font face=\"garamond\" size=\"4\"> Settler </font></center>"
      ],
      "text/plain": [
       "<IPython.core.display.HTML object>"
      ]
     },
     "metadata": {},
     "output_type": "display_data"
    },
    {
     "name": "stdout",
     "output_type": "stream",
     "text": [
      "\n",
      "\n"
     ]
    },
    {
     "data": {
      "text/html": [
       "<center><font face=\"garamond\" size=\"4\"> Indigene </font></center>"
      ],
      "text/plain": [
       "<IPython.core.display.HTML object>"
      ]
     },
     "metadata": {},
     "output_type": "display_data"
    },
    {
     "data": {
      "text/html": [
       "<center><font face=\"garamond\" size=\"4\">First Peoples and Resiliant</font></center>"
      ],
      "text/plain": [
       "<IPython.core.display.HTML object>"
      ]
     },
     "metadata": {},
     "output_type": "display_data"
    },
    {
     "data": {
      "text/html": [
       "<center><font face=\"garamond\" size=\"4\">Lobbying, Resisting, Decolonising</font></center>"
      ],
      "text/plain": [
       "<IPython.core.display.HTML object>"
      ]
     },
     "metadata": {},
     "output_type": "display_data"
    },
    {
     "data": {
      "text/html": [
       "<center><font face=\"garamond\" size=\"4\">Recognised Globally and Blood Quantamiser</font></center>"
      ],
      "text/plain": [
       "<IPython.core.display.HTML object>"
      ]
     },
     "metadata": {},
     "output_type": "display_data"
    },
    {
     "data": {
      "text/html": [
       "<center><font face=\"garamond\" size=\"4\">Exploiting, School Boarding, Occupying</font></center>"
      ],
      "text/plain": [
       "<IPython.core.display.HTML object>"
      ]
     },
     "metadata": {},
     "output_type": "display_data"
    },
    {
     "data": {
      "text/html": [
       "<center><font face=\"garamond\" size=\"4\">Rancher and Allotter</font></center>"
      ],
      "text/plain": [
       "<IPython.core.display.HTML object>"
      ]
     },
     "metadata": {},
     "output_type": "display_data"
    },
    {
     "data": {
      "text/html": [
       "<center><font face=\"garamond\" size=\"4\"> Settler </font></center>"
      ],
      "text/plain": [
       "<IPython.core.display.HTML object>"
      ]
     },
     "metadata": {},
     "output_type": "display_data"
    },
    {
     "name": "stdout",
     "output_type": "stream",
     "text": [
      "\n",
      "\n"
     ]
    },
    {
     "data": {
      "text/html": [
       "<center><font face=\"garamond\" size=\"4\"> Indigene </font></center>"
      ],
      "text/plain": [
       "<IPython.core.display.HTML object>"
      ]
     },
     "metadata": {},
     "output_type": "display_data"
    },
    {
     "data": {
      "text/html": [
       "<center><font face=\"garamond\" size=\"4\">Stewards and Modern</font></center>"
      ],
      "text/plain": [
       "<IPython.core.display.HTML object>"
      ]
     },
     "metadata": {},
     "output_type": "display_data"
    },
    {
     "data": {
      "text/html": [
       "<center><font face=\"garamond\" size=\"4\">Lobbying, Decolonising, Resisting</font></center>"
      ],
      "text/plain": [
       "<IPython.core.display.HTML object>"
      ]
     },
     "metadata": {},
     "output_type": "display_data"
    },
    {
     "data": {
      "text/html": [
       "<center><font face=\"garamond\" size=\"4\">Politically Shunned and Golf Course Maker</font></center>"
      ],
      "text/plain": [
       "<IPython.core.display.HTML object>"
      ]
     },
     "metadata": {},
     "output_type": "display_data"
    },
    {
     "data": {
      "text/html": [
       "<center><font face=\"garamond\" size=\"4\">Exploiting, Alloting, Displacing</font></center>"
      ],
      "text/plain": [
       "<IPython.core.display.HTML object>"
      ]
     },
     "metadata": {},
     "output_type": "display_data"
    },
    {
     "data": {
      "text/html": [
       "<center><font face=\"garamond\" size=\"4\">Allotter and Coloniser</font></center>"
      ],
      "text/plain": [
       "<IPython.core.display.HTML object>"
      ]
     },
     "metadata": {},
     "output_type": "display_data"
    },
    {
     "data": {
      "text/html": [
       "<center><font face=\"garamond\" size=\"4\"> Settler </font></center>"
      ],
      "text/plain": [
       "<IPython.core.display.HTML object>"
      ]
     },
     "metadata": {},
     "output_type": "display_data"
    },
    {
     "name": "stdout",
     "output_type": "stream",
     "text": [
      "\n",
      "\n"
     ]
    },
    {
     "data": {
      "text/html": [
       "<center><font face=\"garamond\" size=\"4\"> Indigene </font></center>"
      ],
      "text/plain": [
       "<IPython.core.display.HTML object>"
      ]
     },
     "metadata": {},
     "output_type": "display_data"
    },
    {
     "data": {
      "text/html": [
       "<center><font face=\"garamond\" size=\"4\">Diverse and Autonomous</font></center>"
      ],
      "text/plain": [
       "<IPython.core.display.HTML object>"
      ]
     },
     "metadata": {},
     "output_type": "display_data"
    },
    {
     "data": {
      "text/html": [
       "<center><font face=\"garamond\" size=\"4\">Defending, Treaty Affirming, Revitalising</font></center>"
      ],
      "text/plain": [
       "<IPython.core.display.HTML object>"
      ]
     },
     "metadata": {},
     "output_type": "display_data"
    },
    {
     "data": {
      "text/html": [
       "<center><font face=\"garamond\" size=\"4\">Governmentally Unrecognised and Reparation Denier</font></center>"
      ],
      "text/plain": [
       "<IPython.core.display.HTML object>"
      ]
     },
     "metadata": {},
     "output_type": "display_data"
    },
    {
     "data": {
      "text/html": [
       "<center><font face=\"garamond\" size=\"4\">Razing, Farming, Displacing</font></center>"
      ],
      "text/plain": [
       "<IPython.core.display.HTML object>"
      ]
     },
     "metadata": {},
     "output_type": "display_data"
    },
    {
     "data": {
      "text/html": [
       "<center><font face=\"garamond\" size=\"4\">Assimilator and Rancher</font></center>"
      ],
      "text/plain": [
       "<IPython.core.display.HTML object>"
      ]
     },
     "metadata": {},
     "output_type": "display_data"
    },
    {
     "data": {
      "text/html": [
       "<center><font face=\"garamond\" size=\"4\"> Settler </font></center>"
      ],
      "text/plain": [
       "<IPython.core.display.HTML object>"
      ]
     },
     "metadata": {},
     "output_type": "display_data"
    },
    {
     "name": "stdout",
     "output_type": "stream",
     "text": [
      "\n",
      "\n"
     ]
    },
    {
     "data": {
      "text/html": [
       "<center><font face=\"garamond\" size=\"4\"> Indigene </font></center>"
      ],
      "text/plain": [
       "<IPython.core.display.HTML object>"
      ]
     },
     "metadata": {},
     "output_type": "display_data"
    },
    {
     "data": {
      "text/html": [
       "<center><font face=\"garamond\" size=\"4\">Modern and Native</font></center>"
      ],
      "text/plain": [
       "<IPython.core.display.HTML object>"
      ]
     },
     "metadata": {},
     "output_type": "display_data"
    },
    {
     "data": {
      "text/html": [
       "<center><font face=\"garamond\" size=\"4\">Rights-Asserting, Resisting, Preserving</font></center>"
      ],
      "text/plain": [
       "<IPython.core.display.HTML object>"
      ]
     },
     "metadata": {},
     "output_type": "display_data"
    },
    {
     "data": {
      "text/html": [
       "<center><font face=\"garamond\" size=\"4\">Self-Governing and Reparation Denier</font></center>"
      ],
      "text/plain": [
       "<IPython.core.display.HTML object>"
      ]
     },
     "metadata": {},
     "output_type": "display_data"
    },
    {
     "data": {
      "text/html": [
       "<center><font face=\"garamond\" size=\"4\">Exploiting, Eliminating, Razing</font></center>"
      ],
      "text/plain": [
       "<IPython.core.display.HTML object>"
      ]
     },
     "metadata": {},
     "output_type": "display_data"
    },
    {
     "data": {
      "text/html": [
       "<center><font face=\"garamond\" size=\"4\">Assimilator and Squatter</font></center>"
      ],
      "text/plain": [
       "<IPython.core.display.HTML object>"
      ]
     },
     "metadata": {},
     "output_type": "display_data"
    },
    {
     "data": {
      "text/html": [
       "<center><font face=\"garamond\" size=\"4\"> Settler </font></center>"
      ],
      "text/plain": [
       "<IPython.core.display.HTML object>"
      ]
     },
     "metadata": {},
     "output_type": "display_data"
    },
    {
     "name": "stdout",
     "output_type": "stream",
     "text": [
      "\n",
      "\n"
     ]
    },
    {
     "data": {
      "text/html": [
       "<center><font face=\"garamond\" size=\"4\"> Indigene </font></center>"
      ],
      "text/plain": [
       "<IPython.core.display.HTML object>"
      ]
     },
     "metadata": {},
     "output_type": "display_data"
    },
    {
     "data": {
      "text/html": [
       "<center><font face=\"garamond\" size=\"4\">Diverse and Contemporary</font></center>"
      ],
      "text/plain": [
       "<IPython.core.display.HTML object>"
      ]
     },
     "metadata": {},
     "output_type": "display_data"
    },
    {
     "data": {
      "text/html": [
       "<center><font face=\"garamond\" size=\"4\">Defending, Resisting, Preserving</font></center>"
      ],
      "text/plain": [
       "<IPython.core.display.HTML object>"
      ]
     },
     "metadata": {},
     "output_type": "display_data"
    },
    {
     "data": {
      "text/html": [
       "<center><font face=\"garamond\" size=\"4\">Governmentally Unrecognised and Narrative Controller</font></center>"
      ],
      "text/plain": [
       "<IPython.core.display.HTML object>"
      ]
     },
     "metadata": {},
     "output_type": "display_data"
    },
    {
     "data": {
      "text/html": [
       "<center><font face=\"garamond\" size=\"4\">Exploiting, Encroaching, Subduing</font></center>"
      ],
      "text/plain": [
       "<IPython.core.display.HTML object>"
      ]
     },
     "metadata": {},
     "output_type": "display_data"
    },
    {
     "data": {
      "text/html": [
       "<center><font face=\"garamond\" size=\"4\">Stereotyper and Exogenous Other</font></center>"
      ],
      "text/plain": [
       "<IPython.core.display.HTML object>"
      ]
     },
     "metadata": {},
     "output_type": "display_data"
    },
    {
     "data": {
      "text/html": [
       "<center><font face=\"garamond\" size=\"4\"> Settler </font></center>"
      ],
      "text/plain": [
       "<IPython.core.display.HTML object>"
      ]
     },
     "metadata": {},
     "output_type": "display_data"
    },
    {
     "name": "stdout",
     "output_type": "stream",
     "text": [
      "\n",
      "\n"
     ]
    },
    {
     "data": {
      "text/html": [
       "<center><font face=\"garamond\" size=\"4\"> Indigene </font></center>"
      ],
      "text/plain": [
       "<IPython.core.display.HTML object>"
      ]
     },
     "metadata": {},
     "output_type": "display_data"
    },
    {
     "data": {
      "text/html": [
       "<center><font face=\"garamond\" size=\"4\">Resiliant and Precolonial</font></center>"
      ],
      "text/plain": [
       "<IPython.core.display.HTML object>"
      ]
     },
     "metadata": {},
     "output_type": "display_data"
    },
    {
     "data": {
      "text/html": [
       "<center><font face=\"garamond\" size=\"4\">Protesting, Resisting, Culture Reclaiming</font></center>"
      ],
      "text/plain": [
       "<IPython.core.display.HTML object>"
      ]
     },
     "metadata": {},
     "output_type": "display_data"
    },
    {
     "data": {
      "text/html": [
       "<center><font face=\"garamond\" size=\"4\">Communally Resistant and Politically dominant</font></center>"
      ],
      "text/plain": [
       "<IPython.core.display.HTML object>"
      ]
     },
     "metadata": {},
     "output_type": "display_data"
    },
    {
     "data": {
      "text/html": [
       "<center><font face=\"garamond\" size=\"4\">Manipulating, Razing, Displacing</font></center>"
      ],
      "text/plain": [
       "<IPython.core.display.HTML object>"
      ]
     },
     "metadata": {},
     "output_type": "display_data"
    },
    {
     "data": {
      "text/html": [
       "<center><font face=\"garamond\" size=\"4\">Ranger and Rancher</font></center>"
      ],
      "text/plain": [
       "<IPython.core.display.HTML object>"
      ]
     },
     "metadata": {},
     "output_type": "display_data"
    },
    {
     "data": {
      "text/html": [
       "<center><font face=\"garamond\" size=\"4\"> Settler </font></center>"
      ],
      "text/plain": [
       "<IPython.core.display.HTML object>"
      ]
     },
     "metadata": {},
     "output_type": "display_data"
    },
    {
     "name": "stdout",
     "output_type": "stream",
     "text": [
      "\n",
      "\n"
     ]
    },
    {
     "data": {
      "text/html": [
       "<center><font face=\"garamond\" size=\"4\"> Indigene </font></center>"
      ],
      "text/plain": [
       "<IPython.core.display.HTML object>"
      ]
     },
     "metadata": {},
     "output_type": "display_data"
    },
    {
     "data": {
      "text/html": [
       "<center><font face=\"garamond\" size=\"4\">Sovereign and First Peoples</font></center>"
      ],
      "text/plain": [
       "<IPython.core.display.HTML object>"
      ]
     },
     "metadata": {},
     "output_type": "display_data"
    },
    {
     "data": {
      "text/html": [
       "<center><font face=\"garamond\" size=\"4\">Preserving, Rights-Asserting, Treaty Affirming</font></center>"
      ],
      "text/plain": [
       "<IPython.core.display.HTML object>"
      ]
     },
     "metadata": {},
     "output_type": "display_data"
    },
    {
     "data": {
      "text/html": [
       "<center><font face=\"garamond\" size=\"4\">Recognised Globally and Blood Quantamiser</font></center>"
      ],
      "text/plain": [
       "<IPython.core.display.HTML object>"
      ]
     },
     "metadata": {},
     "output_type": "display_data"
    },
    {
     "data": {
      "text/html": [
       "<center><font face=\"garamond\" size=\"4\">Exploiting, Displacing, Alloting</font></center>"
      ],
      "text/plain": [
       "<IPython.core.display.HTML object>"
      ]
     },
     "metadata": {},
     "output_type": "display_data"
    },
    {
     "data": {
      "text/html": [
       "<center><font face=\"garamond\" size=\"4\">Land Grabber and Allotter</font></center>"
      ],
      "text/plain": [
       "<IPython.core.display.HTML object>"
      ]
     },
     "metadata": {},
     "output_type": "display_data"
    },
    {
     "data": {
      "text/html": [
       "<center><font face=\"garamond\" size=\"4\"> Settler </font></center>"
      ],
      "text/plain": [
       "<IPython.core.display.HTML object>"
      ]
     },
     "metadata": {},
     "output_type": "display_data"
    },
    {
     "name": "stdout",
     "output_type": "stream",
     "text": [
      "\n",
      "\n"
     ]
    },
    {
     "data": {
      "text/html": [
       "<center><font face=\"garamond\" size=\"4\"> Indigene </font></center>"
      ],
      "text/plain": [
       "<IPython.core.display.HTML object>"
      ]
     },
     "metadata": {},
     "output_type": "display_data"
    },
    {
     "data": {
      "text/html": [
       "<center><font face=\"garamond\" size=\"4\">Stewards and First Peoples</font></center>"
      ],
      "text/plain": [
       "<IPython.core.display.HTML object>"
      ]
     },
     "metadata": {},
     "output_type": "display_data"
    },
    {
     "data": {
      "text/html": [
       "<center><font face=\"garamond\" size=\"4\">Culture Reclaiming, Decolonising, Defending</font></center>"
      ],
      "text/plain": [
       "<IPython.core.display.HTML object>"
      ]
     },
     "metadata": {},
     "output_type": "display_data"
    },
    {
     "data": {
      "text/html": [
       "<center><font face=\"garamond\" size=\"4\">Culturally Appropriated and Reparation Denier</font></center>"
      ],
      "text/plain": [
       "<IPython.core.display.HTML object>"
      ]
     },
     "metadata": {},
     "output_type": "display_data"
    },
    {
     "data": {
      "text/html": [
       "<center><font face=\"garamond\" size=\"4\">Exploiting, Encroaching, Farming</font></center>"
      ],
      "text/plain": [
       "<IPython.core.display.HTML object>"
      ]
     },
     "metadata": {},
     "output_type": "display_data"
    },
    {
     "data": {
      "text/html": [
       "<center><font face=\"garamond\" size=\"4\">Scalper and Settler-Colonialist</font></center>"
      ],
      "text/plain": [
       "<IPython.core.display.HTML object>"
      ]
     },
     "metadata": {},
     "output_type": "display_data"
    },
    {
     "data": {
      "text/html": [
       "<center><font face=\"garamond\" size=\"4\"> Settler </font></center>"
      ],
      "text/plain": [
       "<IPython.core.display.HTML object>"
      ]
     },
     "metadata": {},
     "output_type": "display_data"
    },
    {
     "name": "stdout",
     "output_type": "stream",
     "text": [
      "\n",
      "\n"
     ]
    },
    {
     "data": {
      "text/html": [
       "<center><font face=\"garamond\" size=\"4\"> Indigene </font></center>"
      ],
      "text/plain": [
       "<IPython.core.display.HTML object>"
      ]
     },
     "metadata": {},
     "output_type": "display_data"
    },
    {
     "data": {
      "text/html": [
       "<center><font face=\"garamond\" size=\"4\">Diverse and Contemporary</font></center>"
      ],
      "text/plain": [
       "<IPython.core.display.HTML object>"
      ]
     },
     "metadata": {},
     "output_type": "display_data"
    },
    {
     "data": {
      "text/html": [
       "<center><font face=\"garamond\" size=\"4\">Revitalising, Culture Reclaiming, Resisting</font></center>"
      ],
      "text/plain": [
       "<IPython.core.display.HTML object>"
      ]
     },
     "metadata": {},
     "output_type": "display_data"
    },
    {
     "data": {
      "text/html": [
       "<center><font face=\"garamond\" size=\"4\">Culturally Appropriated and Cultural Repressor</font></center>"
      ],
      "text/plain": [
       "<IPython.core.display.HTML object>"
      ]
     },
     "metadata": {},
     "output_type": "display_data"
    },
    {
     "data": {
      "text/html": [
       "<center><font face=\"garamond\" size=\"4\">Displacing, Razing, Farming</font></center>"
      ],
      "text/plain": [
       "<IPython.core.display.HTML object>"
      ]
     },
     "metadata": {},
     "output_type": "display_data"
    },
    {
     "data": {
      "text/html": [
       "<center><font face=\"garamond\" size=\"4\">Squatter and Land Grabber</font></center>"
      ],
      "text/plain": [
       "<IPython.core.display.HTML object>"
      ]
     },
     "metadata": {},
     "output_type": "display_data"
    },
    {
     "data": {
      "text/html": [
       "<center><font face=\"garamond\" size=\"4\"> Settler </font></center>"
      ],
      "text/plain": [
       "<IPython.core.display.HTML object>"
      ]
     },
     "metadata": {},
     "output_type": "display_data"
    },
    {
     "name": "stdout",
     "output_type": "stream",
     "text": [
      "\n",
      "\n"
     ]
    },
    {
     "data": {
      "text/html": [
       "<center><font face=\"garamond\" size=\"4\"> Indigene </font></center>"
      ],
      "text/plain": [
       "<IPython.core.display.HTML object>"
      ]
     },
     "metadata": {},
     "output_type": "display_data"
    },
    {
     "data": {
      "text/html": [
       "<center><font face=\"garamond\" size=\"4\">Autonomous and Native</font></center>"
      ],
      "text/plain": [
       "<IPython.core.display.HTML object>"
      ]
     },
     "metadata": {},
     "output_type": "display_data"
    },
    {
     "data": {
      "text/html": [
       "<center><font face=\"garamond\" size=\"4\">Treaty Affirming, Culture Reclaiming, Defending</font></center>"
      ],
      "text/plain": [
       "<IPython.core.display.HTML object>"
      ]
     },
     "metadata": {},
     "output_type": "display_data"
    },
    {
     "data": {
      "text/html": [
       "<center><font face=\"garamond\" size=\"4\">Governmentally Unrecognised and Tribal Generaliser</font></center>"
      ],
      "text/plain": [
       "<IPython.core.display.HTML object>"
      ]
     },
     "metadata": {},
     "output_type": "display_data"
    },
    {
     "data": {
      "text/html": [
       "<center><font face=\"garamond\" size=\"4\">Exploiting, Razing, Alloting</font></center>"
      ],
      "text/plain": [
       "<IPython.core.display.HTML object>"
      ]
     },
     "metadata": {},
     "output_type": "display_data"
    },
    {
     "data": {
      "text/html": [
       "<center><font face=\"garamond\" size=\"4\">Frontiersman and Land Grabber</font></center>"
      ],
      "text/plain": [
       "<IPython.core.display.HTML object>"
      ]
     },
     "metadata": {},
     "output_type": "display_data"
    },
    {
     "data": {
      "text/html": [
       "<center><font face=\"garamond\" size=\"4\"> Settler </font></center>"
      ],
      "text/plain": [
       "<IPython.core.display.HTML object>"
      ]
     },
     "metadata": {},
     "output_type": "display_data"
    },
    {
     "name": "stdout",
     "output_type": "stream",
     "text": [
      "\n",
      "\n"
     ]
    },
    {
     "data": {
      "text/html": [
       "<center><font face=\"garamond\" size=\"4\"> Indigene </font></center>"
      ],
      "text/plain": [
       "<IPython.core.display.HTML object>"
      ]
     },
     "metadata": {},
     "output_type": "display_data"
    },
    {
     "data": {
      "text/html": [
       "<center><font face=\"garamond\" size=\"4\">Autonomous and Modern</font></center>"
      ],
      "text/plain": [
       "<IPython.core.display.HTML object>"
      ]
     },
     "metadata": {},
     "output_type": "display_data"
    },
    {
     "data": {
      "text/html": [
       "<center><font face=\"garamond\" size=\"4\">Culture Reclaiming, Preserving, Decolonising</font></center>"
      ],
      "text/plain": [
       "<IPython.core.display.HTML object>"
      ]
     },
     "metadata": {},
     "output_type": "display_data"
    },
    {
     "data": {
      "text/html": [
       "<center><font face=\"garamond\" size=\"4\">Federally Ignored and Continuously Expanding</font></center>"
      ],
      "text/plain": [
       "<IPython.core.display.HTML object>"
      ]
     },
     "metadata": {},
     "output_type": "display_data"
    },
    {
     "data": {
      "text/html": [
       "<center><font face=\"garamond\" size=\"4\">Razing, Alloting, Displacing</font></center>"
      ],
      "text/plain": [
       "<IPython.core.display.HTML object>"
      ]
     },
     "metadata": {},
     "output_type": "display_data"
    },
    {
     "data": {
      "text/html": [
       "<center><font face=\"garamond\" size=\"4\">Stereotyper and Coloniser</font></center>"
      ],
      "text/plain": [
       "<IPython.core.display.HTML object>"
      ]
     },
     "metadata": {},
     "output_type": "display_data"
    },
    {
     "data": {
      "text/html": [
       "<center><font face=\"garamond\" size=\"4\"> Settler </font></center>"
      ],
      "text/plain": [
       "<IPython.core.display.HTML object>"
      ]
     },
     "metadata": {},
     "output_type": "display_data"
    },
    {
     "name": "stdout",
     "output_type": "stream",
     "text": [
      "\n",
      "\n"
     ]
    },
    {
     "data": {
      "text/html": [
       "<center><font face=\"garamond\" size=\"4\"> Indigene </font></center>"
      ],
      "text/plain": [
       "<IPython.core.display.HTML object>"
      ]
     },
     "metadata": {},
     "output_type": "display_data"
    },
    {
     "data": {
      "text/html": [
       "<center><font face=\"garamond\" size=\"4\">First Peoples and Autonomous</font></center>"
      ],
      "text/plain": [
       "<IPython.core.display.HTML object>"
      ]
     },
     "metadata": {},
     "output_type": "display_data"
    },
    {
     "data": {
      "text/html": [
       "<center><font face=\"garamond\" size=\"4\">Lobbying, Resisting, Culture Reclaiming</font></center>"
      ],
      "text/plain": [
       "<IPython.core.display.HTML object>"
      ]
     },
     "metadata": {},
     "output_type": "display_data"
    },
    {
     "data": {
      "text/html": [
       "<center><font face=\"garamond\" size=\"4\">Politically Shunned and Contemporary Invader</font></center>"
      ],
      "text/plain": [
       "<IPython.core.display.HTML object>"
      ]
     },
     "metadata": {},
     "output_type": "display_data"
    },
    {
     "data": {
      "text/html": [
       "<center><font face=\"garamond\" size=\"4\">Encroaching, Eliminating, Farming</font></center>"
      ],
      "text/plain": [
       "<IPython.core.display.HTML object>"
      ]
     },
     "metadata": {},
     "output_type": "display_data"
    },
    {
     "data": {
      "text/html": [
       "<center><font face=\"garamond\" size=\"4\">Exogenous Other and Rancher</font></center>"
      ],
      "text/plain": [
       "<IPython.core.display.HTML object>"
      ]
     },
     "metadata": {},
     "output_type": "display_data"
    },
    {
     "data": {
      "text/html": [
       "<center><font face=\"garamond\" size=\"4\"> Settler </font></center>"
      ],
      "text/plain": [
       "<IPython.core.display.HTML object>"
      ]
     },
     "metadata": {},
     "output_type": "display_data"
    },
    {
     "name": "stdout",
     "output_type": "stream",
     "text": [
      "\n",
      "\n"
     ]
    },
    {
     "data": {
      "text/html": [
       "<center><font face=\"garamond\" size=\"4\"> Indigene </font></center>"
      ],
      "text/plain": [
       "<IPython.core.display.HTML object>"
      ]
     },
     "metadata": {},
     "output_type": "display_data"
    },
    {
     "data": {
      "text/html": [
       "<center><font face=\"garamond\" size=\"4\">First Peoples and Resiliant</font></center>"
      ],
      "text/plain": [
       "<IPython.core.display.HTML object>"
      ]
     },
     "metadata": {},
     "output_type": "display_data"
    },
    {
     "data": {
      "text/html": [
       "<center><font face=\"garamond\" size=\"4\">Rights-Asserting, Revitalising, Protesting</font></center>"
      ],
      "text/plain": [
       "<IPython.core.display.HTML object>"
      ]
     },
     "metadata": {},
     "output_type": "display_data"
    },
    {
     "data": {
      "text/html": [
       "<center><font face=\"garamond\" size=\"4\">Culturally Appropriated and Golf Course Maker</font></center>"
      ],
      "text/plain": [
       "<IPython.core.display.HTML object>"
      ]
     },
     "metadata": {},
     "output_type": "display_data"
    },
    {
     "data": {
      "text/html": [
       "<center><font face=\"garamond\" size=\"4\">Encroaching, Razing, Eliminating</font></center>"
      ],
      "text/plain": [
       "<IPython.core.display.HTML object>"
      ]
     },
     "metadata": {},
     "output_type": "display_data"
    },
    {
     "data": {
      "text/html": [
       "<center><font face=\"garamond\" size=\"4\">Settler-Colonialist and Land Grabber</font></center>"
      ],
      "text/plain": [
       "<IPython.core.display.HTML object>"
      ]
     },
     "metadata": {},
     "output_type": "display_data"
    },
    {
     "data": {
      "text/html": [
       "<center><font face=\"garamond\" size=\"4\"> Settler </font></center>"
      ],
      "text/plain": [
       "<IPython.core.display.HTML object>"
      ]
     },
     "metadata": {},
     "output_type": "display_data"
    },
    {
     "name": "stdout",
     "output_type": "stream",
     "text": [
      "\n"
     ]
    },
    {
     "ename": "KeyboardInterrupt",
     "evalue": "",
     "output_type": "error",
     "traceback": [
      "\u001b[1;31m---------------------------------------------------------------------------\u001b[0m",
      "\u001b[1;31mKeyboardInterrupt\u001b[0m                         Traceback (most recent call last)",
      "Cell \u001b[1;32mIn[12], line 33\u001b[0m\n\u001b[0;32m     31\u001b[0m display(HTML(\u001b[38;5;124m'\u001b[39m\u001b[38;5;124m<center><font face=\u001b[39m\u001b[38;5;124m\"\u001b[39m\u001b[38;5;124mgaramond\u001b[39m\u001b[38;5;124m\"\u001b[39m\u001b[38;5;124m size=\u001b[39m\u001b[38;5;124m\"\u001b[39m\u001b[38;5;124m4\u001b[39m\u001b[38;5;124m\"\u001b[39m\u001b[38;5;124m> Settler </font></center>\u001b[39m\u001b[38;5;124m'\u001b[39m)) \u001b[38;5;66;03m#replace BOOK with your second topic word\u001b[39;00m\n\u001b[0;32m     32\u001b[0m \u001b[38;5;28mprint\u001b[39m(\u001b[38;5;124m'\u001b[39m\u001b[38;5;124m'\u001b[39m)\n\u001b[1;32m---> 33\u001b[0m time\u001b[38;5;241m.\u001b[39msleep(\u001b[38;5;241m5\u001b[39m)\n",
      "\u001b[1;31mKeyboardInterrupt\u001b[0m: "
     ]
    }
   ],
   "source": [
    "while True: \n",
    "    print('')\n",
    "    display(HTML('<center><font face=\"garamond\" size=\"4\"> Indigene </font></center>')) #Replace SHIP with your first topic word\n",
    "    first_topic_first_choice = choice(first_topic)\n",
    "    first_topic.remove(first_topic_first_choice)\n",
    "    first_topic_second_choice = choice(first_topic)\n",
    "    first_topic.append(first_topic_first_choice)\n",
    "    display(HTML('<center><font face=\"garamond\" size=\"4\">' + first_topic_first_choice + ' and ' + first_topic_second_choice + '</font></center>'))\n",
    "    first_topic_ing_first_choice = choice(first_topic_ing)\n",
    "    first_topic_ing.remove(first_topic_ing_first_choice)\n",
    "    first_topic_ing_second_choice = choice(first_topic_ing)\n",
    "    first_topic_ing.remove(first_topic_ing_second_choice)\n",
    "    first_topic_ing_third_choice = choice(first_topic_ing)\n",
    "    first_topic_ing.append(first_topic_ing_first_choice)\n",
    "    first_topic_ing.append(first_topic_ing_second_choice)\n",
    "    display(HTML('<center><font face=\"garamond\" size=\"4\">' + first_topic_ing_first_choice + ', ' + first_topic_ing_second_choice + ', ' + first_topic_ing_third_choice + '</font></center>'))\n",
    "    display(HTML('<center><font face=\"garamond\" size=\"4\">' + choice(first_topic_transition) + ' and ' + choice(second_topic_transition) + '</font></center>'))\n",
    "    second_topic_ing_first_choice = choice(second_topic_ing)\n",
    "    second_topic_ing.remove(second_topic_ing_first_choice)\n",
    "    second_topic_ing_second_choice = choice(second_topic_ing)\n",
    "    second_topic_ing.remove(second_topic_ing_second_choice)\n",
    "    second_topic_ing_third_choice = choice(second_topic_ing)\n",
    "    second_topic_ing.append(second_topic_ing_first_choice)\n",
    "    second_topic_ing.append(second_topic_ing_second_choice)\n",
    "    display(HTML('<center><font face=\"garamond\" size=\"4\">' + second_topic_ing_first_choice + ', ' + second_topic_ing_second_choice + ', ' + second_topic_ing_third_choice + '</font></center>'))\n",
    "    second_topic_first_choice = choice(second_topic)\n",
    "    second_topic.remove(second_topic_first_choice)\n",
    "    second_topic_second_choice = choice(second_topic)\n",
    "    second_topic.append(second_topic_first_choice)\n",
    "    display(HTML('<center><font face=\"garamond\" size=\"4\">' + second_topic_first_choice + ' and ' + second_topic_second_choice + '</font></center>'))\n",
    "    display(HTML('<center><font face=\"garamond\" size=\"4\"> Settler </font></center>')) #replace BOOK with your second topic word\n",
    "    print('')\n",
    "    time.sleep(5)"
   ]
  },
  {
   "cell_type": "markdown",
   "metadata": {},
   "source": [
    "Don't forget to periodically save your work by clicking the disc icon in the top left of the menu. Give your file a new name by selecting \"Rename\" from the File pulldown menu."
   ]
  },
  {
   "cell_type": "markdown",
   "metadata": {},
   "source": [
    "# James Cho Artist Statement"
   ]
  },
  {
   "attachments": {
    "DiamantePoem1.png": {
     "image/png": "[encoded data removed]"
    }
   },
   "cell_type": "markdown",
   "metadata": {},
   "source": [
    "<div>\n",
    "<img src=\"attachment:DiamantePoem1.png\" width=\"300\" height=\"200\" align=\"left\"/>\n",
    "</div>\n",
    "\n",
    "<img src=\"DiamantePoem3.png\" width=\"240\" height=\"240\" align=\"centre\"/>"
   ]
  },
  {
   "cell_type": "markdown",
   "metadata": {},
   "source": [
    "### What is the intended theme or style of your piece? Are the atmospherics mysterious, meditative, comic, campy, or something else entirely? Were you inspired by any particular books, films, or other media?"
   ]
  },
  {
   "cell_type": "markdown",
   "metadata": {},
   "source": [
    "<span style = \"font-family:Time New Roman; font-size:16px\">\n",
    "\n",
    "There are two themes in my diamante poem, and they play a role in the terminology I used for “Indigene” and “Settler”. The first theme is one of continued resistance and perseverance of Indigenous communities today. As seen in my examples above every term used in relation to “Indigene” highlights how Indigenous peoples today are still very much alive and kicking. For example, in the second example I’ve posted above (from the left) the words “First Peoples and Modern” repudiate that very belief by the continued defense, resistance, and lobbying that Indigenous nations continue to do today in the face of the “Settler”. The settler who for centuries has tried to eliminate, occupy, and assimilate Indigenous people or deny the existence of modern Indigenous people, labelling them as “inauthentic”. \n",
    "\n",
    "The other theme of my poems is centred around the “Settler”. Namely, the theme is settler-colonialism as a destructive and ongoing process to this day. For example, in my word banks the “-ing” words of “School Boarding”, “Eliminating” as well as “Checker-Boarded”, “Land Grabber” and so on reflect the reality of what settler colonialism was to Indigenous people: death or cultural death. All of these words reflect how European and American settlers have and continue to squat, bully, and demean Indigenous people throughout time. Using techniques learned from England, this theme of settler-colonialism, as well as both the strategies used to implement it as well as it’s effects are embodied through the words I’ve chosen to describe or characterise what being a “Settler” means. \n",
    "   \n",
    "As such, the atmospherics of my poems are quite serious and dire, but also hopeful. While Indigenous peoples still face down many in local, state, and federal government bodies who want to appropriate their lands or deny their existence, Indigenous nations are formulating plans for cultural revitalisation in younger generations. The many problems that they face are hard to dismantle, whether it be stereotypes or narrative control over the histories of Indigenous nations, land disputes, and simply existing, newer generations of both Indigenous and non-Indigenous peoples are making genuine attempts to save Indigenous cultures, ways of life, and to include Native actors throughout time in popular historical narratives. \n",
    "    \n",
    "In terms of inspirations, I have many. Without a doubt the most influential of them is Assassin’s Creed 3. It’s the entire reason why I’m very interested in Native Studies as a whole, how popular culture views and creates different perceptions of what being “native” means, and what historical and ahistorical (as in novel) problems Indigenous people face today. Although I do not have a stake per se in Indigenous life, Ratonhnhaké:ton or Connor as he’s better known played a major role in my life while growing up as one of the first main characters that I got to play as from a triple-A game on a PC. Besides AC3, my inspiration for many of the words that I’ve included come from readings that I’ve read for my Intro to Native Studies class this semester. Chief among them was Vine Deloria Jr.’s Custer Died For Your Sins, from which I probably drew 80% of the words included for both “Indigene” and “Settler”. Considered to be one of if not the father of Native Studies, Deloria’s arguments about indigeneity and the terms he used in this book seemed indispensable for my poems since they are quite literally the foundation upon the themes I have used for my poems. Besides his work, I would say that twenty percent of the rest of the terms I’ve used have been in relation to the other miscellaneous readings I’ve gone over regarding land, indigenous modernism (and it’s denial by non-Indigenous people), and sovereignty. \n",
    "\n",
    "\n",
    "</span>"
   ]
  },
  {
   "cell_type": "markdown",
   "metadata": {},
   "source": [
    "### Did you encounter any setbacks, either artistic or technological? How did you address them?"
   ]
  },
  {
   "cell_type": "markdown",
   "metadata": {},
   "source": [
    "<span style = \"font-family:Time New Roman; font-size:16px\">\n",
    "\n",
    "I only really had two “setbacks” when it came to making this diamante generator. The first was a self-imposed artistic setback in terms of finding the right words to include in the generator. Not because of the possibility of offending or misrepresenting Indigeneity (I talked extensively with my Native Studies professor who is Indigenous herself to make sure that I wasn’t including anything bad) but mainly dialing back when it came to words that might make my classmates squeamish or uncomfortable given the horrifying history of settler-colonialism in the US. For example, while I wanted to include “scalper” and “redskinner/ing” as references to European and Americans scalping Native peoples as a sport (in relation to the Rangers who collected bounties for scalps, hence “red skin” because of the bloodied corpses they left behind) I thought that it was much too gruesome to include those words. As such, many words that are deeply rooted and incredibly important to reflect on when it comes to looking back at what happened and the reality of these problems that persist today were omitted for that reason. \n",
    "\n",
    "The second setback was technological and artistic, though it wasn't project-breaking (as in, too complicated for a beginner-coder like me to try and do). I wanted to figure out how to modify the code such that the words “Indigene” and “Settler” would phase in and out in a way that the word “Indigene” would change and cycle through the hundreds of both federally recognised and non-recognised Indigenous tribes while “Settler” would cycle through the names of European countries, American States, and major actors like Andrew Jackson or James Fenimore Cooper. That way, I could highlight the continued existence of Indigenous people while also pointing out how celebrated figures throughout history (including the 20th century) had shaped the lives of Indigenous people today. I was unfortunately not able to do this because of my lack of experience in coding, though again unlike a scenario where I could have lost all my progress or some other catastrophe, my setbacks were mainly due to my own limitations or decisions.  \n",
    "</span>"
   ]
  },
  {
   "cell_type": "markdown",
   "metadata": {},
   "source": [
    "### What illustrations did you choose and why?"
   ]
  },
  {
   "cell_type": "markdown",
   "metadata": {},
   "source": [
    "<span style = \"font-family:Time New Roman; font-size:16px\">\n",
    "    \n",
    "The Indigenous identification cards (blood percentage/amount), and the Carlisle school. I chose these two illustrations because they are the products of settler-colonialism and the visual representations of some of the words I used in my generator. For example, one of the topic transition words that I have relate directly to Indigenous identification cards, that being “Blood Quantamiser”. As seen in the identification card, and running with my argument from the first question about Indigenous authenticity, these cards act as a way of disproving the narrative of the modern Indigenous inauthenticity. The idea of quantimising blood was born from and used by the federal government for all non-white peoples and races, but Indigenous people have turned it into a strategy of resistance today. By using the card to legally prove that while possibly mixed (in that for most tribes you have to prove that you’re 1/4th from a given tribe ancestrally) and not appearing like the stereotyped Native, they are still very much present today. As such, the image of the Indigenous identification card aligns with both my word choice and my theme of Indigenous resistance in the modern day.\n",
    "    \n",
    "Similarly, my use of the Carlisle school is an obvious reference to school boarding as one of my -ing descriptors for Settler. Here, much like how I personified my theme of Indigenous resistance with the identification card, I personify the theme of settler-colonialism as a destructive force. All across the country, boarding schools were used to target Indigenous children in an attempt to assimilate them so that Indigenous cultures would die. They were beaten, mentally, physically, and sometimes sexually abused, and many died from that abuse or from diseases that the white teachers ignored, leading to many dying at the schools. All while the government forced adult Indigenous persons to deal with allotment, squatting, and genocidal violence, creating a two-pronged attack by settlers on Indigenous nations. But regarding the boarding schools as a part of settler-colonialism, I specifically chose it over the other schools because it was not just the first federally and state-funded boarding school, but the one that set the standards for every single school that came after it, in that it’s motto was to “kill the Indian and Save the Man” and that it’s education program was based on the Fort Marion Prison in Florida. As the embodiment of the destructive nature of settler-colonialism, especially when aimed at children, I believe that the image of the Carlisle school is incredibly important to use as a symbol of that theme. \n",
    "</span>"
   ]
  },
  {
   "cell_type": "markdown",
   "metadata": {},
   "source": [
    "### What made you select the stanzas you did for curation? What intrigued you about them?"
   ]
  },
  {
   "cell_type": "markdown",
   "metadata": {},
   "source": [
    "<span style = \"font-family:Time New Roman; font-size:16px\">\n",
    "\n",
    "I’ve picked out two of my poems/stanzas for curation, mainly because I found that these two interestingly had the exact or near-exact descriptions, transition words, and so on that I had chosen to juxtapose each other when coming up with words for “Indigene” and “Settler”. I say that this is interesting, since although I don’t have an incredibly large collection of words the odds of finding these very specific words across the two separate word banks for “Indigene-Settler” was not incredibly high and so the fact that I got six total stanzas outside of the two stanzas I’ve curated here, that showcase the juxtapositions that denote the contrast between Indigenous peoples and Settlers is incredible. For example: In the first stanza that I’ve picked out, we can observe the contrast between the second and 6th lines of “Native and Autonomous” and “Exogenous Other and Coloniser”. In these context Native and Exogenous other highlight how Indigenous people were, well, Native peoples that exercised their sovereign rights autonomously while settlers have always been an “other” who has come under a given government (Europe or the US) to colonise indigenous space. Additionally, the transition words in the fourth line also juxtapose each other marvellously. Whereas Indigenous people were and have always tried to maintain their sovereignty (i.e. “Self-governing”), since the introduction of European settlers it has been the Settler who controls both the narrative on history but also over Indigenous life. For these reasons, I kind of wonder how the intricacies of the diamante generator worked in such a way to bring this poem together since out of the possibilities this one cropped up on my first run of the generator (admittedly though after waiting about 3-5 minutes for it). \n",
    "    \n",
    "For my second poem that I’ve chosen, what surprised me a lot was how this word combination in the stanza were centred around modernism in relation to settler-colonialism while still juxtaposing “Indigene” and “Settler”. Namely, for Indigene the second line reading “First Peoples and Modern” denotes how while Indigenous people were the aboriginal inhabitants of what is now the Americas, they still exist today. On top of that, while they may use some modern technology for their traditions today, that itself is part of the “revitalisation” process of their cultures. They have the right to assert themselves and protest against non-Indigenous hate and misunderstandings aimed at them due to the common narrative that to be “authentically” indigenous one has to be stuck in the past. Similarly, for Settler, the stanza here acknowledges the same concepts. While the “Frontiersman” and “Coloniser” might have disappeared from history after the US stretched from sea to shining sea, their efforts to destabalise Indigenous peoples continued throughout the late 19th, 20th, and 21st centuries to this day. Quite notably, the US colonised much of Latin America, Hawaii, the Philippines, and so on after accomplishing mainland manifest destiny. And notably, in the fifth line of this stanza that notes the historical process of “Razing, Displacing, [and] Farming” when it comes to settler-colonialism, the mysterious circumstances around the fires of Hawaii a couple weeks ago seem oddly familiar. Without warning, much of Maui was razed, meaning not just the land but also indigenous Hawaiian peoples, and left many of the survivors displaced. This caused a lot of conspiracies and distrust among indigenous peoples when the US came in to help, since in the past this has been one of the formulas that the US has used to spread it’s imperial holdings for growing farms. \n",
    "    \n",
    "Lastly, in regard to the transition words for this second poem, for Indigene the poem has “Checker-Boarded” and Settler has “Contemporary Invader”. While the word for Settler might be explained with what I discussed above, Checker-boarded is another historical yet contemporary problem for Indigenous people. The term refers to the issue of allotment that happened during the 1800s and into the 1900s where the US illegally privatised and split up indigenous lands into sectors of private property that the government forced Indigenous people to either buy back or sell. As a result, many reservations or Indigenous territories are parcelled into sections owned by Indigenous people and those owned by non-Indigenous people, hence “checker-boarded” land. To this day, many tribes like the Navajo, the Ojibwe, and others still face this issue of not “owning” their land, which again rebuts the notion that Indigenous people are all dead or unable to be “modern” while also proving that Indigenous dependency on US aid is due to the utter distruction of Indigenous ways of life. \n",
    "\n",
    "</span>"
   ]
  },
  {
   "cell_type": "markdown",
   "metadata": {},
   "source": [
    "### Do you feel any creative ownership over your modded version? Why or why not? Who is the author (or authors) of your modded version--you or the machine?"
   ]
  },
  {
   "cell_type": "markdown",
   "metadata": {},
   "source": [
    "<span style = \"font-family:Time New Roman; font-size:16px\">\n",
    "\n",
    "Not especially since I didn’t write the code or combined the stanzas. My only real input would be the words that I chose, but again those were drawn from my Indigenous class’s readings, and the code is the one that assembled the diamante poems. The only license I would have in my opinion is what I chose to include from the pool of reading terminology used in my poems. Because in terms of the content, content curation, and so on, I was not the author of the poems generated by the diamante coding. I do feel some sort of creative \"ownership\" in a way, but moreso as the composer of the general themes and arguments that the generated poems emulate. Kind of like a sense of pride or satisfaction rather than outright ownership/copyright ownership in what the generator has been able to do with the limited role I had in actually creating the poems, since I know that I would personally not have been able to create as many unique combinations with the words that I used for this generator compared to the machine. \n",
    "</span>"
   ]
  },
  {
   "cell_type": "markdown",
   "metadata": {},
   "source": [
    "### How have you attempted to “strive for multiplicity” and “the most interesting range of possibilities” that your Diamante mod is capable of?"
   ]
  },
  {
   "cell_type": "markdown",
   "metadata": {},
   "source": [
    "<span style = \"font-family:Time New Roman; font-size:16px\">\n",
    "\n",
    "As I’ve mentioned in other questions, many of the terms that I used are related to or were from readings from my Indigenous Studies class that I’m currently taking. As such, many of the terms are drawn from the breadth of arguments that Indigenous leaders like Vine Deloria, Zitkala-sa, and other Indigenous authors or writers. As such, my “multiplicity” or “range of possibilities” comes from bringing together as many of the key terms that define Indigenous peoples, their struggles, and their perspectives and matched them against the concept of “the settler”. In using the Settler as the antithesis of the Indigene, I’ve attempted to show how many of the arguments made by Indigenous people and the strategies settlers used to displace or erase them from the narrative are intersectional in nature. In these poems I’ve been able to show that even if some of the words might repeat often (most commonly “occupy” from the Settler word bank), that lack of multiplicity is countered by the interconnectedness of the events that took place between Indigenous peoples and settlers. Such that even if they don’t perfectly match up like in the two examples above, they still make up for it by providing a broad range of possible relationships between the origins and meanings behind both sets of words.\n",
    "    \n",
    "And that isn’t to say that I didn’t include a lot of words either, because I did. While not a stupendous amount of words compared to if I had chosen a broader topic, every single one of my word banks for each stanza has either ten or more than ten words in them. Meaning that while I might not have a crazy amount of terms, when it comes to their relevance and diversity to support my themes, there are a lot of unique possible stanzas that the generator can come up with.\n",
    "</span>"
   ]
  },
  {
   "cell_type": "code",
   "execution_count": null,
   "metadata": {},
   "outputs": [],
   "source": []
  }
 ],
 "metadata": {
  "kernelspec": {
   "display_name": "Python 3 (ipykernel)",
   "language": "python",
   "name": "python3"
  },
  "language_info": {
   "codemirror_mode": {
    "name": "ipython",
    "version": 3
   },
   "file_extension": ".py",
   "mimetype": "text/x-python",
   "name": "python",
   "nbconvert_exporter": "python",
   "pygments_lexer": "ipython3",
   "version": "3.11.4"
  }
 },
 "nbformat": 4,
 "nbformat_minor": 4
}
